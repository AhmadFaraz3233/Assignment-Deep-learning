{
  "nbformat": 4,
  "nbformat_minor": 0,
  "metadata": {
    "colab": {
      "name": "Ionosphere Data Problem.ipynb",
      "provenance": []
    },
    "kernelspec": {
      "name": "python3",
      "display_name": "Python 3"
    },
    "language_info": {
      "name": "python"
    }
  },
  "cells": [
    {
      "cell_type": "markdown",
      "metadata": {
        "id": "s_WvBNw3JTkv"
      },
      "source": [
        "# **Ionosphere Data Problem**"
      ]
    },
    {
      "cell_type": "code",
      "metadata": {
        "id": "GXbAB_xfJV3C"
      },
      "source": [
        "import tensorflow as tf\n",
        "import pandas as pd\n",
        "import numpy as np\n",
        "import matplotlib.pyplot as plt"
      ],
      "execution_count": 59,
      "outputs": []
    },
    {
      "cell_type": "markdown",
      "metadata": {
        "id": "C0UfcSbKJhFy"
      },
      "source": [
        "## **Load Data**"
      ]
    },
    {
      "cell_type": "code",
      "metadata": {
        "id": "DzZI6IWCJbsL"
      },
      "source": [
        "# Load the dataset.\n",
        "df = pd.read_csv('ionosphere_data.csv', delimiter=',')"
      ],
      "execution_count": 60,
      "outputs": []
    },
    {
      "cell_type": "code",
      "metadata": {
        "colab": {
          "base_uri": "https://localhost:8080/"
        },
        "id": "b0PjV_Y0Jyhs",
        "outputId": "5974f877-4467-4af5-fa7b-f219f21bb5e9"
      },
      "source": [
        "# Find the shape of the dataset \n",
        "df.shape"
      ],
      "execution_count": 61,
      "outputs": [
        {
          "output_type": "execute_result",
          "data": {
            "text/plain": [
              "(351, 35)"
            ]
          },
          "metadata": {
            "tags": []
          },
          "execution_count": 61
        }
      ]
    },
    {
      "cell_type": "markdown",
      "metadata": {
        "id": "4PCYX54lJ2q6"
      },
      "source": [
        "It's clear from the shape of the data that dataset is not a huge one. Only 351 records are available with 34 features/columns."
      ]
    },
    {
      "cell_type": "code",
      "metadata": {
        "colab": {
          "base_uri": "https://localhost:8080/",
          "height": 224
        },
        "id": "UntCDEi4J-lg",
        "outputId": "9f1daf49-18d8-4f8b-a284-97028fa3c619"
      },
      "source": [
        "df.head()"
      ],
      "execution_count": 62,
      "outputs": [
        {
          "output_type": "execute_result",
          "data": {
            "text/html": [
              "<div>\n",
              "<style scoped>\n",
              "    .dataframe tbody tr th:only-of-type {\n",
              "        vertical-align: middle;\n",
              "    }\n",
              "\n",
              "    .dataframe tbody tr th {\n",
              "        vertical-align: top;\n",
              "    }\n",
              "\n",
              "    .dataframe thead th {\n",
              "        text-align: right;\n",
              "    }\n",
              "</style>\n",
              "<table border=\"1\" class=\"dataframe\">\n",
              "  <thead>\n",
              "    <tr style=\"text-align: right;\">\n",
              "      <th></th>\n",
              "      <th>feature1</th>\n",
              "      <th>feature2</th>\n",
              "      <th>feature3</th>\n",
              "      <th>feature4</th>\n",
              "      <th>feature5</th>\n",
              "      <th>feature6</th>\n",
              "      <th>feature7</th>\n",
              "      <th>feature8</th>\n",
              "      <th>feature9</th>\n",
              "      <th>feature10</th>\n",
              "      <th>feature11</th>\n",
              "      <th>feature12</th>\n",
              "      <th>feature13</th>\n",
              "      <th>feature14</th>\n",
              "      <th>feature15</th>\n",
              "      <th>feature16</th>\n",
              "      <th>feature17</th>\n",
              "      <th>feature18</th>\n",
              "      <th>feature19</th>\n",
              "      <th>feature20</th>\n",
              "      <th>feature21</th>\n",
              "      <th>feature22</th>\n",
              "      <th>feature23</th>\n",
              "      <th>feature24</th>\n",
              "      <th>feature25</th>\n",
              "      <th>feature26</th>\n",
              "      <th>feature27</th>\n",
              "      <th>feature28</th>\n",
              "      <th>feature29</th>\n",
              "      <th>feature30</th>\n",
              "      <th>feature31</th>\n",
              "      <th>feature32</th>\n",
              "      <th>feature33</th>\n",
              "      <th>feature34</th>\n",
              "      <th>label</th>\n",
              "    </tr>\n",
              "  </thead>\n",
              "  <tbody>\n",
              "    <tr>\n",
              "      <th>0</th>\n",
              "      <td>1</td>\n",
              "      <td>0</td>\n",
              "      <td>0.99539</td>\n",
              "      <td>-0.05889</td>\n",
              "      <td>0.85243</td>\n",
              "      <td>0.02306</td>\n",
              "      <td>0.83398</td>\n",
              "      <td>-0.37708</td>\n",
              "      <td>1.00000</td>\n",
              "      <td>0.03760</td>\n",
              "      <td>0.85243</td>\n",
              "      <td>-0.17755</td>\n",
              "      <td>0.59755</td>\n",
              "      <td>-0.44945</td>\n",
              "      <td>0.60536</td>\n",
              "      <td>-0.38223</td>\n",
              "      <td>0.84356</td>\n",
              "      <td>-0.38542</td>\n",
              "      <td>0.58212</td>\n",
              "      <td>-0.32192</td>\n",
              "      <td>0.56971</td>\n",
              "      <td>-0.29674</td>\n",
              "      <td>0.36946</td>\n",
              "      <td>-0.47357</td>\n",
              "      <td>0.56811</td>\n",
              "      <td>-0.51171</td>\n",
              "      <td>0.41078</td>\n",
              "      <td>-0.46168</td>\n",
              "      <td>0.21266</td>\n",
              "      <td>-0.34090</td>\n",
              "      <td>0.42267</td>\n",
              "      <td>-0.54487</td>\n",
              "      <td>0.18641</td>\n",
              "      <td>-0.45300</td>\n",
              "      <td>g</td>\n",
              "    </tr>\n",
              "    <tr>\n",
              "      <th>1</th>\n",
              "      <td>1</td>\n",
              "      <td>0</td>\n",
              "      <td>1.00000</td>\n",
              "      <td>-0.18829</td>\n",
              "      <td>0.93035</td>\n",
              "      <td>-0.36156</td>\n",
              "      <td>-0.10868</td>\n",
              "      <td>-0.93597</td>\n",
              "      <td>1.00000</td>\n",
              "      <td>-0.04549</td>\n",
              "      <td>0.50874</td>\n",
              "      <td>-0.67743</td>\n",
              "      <td>0.34432</td>\n",
              "      <td>-0.69707</td>\n",
              "      <td>-0.51685</td>\n",
              "      <td>-0.97515</td>\n",
              "      <td>0.05499</td>\n",
              "      <td>-0.62237</td>\n",
              "      <td>0.33109</td>\n",
              "      <td>-1.00000</td>\n",
              "      <td>-0.13151</td>\n",
              "      <td>-0.45300</td>\n",
              "      <td>-0.18056</td>\n",
              "      <td>-0.35734</td>\n",
              "      <td>-0.20332</td>\n",
              "      <td>-0.26569</td>\n",
              "      <td>-0.20468</td>\n",
              "      <td>-0.18401</td>\n",
              "      <td>-0.19040</td>\n",
              "      <td>-0.11593</td>\n",
              "      <td>-0.16626</td>\n",
              "      <td>-0.06288</td>\n",
              "      <td>-0.13738</td>\n",
              "      <td>-0.02447</td>\n",
              "      <td>b</td>\n",
              "    </tr>\n",
              "    <tr>\n",
              "      <th>2</th>\n",
              "      <td>1</td>\n",
              "      <td>0</td>\n",
              "      <td>1.00000</td>\n",
              "      <td>-0.03365</td>\n",
              "      <td>1.00000</td>\n",
              "      <td>0.00485</td>\n",
              "      <td>1.00000</td>\n",
              "      <td>-0.12062</td>\n",
              "      <td>0.88965</td>\n",
              "      <td>0.01198</td>\n",
              "      <td>0.73082</td>\n",
              "      <td>0.05346</td>\n",
              "      <td>0.85443</td>\n",
              "      <td>0.00827</td>\n",
              "      <td>0.54591</td>\n",
              "      <td>0.00299</td>\n",
              "      <td>0.83775</td>\n",
              "      <td>-0.13644</td>\n",
              "      <td>0.75535</td>\n",
              "      <td>-0.08540</td>\n",
              "      <td>0.70887</td>\n",
              "      <td>-0.27502</td>\n",
              "      <td>0.43385</td>\n",
              "      <td>-0.12062</td>\n",
              "      <td>0.57528</td>\n",
              "      <td>-0.40220</td>\n",
              "      <td>0.58984</td>\n",
              "      <td>-0.22145</td>\n",
              "      <td>0.43100</td>\n",
              "      <td>-0.17365</td>\n",
              "      <td>0.60436</td>\n",
              "      <td>-0.24180</td>\n",
              "      <td>0.56045</td>\n",
              "      <td>-0.38238</td>\n",
              "      <td>g</td>\n",
              "    </tr>\n",
              "    <tr>\n",
              "      <th>3</th>\n",
              "      <td>1</td>\n",
              "      <td>0</td>\n",
              "      <td>1.00000</td>\n",
              "      <td>-0.45161</td>\n",
              "      <td>1.00000</td>\n",
              "      <td>1.00000</td>\n",
              "      <td>0.71216</td>\n",
              "      <td>-1.00000</td>\n",
              "      <td>0.00000</td>\n",
              "      <td>0.00000</td>\n",
              "      <td>0.00000</td>\n",
              "      <td>0.00000</td>\n",
              "      <td>0.00000</td>\n",
              "      <td>0.00000</td>\n",
              "      <td>-1.00000</td>\n",
              "      <td>0.14516</td>\n",
              "      <td>0.54094</td>\n",
              "      <td>-0.39330</td>\n",
              "      <td>-1.00000</td>\n",
              "      <td>-0.54467</td>\n",
              "      <td>-0.69975</td>\n",
              "      <td>1.00000</td>\n",
              "      <td>0.00000</td>\n",
              "      <td>0.00000</td>\n",
              "      <td>1.00000</td>\n",
              "      <td>0.90695</td>\n",
              "      <td>0.51613</td>\n",
              "      <td>1.00000</td>\n",
              "      <td>1.00000</td>\n",
              "      <td>-0.20099</td>\n",
              "      <td>0.25682</td>\n",
              "      <td>1.00000</td>\n",
              "      <td>-0.32382</td>\n",
              "      <td>1.00000</td>\n",
              "      <td>b</td>\n",
              "    </tr>\n",
              "    <tr>\n",
              "      <th>4</th>\n",
              "      <td>1</td>\n",
              "      <td>0</td>\n",
              "      <td>1.00000</td>\n",
              "      <td>-0.02401</td>\n",
              "      <td>0.94140</td>\n",
              "      <td>0.06531</td>\n",
              "      <td>0.92106</td>\n",
              "      <td>-0.23255</td>\n",
              "      <td>0.77152</td>\n",
              "      <td>-0.16399</td>\n",
              "      <td>0.52798</td>\n",
              "      <td>-0.20275</td>\n",
              "      <td>0.56409</td>\n",
              "      <td>-0.00712</td>\n",
              "      <td>0.34395</td>\n",
              "      <td>-0.27457</td>\n",
              "      <td>0.52940</td>\n",
              "      <td>-0.21780</td>\n",
              "      <td>0.45107</td>\n",
              "      <td>-0.17813</td>\n",
              "      <td>0.05982</td>\n",
              "      <td>-0.35575</td>\n",
              "      <td>0.02309</td>\n",
              "      <td>-0.52879</td>\n",
              "      <td>0.03286</td>\n",
              "      <td>-0.65158</td>\n",
              "      <td>0.13290</td>\n",
              "      <td>-0.53206</td>\n",
              "      <td>0.02431</td>\n",
              "      <td>-0.62197</td>\n",
              "      <td>-0.05707</td>\n",
              "      <td>-0.59573</td>\n",
              "      <td>-0.04608</td>\n",
              "      <td>-0.65697</td>\n",
              "      <td>g</td>\n",
              "    </tr>\n",
              "  </tbody>\n",
              "</table>\n",
              "</div>"
            ],
            "text/plain": [
              "   feature1  feature2  feature3  ...  feature33  feature34  label\n",
              "0         1         0   0.99539  ...    0.18641   -0.45300      g\n",
              "1         1         0   1.00000  ...   -0.13738   -0.02447      b\n",
              "2         1         0   1.00000  ...    0.56045   -0.38238      g\n",
              "3         1         0   1.00000  ...   -0.32382    1.00000      b\n",
              "4         1         0   1.00000  ...   -0.04608   -0.65697      g\n",
              "\n",
              "[5 rows x 35 columns]"
            ]
          },
          "metadata": {
            "tags": []
          },
          "execution_count": 62
        }
      ]
    },
    {
      "cell_type": "code",
      "metadata": {
        "colab": {
          "base_uri": "https://localhost:8080/",
          "height": 1000
        },
        "id": "HSDXHg0_KE-S",
        "outputId": "624f7c01-91af-4005-b438-df730ab906f7"
      },
      "source": [
        "df.describe().T"
      ],
      "execution_count": 63,
      "outputs": [
        {
          "output_type": "execute_result",
          "data": {
            "text/html": [
              "<div>\n",
              "<style scoped>\n",
              "    .dataframe tbody tr th:only-of-type {\n",
              "        vertical-align: middle;\n",
              "    }\n",
              "\n",
              "    .dataframe tbody tr th {\n",
              "        vertical-align: top;\n",
              "    }\n",
              "\n",
              "    .dataframe thead th {\n",
              "        text-align: right;\n",
              "    }\n",
              "</style>\n",
              "<table border=\"1\" class=\"dataframe\">\n",
              "  <thead>\n",
              "    <tr style=\"text-align: right;\">\n",
              "      <th></th>\n",
              "      <th>count</th>\n",
              "      <th>mean</th>\n",
              "      <th>std</th>\n",
              "      <th>min</th>\n",
              "      <th>25%</th>\n",
              "      <th>50%</th>\n",
              "      <th>75%</th>\n",
              "      <th>max</th>\n",
              "    </tr>\n",
              "  </thead>\n",
              "  <tbody>\n",
              "    <tr>\n",
              "      <th>feature1</th>\n",
              "      <td>351.0</td>\n",
              "      <td>0.891738</td>\n",
              "      <td>0.311155</td>\n",
              "      <td>0.0</td>\n",
              "      <td>1.000000</td>\n",
              "      <td>1.00000</td>\n",
              "      <td>1.000000</td>\n",
              "      <td>1.0</td>\n",
              "    </tr>\n",
              "    <tr>\n",
              "      <th>feature2</th>\n",
              "      <td>351.0</td>\n",
              "      <td>0.000000</td>\n",
              "      <td>0.000000</td>\n",
              "      <td>0.0</td>\n",
              "      <td>0.000000</td>\n",
              "      <td>0.00000</td>\n",
              "      <td>0.000000</td>\n",
              "      <td>0.0</td>\n",
              "    </tr>\n",
              "    <tr>\n",
              "      <th>feature3</th>\n",
              "      <td>351.0</td>\n",
              "      <td>0.641342</td>\n",
              "      <td>0.497708</td>\n",
              "      <td>-1.0</td>\n",
              "      <td>0.472135</td>\n",
              "      <td>0.87111</td>\n",
              "      <td>1.000000</td>\n",
              "      <td>1.0</td>\n",
              "    </tr>\n",
              "    <tr>\n",
              "      <th>feature4</th>\n",
              "      <td>351.0</td>\n",
              "      <td>0.044372</td>\n",
              "      <td>0.441435</td>\n",
              "      <td>-1.0</td>\n",
              "      <td>-0.064735</td>\n",
              "      <td>0.01631</td>\n",
              "      <td>0.194185</td>\n",
              "      <td>1.0</td>\n",
              "    </tr>\n",
              "    <tr>\n",
              "      <th>feature5</th>\n",
              "      <td>351.0</td>\n",
              "      <td>0.601068</td>\n",
              "      <td>0.519862</td>\n",
              "      <td>-1.0</td>\n",
              "      <td>0.412660</td>\n",
              "      <td>0.80920</td>\n",
              "      <td>1.000000</td>\n",
              "      <td>1.0</td>\n",
              "    </tr>\n",
              "    <tr>\n",
              "      <th>feature6</th>\n",
              "      <td>351.0</td>\n",
              "      <td>0.115889</td>\n",
              "      <td>0.460810</td>\n",
              "      <td>-1.0</td>\n",
              "      <td>-0.024795</td>\n",
              "      <td>0.02280</td>\n",
              "      <td>0.334655</td>\n",
              "      <td>1.0</td>\n",
              "    </tr>\n",
              "    <tr>\n",
              "      <th>feature7</th>\n",
              "      <td>351.0</td>\n",
              "      <td>0.550095</td>\n",
              "      <td>0.492654</td>\n",
              "      <td>-1.0</td>\n",
              "      <td>0.211310</td>\n",
              "      <td>0.72873</td>\n",
              "      <td>0.969240</td>\n",
              "      <td>1.0</td>\n",
              "    </tr>\n",
              "    <tr>\n",
              "      <th>feature8</th>\n",
              "      <td>351.0</td>\n",
              "      <td>0.119360</td>\n",
              "      <td>0.520750</td>\n",
              "      <td>-1.0</td>\n",
              "      <td>-0.054840</td>\n",
              "      <td>0.01471</td>\n",
              "      <td>0.445675</td>\n",
              "      <td>1.0</td>\n",
              "    </tr>\n",
              "    <tr>\n",
              "      <th>feature9</th>\n",
              "      <td>351.0</td>\n",
              "      <td>0.511848</td>\n",
              "      <td>0.507066</td>\n",
              "      <td>-1.0</td>\n",
              "      <td>0.087110</td>\n",
              "      <td>0.68421</td>\n",
              "      <td>0.953240</td>\n",
              "      <td>1.0</td>\n",
              "    </tr>\n",
              "    <tr>\n",
              "      <th>feature10</th>\n",
              "      <td>351.0</td>\n",
              "      <td>0.181345</td>\n",
              "      <td>0.483851</td>\n",
              "      <td>-1.0</td>\n",
              "      <td>-0.048075</td>\n",
              "      <td>0.01829</td>\n",
              "      <td>0.534195</td>\n",
              "      <td>1.0</td>\n",
              "    </tr>\n",
              "    <tr>\n",
              "      <th>feature11</th>\n",
              "      <td>351.0</td>\n",
              "      <td>0.476183</td>\n",
              "      <td>0.563496</td>\n",
              "      <td>-1.0</td>\n",
              "      <td>0.021120</td>\n",
              "      <td>0.66798</td>\n",
              "      <td>0.957895</td>\n",
              "      <td>1.0</td>\n",
              "    </tr>\n",
              "    <tr>\n",
              "      <th>feature12</th>\n",
              "      <td>351.0</td>\n",
              "      <td>0.155040</td>\n",
              "      <td>0.494817</td>\n",
              "      <td>-1.0</td>\n",
              "      <td>-0.065265</td>\n",
              "      <td>0.02825</td>\n",
              "      <td>0.482375</td>\n",
              "      <td>1.0</td>\n",
              "    </tr>\n",
              "    <tr>\n",
              "      <th>feature13</th>\n",
              "      <td>351.0</td>\n",
              "      <td>0.400801</td>\n",
              "      <td>0.622186</td>\n",
              "      <td>-1.0</td>\n",
              "      <td>0.000000</td>\n",
              "      <td>0.64407</td>\n",
              "      <td>0.955505</td>\n",
              "      <td>1.0</td>\n",
              "    </tr>\n",
              "    <tr>\n",
              "      <th>feature14</th>\n",
              "      <td>351.0</td>\n",
              "      <td>0.093414</td>\n",
              "      <td>0.494873</td>\n",
              "      <td>-1.0</td>\n",
              "      <td>-0.073725</td>\n",
              "      <td>0.03027</td>\n",
              "      <td>0.374860</td>\n",
              "      <td>1.0</td>\n",
              "    </tr>\n",
              "    <tr>\n",
              "      <th>feature15</th>\n",
              "      <td>351.0</td>\n",
              "      <td>0.344159</td>\n",
              "      <td>0.652828</td>\n",
              "      <td>-1.0</td>\n",
              "      <td>0.000000</td>\n",
              "      <td>0.60194</td>\n",
              "      <td>0.919330</td>\n",
              "      <td>1.0</td>\n",
              "    </tr>\n",
              "    <tr>\n",
              "      <th>feature16</th>\n",
              "      <td>351.0</td>\n",
              "      <td>0.071132</td>\n",
              "      <td>0.458371</td>\n",
              "      <td>-1.0</td>\n",
              "      <td>-0.081705</td>\n",
              "      <td>0.00000</td>\n",
              "      <td>0.308975</td>\n",
              "      <td>1.0</td>\n",
              "    </tr>\n",
              "    <tr>\n",
              "      <th>feature17</th>\n",
              "      <td>351.0</td>\n",
              "      <td>0.381949</td>\n",
              "      <td>0.618020</td>\n",
              "      <td>-1.0</td>\n",
              "      <td>0.000000</td>\n",
              "      <td>0.59091</td>\n",
              "      <td>0.935705</td>\n",
              "      <td>1.0</td>\n",
              "    </tr>\n",
              "    <tr>\n",
              "      <th>feature18</th>\n",
              "      <td>351.0</td>\n",
              "      <td>-0.003617</td>\n",
              "      <td>0.496762</td>\n",
              "      <td>-1.0</td>\n",
              "      <td>-0.225690</td>\n",
              "      <td>0.00000</td>\n",
              "      <td>0.195285</td>\n",
              "      <td>1.0</td>\n",
              "    </tr>\n",
              "    <tr>\n",
              "      <th>feature19</th>\n",
              "      <td>351.0</td>\n",
              "      <td>0.359390</td>\n",
              "      <td>0.626267</td>\n",
              "      <td>-1.0</td>\n",
              "      <td>0.000000</td>\n",
              "      <td>0.57619</td>\n",
              "      <td>0.899265</td>\n",
              "      <td>1.0</td>\n",
              "    </tr>\n",
              "    <tr>\n",
              "      <th>feature20</th>\n",
              "      <td>351.0</td>\n",
              "      <td>-0.024025</td>\n",
              "      <td>0.519076</td>\n",
              "      <td>-1.0</td>\n",
              "      <td>-0.234670</td>\n",
              "      <td>0.00000</td>\n",
              "      <td>0.134370</td>\n",
              "      <td>1.0</td>\n",
              "    </tr>\n",
              "    <tr>\n",
              "      <th>feature21</th>\n",
              "      <td>351.0</td>\n",
              "      <td>0.336695</td>\n",
              "      <td>0.609828</td>\n",
              "      <td>-1.0</td>\n",
              "      <td>0.000000</td>\n",
              "      <td>0.49909</td>\n",
              "      <td>0.894865</td>\n",
              "      <td>1.0</td>\n",
              "    </tr>\n",
              "    <tr>\n",
              "      <th>feature22</th>\n",
              "      <td>351.0</td>\n",
              "      <td>0.008296</td>\n",
              "      <td>0.518166</td>\n",
              "      <td>-1.0</td>\n",
              "      <td>-0.243870</td>\n",
              "      <td>0.00000</td>\n",
              "      <td>0.188760</td>\n",
              "      <td>1.0</td>\n",
              "    </tr>\n",
              "    <tr>\n",
              "      <th>feature23</th>\n",
              "      <td>351.0</td>\n",
              "      <td>0.362475</td>\n",
              "      <td>0.603767</td>\n",
              "      <td>-1.0</td>\n",
              "      <td>0.000000</td>\n",
              "      <td>0.53176</td>\n",
              "      <td>0.911235</td>\n",
              "      <td>1.0</td>\n",
              "    </tr>\n",
              "    <tr>\n",
              "      <th>feature24</th>\n",
              "      <td>351.0</td>\n",
              "      <td>-0.057406</td>\n",
              "      <td>0.527456</td>\n",
              "      <td>-1.0</td>\n",
              "      <td>-0.366885</td>\n",
              "      <td>0.00000</td>\n",
              "      <td>0.164630</td>\n",
              "      <td>1.0</td>\n",
              "    </tr>\n",
              "    <tr>\n",
              "      <th>feature25</th>\n",
              "      <td>351.0</td>\n",
              "      <td>0.396135</td>\n",
              "      <td>0.578451</td>\n",
              "      <td>-1.0</td>\n",
              "      <td>0.000000</td>\n",
              "      <td>0.55389</td>\n",
              "      <td>0.905240</td>\n",
              "      <td>1.0</td>\n",
              "    </tr>\n",
              "    <tr>\n",
              "      <th>feature26</th>\n",
              "      <td>351.0</td>\n",
              "      <td>-0.071187</td>\n",
              "      <td>0.508495</td>\n",
              "      <td>-1.0</td>\n",
              "      <td>-0.332390</td>\n",
              "      <td>-0.01505</td>\n",
              "      <td>0.156765</td>\n",
              "      <td>1.0</td>\n",
              "    </tr>\n",
              "    <tr>\n",
              "      <th>feature27</th>\n",
              "      <td>351.0</td>\n",
              "      <td>0.541641</td>\n",
              "      <td>0.516205</td>\n",
              "      <td>-1.0</td>\n",
              "      <td>0.286435</td>\n",
              "      <td>0.70824</td>\n",
              "      <td>0.999945</td>\n",
              "      <td>1.0</td>\n",
              "    </tr>\n",
              "    <tr>\n",
              "      <th>feature28</th>\n",
              "      <td>351.0</td>\n",
              "      <td>-0.069538</td>\n",
              "      <td>0.550025</td>\n",
              "      <td>-1.0</td>\n",
              "      <td>-0.443165</td>\n",
              "      <td>-0.01769</td>\n",
              "      <td>0.153535</td>\n",
              "      <td>1.0</td>\n",
              "    </tr>\n",
              "    <tr>\n",
              "      <th>feature29</th>\n",
              "      <td>351.0</td>\n",
              "      <td>0.378445</td>\n",
              "      <td>0.575886</td>\n",
              "      <td>-1.0</td>\n",
              "      <td>0.000000</td>\n",
              "      <td>0.49664</td>\n",
              "      <td>0.883465</td>\n",
              "      <td>1.0</td>\n",
              "    </tr>\n",
              "    <tr>\n",
              "      <th>feature30</th>\n",
              "      <td>351.0</td>\n",
              "      <td>-0.027907</td>\n",
              "      <td>0.507974</td>\n",
              "      <td>-1.0</td>\n",
              "      <td>-0.236885</td>\n",
              "      <td>0.00000</td>\n",
              "      <td>0.154075</td>\n",
              "      <td>1.0</td>\n",
              "    </tr>\n",
              "    <tr>\n",
              "      <th>feature31</th>\n",
              "      <td>351.0</td>\n",
              "      <td>0.352514</td>\n",
              "      <td>0.571483</td>\n",
              "      <td>-1.0</td>\n",
              "      <td>0.000000</td>\n",
              "      <td>0.44277</td>\n",
              "      <td>0.857620</td>\n",
              "      <td>1.0</td>\n",
              "    </tr>\n",
              "    <tr>\n",
              "      <th>feature32</th>\n",
              "      <td>351.0</td>\n",
              "      <td>-0.003794</td>\n",
              "      <td>0.513574</td>\n",
              "      <td>-1.0</td>\n",
              "      <td>-0.242595</td>\n",
              "      <td>0.00000</td>\n",
              "      <td>0.200120</td>\n",
              "      <td>1.0</td>\n",
              "    </tr>\n",
              "    <tr>\n",
              "      <th>feature33</th>\n",
              "      <td>351.0</td>\n",
              "      <td>0.349364</td>\n",
              "      <td>0.522663</td>\n",
              "      <td>-1.0</td>\n",
              "      <td>0.000000</td>\n",
              "      <td>0.40956</td>\n",
              "      <td>0.813765</td>\n",
              "      <td>1.0</td>\n",
              "    </tr>\n",
              "    <tr>\n",
              "      <th>feature34</th>\n",
              "      <td>351.0</td>\n",
              "      <td>0.014480</td>\n",
              "      <td>0.468337</td>\n",
              "      <td>-1.0</td>\n",
              "      <td>-0.165350</td>\n",
              "      <td>0.00000</td>\n",
              "      <td>0.171660</td>\n",
              "      <td>1.0</td>\n",
              "    </tr>\n",
              "  </tbody>\n",
              "</table>\n",
              "</div>"
            ],
            "text/plain": [
              "           count      mean       std  min       25%      50%       75%  max\n",
              "feature1   351.0  0.891738  0.311155  0.0  1.000000  1.00000  1.000000  1.0\n",
              "feature2   351.0  0.000000  0.000000  0.0  0.000000  0.00000  0.000000  0.0\n",
              "feature3   351.0  0.641342  0.497708 -1.0  0.472135  0.87111  1.000000  1.0\n",
              "feature4   351.0  0.044372  0.441435 -1.0 -0.064735  0.01631  0.194185  1.0\n",
              "feature5   351.0  0.601068  0.519862 -1.0  0.412660  0.80920  1.000000  1.0\n",
              "feature6   351.0  0.115889  0.460810 -1.0 -0.024795  0.02280  0.334655  1.0\n",
              "feature7   351.0  0.550095  0.492654 -1.0  0.211310  0.72873  0.969240  1.0\n",
              "feature8   351.0  0.119360  0.520750 -1.0 -0.054840  0.01471  0.445675  1.0\n",
              "feature9   351.0  0.511848  0.507066 -1.0  0.087110  0.68421  0.953240  1.0\n",
              "feature10  351.0  0.181345  0.483851 -1.0 -0.048075  0.01829  0.534195  1.0\n",
              "feature11  351.0  0.476183  0.563496 -1.0  0.021120  0.66798  0.957895  1.0\n",
              "feature12  351.0  0.155040  0.494817 -1.0 -0.065265  0.02825  0.482375  1.0\n",
              "feature13  351.0  0.400801  0.622186 -1.0  0.000000  0.64407  0.955505  1.0\n",
              "feature14  351.0  0.093414  0.494873 -1.0 -0.073725  0.03027  0.374860  1.0\n",
              "feature15  351.0  0.344159  0.652828 -1.0  0.000000  0.60194  0.919330  1.0\n",
              "feature16  351.0  0.071132  0.458371 -1.0 -0.081705  0.00000  0.308975  1.0\n",
              "feature17  351.0  0.381949  0.618020 -1.0  0.000000  0.59091  0.935705  1.0\n",
              "feature18  351.0 -0.003617  0.496762 -1.0 -0.225690  0.00000  0.195285  1.0\n",
              "feature19  351.0  0.359390  0.626267 -1.0  0.000000  0.57619  0.899265  1.0\n",
              "feature20  351.0 -0.024025  0.519076 -1.0 -0.234670  0.00000  0.134370  1.0\n",
              "feature21  351.0  0.336695  0.609828 -1.0  0.000000  0.49909  0.894865  1.0\n",
              "feature22  351.0  0.008296  0.518166 -1.0 -0.243870  0.00000  0.188760  1.0\n",
              "feature23  351.0  0.362475  0.603767 -1.0  0.000000  0.53176  0.911235  1.0\n",
              "feature24  351.0 -0.057406  0.527456 -1.0 -0.366885  0.00000  0.164630  1.0\n",
              "feature25  351.0  0.396135  0.578451 -1.0  0.000000  0.55389  0.905240  1.0\n",
              "feature26  351.0 -0.071187  0.508495 -1.0 -0.332390 -0.01505  0.156765  1.0\n",
              "feature27  351.0  0.541641  0.516205 -1.0  0.286435  0.70824  0.999945  1.0\n",
              "feature28  351.0 -0.069538  0.550025 -1.0 -0.443165 -0.01769  0.153535  1.0\n",
              "feature29  351.0  0.378445  0.575886 -1.0  0.000000  0.49664  0.883465  1.0\n",
              "feature30  351.0 -0.027907  0.507974 -1.0 -0.236885  0.00000  0.154075  1.0\n",
              "feature31  351.0  0.352514  0.571483 -1.0  0.000000  0.44277  0.857620  1.0\n",
              "feature32  351.0 -0.003794  0.513574 -1.0 -0.242595  0.00000  0.200120  1.0\n",
              "feature33  351.0  0.349364  0.522663 -1.0  0.000000  0.40956  0.813765  1.0\n",
              "feature34  351.0  0.014480  0.468337 -1.0 -0.165350  0.00000  0.171660  1.0"
            ]
          },
          "metadata": {
            "tags": []
          },
          "execution_count": 63
        }
      ]
    },
    {
      "cell_type": "code",
      "metadata": {
        "colab": {
          "base_uri": "https://localhost:8080/"
        },
        "id": "rrBvucx8KMtM",
        "outputId": "6df55c27-4141-4a4d-a927-cf1dd74d5739"
      },
      "source": [
        "for feature in df:\n",
        "    print(feature)\n",
        "    print(len(df[feature].unique()))"
      ],
      "execution_count": 64,
      "outputs": [
        {
          "output_type": "stream",
          "text": [
            "feature1\n",
            "2\n",
            "feature2\n",
            "1\n",
            "feature3\n",
            "219\n",
            "feature4\n",
            "269\n",
            "feature5\n",
            "204\n",
            "feature6\n",
            "259\n",
            "feature7\n",
            "231\n",
            "feature8\n",
            "260\n",
            "feature9\n",
            "244\n",
            "feature10\n",
            "267\n",
            "feature11\n",
            "246\n",
            "feature12\n",
            "269\n",
            "feature13\n",
            "238\n",
            "feature14\n",
            "266\n",
            "feature15\n",
            "234\n",
            "feature16\n",
            "270\n",
            "feature17\n",
            "254\n",
            "feature18\n",
            "280\n",
            "feature19\n",
            "254\n",
            "feature20\n",
            "266\n",
            "feature21\n",
            "248\n",
            "feature22\n",
            "265\n",
            "feature23\n",
            "248\n",
            "feature24\n",
            "264\n",
            "feature25\n",
            "256\n",
            "feature26\n",
            "273\n",
            "feature27\n",
            "256\n",
            "feature28\n",
            "281\n",
            "feature29\n",
            "244\n",
            "feature30\n",
            "266\n",
            "feature31\n",
            "243\n",
            "feature32\n",
            "263\n",
            "feature33\n",
            "245\n",
            "feature34\n",
            "263\n",
            "label\n",
            "2\n"
          ],
          "name": "stdout"
        }
      ]
    },
    {
      "cell_type": "code",
      "metadata": {
        "colab": {
          "base_uri": "https://localhost:8080/"
        },
        "id": "uJpkcKwKKRfb",
        "outputId": "d9c0e1a8-3bb6-476b-cfa4-8e8412dffccd"
      },
      "source": [
        "df['feature2'].unique()"
      ],
      "execution_count": 65,
      "outputs": [
        {
          "output_type": "execute_result",
          "data": {
            "text/plain": [
              "array([0])"
            ]
          },
          "metadata": {
            "tags": []
          },
          "execution_count": 65
        }
      ]
    },
    {
      "cell_type": "code",
      "metadata": {
        "id": "DWMQdPtCKU-7"
      },
      "source": [
        "df.drop(df.columns[1], inplace=True, axis=1)"
      ],
      "execution_count": 66,
      "outputs": []
    },
    {
      "cell_type": "code",
      "metadata": {
        "colab": {
          "base_uri": "https://localhost:8080/",
          "height": 224
        },
        "id": "cGIAJ6p3KX-i",
        "outputId": "e8072e12-c21f-433e-d3a1-97fa4d766b8b"
      },
      "source": [
        "df.head()"
      ],
      "execution_count": 67,
      "outputs": [
        {
          "output_type": "execute_result",
          "data": {
            "text/html": [
              "<div>\n",
              "<style scoped>\n",
              "    .dataframe tbody tr th:only-of-type {\n",
              "        vertical-align: middle;\n",
              "    }\n",
              "\n",
              "    .dataframe tbody tr th {\n",
              "        vertical-align: top;\n",
              "    }\n",
              "\n",
              "    .dataframe thead th {\n",
              "        text-align: right;\n",
              "    }\n",
              "</style>\n",
              "<table border=\"1\" class=\"dataframe\">\n",
              "  <thead>\n",
              "    <tr style=\"text-align: right;\">\n",
              "      <th></th>\n",
              "      <th>feature1</th>\n",
              "      <th>feature3</th>\n",
              "      <th>feature4</th>\n",
              "      <th>feature5</th>\n",
              "      <th>feature6</th>\n",
              "      <th>feature7</th>\n",
              "      <th>feature8</th>\n",
              "      <th>feature9</th>\n",
              "      <th>feature10</th>\n",
              "      <th>feature11</th>\n",
              "      <th>feature12</th>\n",
              "      <th>feature13</th>\n",
              "      <th>feature14</th>\n",
              "      <th>feature15</th>\n",
              "      <th>feature16</th>\n",
              "      <th>feature17</th>\n",
              "      <th>feature18</th>\n",
              "      <th>feature19</th>\n",
              "      <th>feature20</th>\n",
              "      <th>feature21</th>\n",
              "      <th>feature22</th>\n",
              "      <th>feature23</th>\n",
              "      <th>feature24</th>\n",
              "      <th>feature25</th>\n",
              "      <th>feature26</th>\n",
              "      <th>feature27</th>\n",
              "      <th>feature28</th>\n",
              "      <th>feature29</th>\n",
              "      <th>feature30</th>\n",
              "      <th>feature31</th>\n",
              "      <th>feature32</th>\n",
              "      <th>feature33</th>\n",
              "      <th>feature34</th>\n",
              "      <th>label</th>\n",
              "    </tr>\n",
              "  </thead>\n",
              "  <tbody>\n",
              "    <tr>\n",
              "      <th>0</th>\n",
              "      <td>1</td>\n",
              "      <td>0.99539</td>\n",
              "      <td>-0.05889</td>\n",
              "      <td>0.85243</td>\n",
              "      <td>0.02306</td>\n",
              "      <td>0.83398</td>\n",
              "      <td>-0.37708</td>\n",
              "      <td>1.00000</td>\n",
              "      <td>0.03760</td>\n",
              "      <td>0.85243</td>\n",
              "      <td>-0.17755</td>\n",
              "      <td>0.59755</td>\n",
              "      <td>-0.44945</td>\n",
              "      <td>0.60536</td>\n",
              "      <td>-0.38223</td>\n",
              "      <td>0.84356</td>\n",
              "      <td>-0.38542</td>\n",
              "      <td>0.58212</td>\n",
              "      <td>-0.32192</td>\n",
              "      <td>0.56971</td>\n",
              "      <td>-0.29674</td>\n",
              "      <td>0.36946</td>\n",
              "      <td>-0.47357</td>\n",
              "      <td>0.56811</td>\n",
              "      <td>-0.51171</td>\n",
              "      <td>0.41078</td>\n",
              "      <td>-0.46168</td>\n",
              "      <td>0.21266</td>\n",
              "      <td>-0.34090</td>\n",
              "      <td>0.42267</td>\n",
              "      <td>-0.54487</td>\n",
              "      <td>0.18641</td>\n",
              "      <td>-0.45300</td>\n",
              "      <td>g</td>\n",
              "    </tr>\n",
              "    <tr>\n",
              "      <th>1</th>\n",
              "      <td>1</td>\n",
              "      <td>1.00000</td>\n",
              "      <td>-0.18829</td>\n",
              "      <td>0.93035</td>\n",
              "      <td>-0.36156</td>\n",
              "      <td>-0.10868</td>\n",
              "      <td>-0.93597</td>\n",
              "      <td>1.00000</td>\n",
              "      <td>-0.04549</td>\n",
              "      <td>0.50874</td>\n",
              "      <td>-0.67743</td>\n",
              "      <td>0.34432</td>\n",
              "      <td>-0.69707</td>\n",
              "      <td>-0.51685</td>\n",
              "      <td>-0.97515</td>\n",
              "      <td>0.05499</td>\n",
              "      <td>-0.62237</td>\n",
              "      <td>0.33109</td>\n",
              "      <td>-1.00000</td>\n",
              "      <td>-0.13151</td>\n",
              "      <td>-0.45300</td>\n",
              "      <td>-0.18056</td>\n",
              "      <td>-0.35734</td>\n",
              "      <td>-0.20332</td>\n",
              "      <td>-0.26569</td>\n",
              "      <td>-0.20468</td>\n",
              "      <td>-0.18401</td>\n",
              "      <td>-0.19040</td>\n",
              "      <td>-0.11593</td>\n",
              "      <td>-0.16626</td>\n",
              "      <td>-0.06288</td>\n",
              "      <td>-0.13738</td>\n",
              "      <td>-0.02447</td>\n",
              "      <td>b</td>\n",
              "    </tr>\n",
              "    <tr>\n",
              "      <th>2</th>\n",
              "      <td>1</td>\n",
              "      <td>1.00000</td>\n",
              "      <td>-0.03365</td>\n",
              "      <td>1.00000</td>\n",
              "      <td>0.00485</td>\n",
              "      <td>1.00000</td>\n",
              "      <td>-0.12062</td>\n",
              "      <td>0.88965</td>\n",
              "      <td>0.01198</td>\n",
              "      <td>0.73082</td>\n",
              "      <td>0.05346</td>\n",
              "      <td>0.85443</td>\n",
              "      <td>0.00827</td>\n",
              "      <td>0.54591</td>\n",
              "      <td>0.00299</td>\n",
              "      <td>0.83775</td>\n",
              "      <td>-0.13644</td>\n",
              "      <td>0.75535</td>\n",
              "      <td>-0.08540</td>\n",
              "      <td>0.70887</td>\n",
              "      <td>-0.27502</td>\n",
              "      <td>0.43385</td>\n",
              "      <td>-0.12062</td>\n",
              "      <td>0.57528</td>\n",
              "      <td>-0.40220</td>\n",
              "      <td>0.58984</td>\n",
              "      <td>-0.22145</td>\n",
              "      <td>0.43100</td>\n",
              "      <td>-0.17365</td>\n",
              "      <td>0.60436</td>\n",
              "      <td>-0.24180</td>\n",
              "      <td>0.56045</td>\n",
              "      <td>-0.38238</td>\n",
              "      <td>g</td>\n",
              "    </tr>\n",
              "    <tr>\n",
              "      <th>3</th>\n",
              "      <td>1</td>\n",
              "      <td>1.00000</td>\n",
              "      <td>-0.45161</td>\n",
              "      <td>1.00000</td>\n",
              "      <td>1.00000</td>\n",
              "      <td>0.71216</td>\n",
              "      <td>-1.00000</td>\n",
              "      <td>0.00000</td>\n",
              "      <td>0.00000</td>\n",
              "      <td>0.00000</td>\n",
              "      <td>0.00000</td>\n",
              "      <td>0.00000</td>\n",
              "      <td>0.00000</td>\n",
              "      <td>-1.00000</td>\n",
              "      <td>0.14516</td>\n",
              "      <td>0.54094</td>\n",
              "      <td>-0.39330</td>\n",
              "      <td>-1.00000</td>\n",
              "      <td>-0.54467</td>\n",
              "      <td>-0.69975</td>\n",
              "      <td>1.00000</td>\n",
              "      <td>0.00000</td>\n",
              "      <td>0.00000</td>\n",
              "      <td>1.00000</td>\n",
              "      <td>0.90695</td>\n",
              "      <td>0.51613</td>\n",
              "      <td>1.00000</td>\n",
              "      <td>1.00000</td>\n",
              "      <td>-0.20099</td>\n",
              "      <td>0.25682</td>\n",
              "      <td>1.00000</td>\n",
              "      <td>-0.32382</td>\n",
              "      <td>1.00000</td>\n",
              "      <td>b</td>\n",
              "    </tr>\n",
              "    <tr>\n",
              "      <th>4</th>\n",
              "      <td>1</td>\n",
              "      <td>1.00000</td>\n",
              "      <td>-0.02401</td>\n",
              "      <td>0.94140</td>\n",
              "      <td>0.06531</td>\n",
              "      <td>0.92106</td>\n",
              "      <td>-0.23255</td>\n",
              "      <td>0.77152</td>\n",
              "      <td>-0.16399</td>\n",
              "      <td>0.52798</td>\n",
              "      <td>-0.20275</td>\n",
              "      <td>0.56409</td>\n",
              "      <td>-0.00712</td>\n",
              "      <td>0.34395</td>\n",
              "      <td>-0.27457</td>\n",
              "      <td>0.52940</td>\n",
              "      <td>-0.21780</td>\n",
              "      <td>0.45107</td>\n",
              "      <td>-0.17813</td>\n",
              "      <td>0.05982</td>\n",
              "      <td>-0.35575</td>\n",
              "      <td>0.02309</td>\n",
              "      <td>-0.52879</td>\n",
              "      <td>0.03286</td>\n",
              "      <td>-0.65158</td>\n",
              "      <td>0.13290</td>\n",
              "      <td>-0.53206</td>\n",
              "      <td>0.02431</td>\n",
              "      <td>-0.62197</td>\n",
              "      <td>-0.05707</td>\n",
              "      <td>-0.59573</td>\n",
              "      <td>-0.04608</td>\n",
              "      <td>-0.65697</td>\n",
              "      <td>g</td>\n",
              "    </tr>\n",
              "  </tbody>\n",
              "</table>\n",
              "</div>"
            ],
            "text/plain": [
              "   feature1  feature3  feature4  ...  feature33  feature34  label\n",
              "0         1   0.99539  -0.05889  ...    0.18641   -0.45300      g\n",
              "1         1   1.00000  -0.18829  ...   -0.13738   -0.02447      b\n",
              "2         1   1.00000  -0.03365  ...    0.56045   -0.38238      g\n",
              "3         1   1.00000  -0.45161  ...   -0.32382    1.00000      b\n",
              "4         1   1.00000  -0.02401  ...   -0.04608   -0.65697      g\n",
              "\n",
              "[5 rows x 34 columns]"
            ]
          },
          "metadata": {
            "tags": []
          },
          "execution_count": 67
        }
      ]
    },
    {
      "cell_type": "code",
      "metadata": {
        "colab": {
          "base_uri": "https://localhost:8080/"
        },
        "id": "zRqkjdGrKbuP",
        "outputId": "06780456-0ccd-450e-a806-ed8a698c7f84"
      },
      "source": [
        "df.ndim"
      ],
      "execution_count": 68,
      "outputs": [
        {
          "output_type": "execute_result",
          "data": {
            "text/plain": [
              "2"
            ]
          },
          "metadata": {
            "tags": []
          },
          "execution_count": 68
        }
      ]
    },
    {
      "cell_type": "code",
      "metadata": {
        "colab": {
          "base_uri": "https://localhost:8080/"
        },
        "id": "_yQ7tC_tKgjS",
        "outputId": "69a0b965-d692-4cd5-cf72-0c2a2b7e8a3e"
      },
      "source": [
        "df.info()"
      ],
      "execution_count": 69,
      "outputs": [
        {
          "output_type": "stream",
          "text": [
            "<class 'pandas.core.frame.DataFrame'>\n",
            "RangeIndex: 351 entries, 0 to 350\n",
            "Data columns (total 34 columns):\n",
            " #   Column     Non-Null Count  Dtype  \n",
            "---  ------     --------------  -----  \n",
            " 0   feature1   351 non-null    int64  \n",
            " 1   feature3   351 non-null    float64\n",
            " 2   feature4   351 non-null    float64\n",
            " 3   feature5   351 non-null    float64\n",
            " 4   feature6   351 non-null    float64\n",
            " 5   feature7   351 non-null    float64\n",
            " 6   feature8   351 non-null    float64\n",
            " 7   feature9   351 non-null    float64\n",
            " 8   feature10  351 non-null    float64\n",
            " 9   feature11  351 non-null    float64\n",
            " 10  feature12  351 non-null    float64\n",
            " 11  feature13  351 non-null    float64\n",
            " 12  feature14  351 non-null    float64\n",
            " 13  feature15  351 non-null    float64\n",
            " 14  feature16  351 non-null    float64\n",
            " 15  feature17  351 non-null    float64\n",
            " 16  feature18  351 non-null    float64\n",
            " 17  feature19  351 non-null    float64\n",
            " 18  feature20  351 non-null    float64\n",
            " 19  feature21  351 non-null    float64\n",
            " 20  feature22  351 non-null    float64\n",
            " 21  feature23  351 non-null    float64\n",
            " 22  feature24  351 non-null    float64\n",
            " 23  feature25  351 non-null    float64\n",
            " 24  feature26  351 non-null    float64\n",
            " 25  feature27  351 non-null    float64\n",
            " 26  feature28  351 non-null    float64\n",
            " 27  feature29  351 non-null    float64\n",
            " 28  feature30  351 non-null    float64\n",
            " 29  feature31  351 non-null    float64\n",
            " 30  feature32  351 non-null    float64\n",
            " 31  feature33  351 non-null    float64\n",
            " 32  feature34  351 non-null    float64\n",
            " 33  label      351 non-null    object \n",
            "dtypes: float64(32), int64(1), object(1)\n",
            "memory usage: 93.4+ KB\n"
          ],
          "name": "stdout"
        }
      ]
    },
    {
      "cell_type": "code",
      "metadata": {
        "colab": {
          "base_uri": "https://localhost:8080/",
          "height": 35
        },
        "id": "_zmH-XacKjv6",
        "outputId": "d890620d-6863-4208-cd36-c94419a97beb"
      },
      "source": [
        "'''for feature in df:\n",
        "    print(feature)\n",
        "    df[feature].hist()\n",
        "    plt.show()'''\n",
        "\n",
        "# df.hist()\n",
        "# plt.show()"
      ],
      "execution_count": 12,
      "outputs": [
        {
          "output_type": "execute_result",
          "data": {
            "application/vnd.google.colaboratory.intrinsic+json": {
              "type": "string"
            },
            "text/plain": [
              "'for feature in df:\\n    print(feature)\\n    df[feature].hist()\\n    plt.show()'"
            ]
          },
          "metadata": {
            "tags": []
          },
          "execution_count": 12
        }
      ]
    },
    {
      "cell_type": "code",
      "metadata": {
        "colab": {
          "base_uri": "https://localhost:8080/",
          "height": 317
        },
        "id": "uhKzAz0rKo65",
        "outputId": "fd0cbba8-f752-493a-be91-9daf5f6b40e6"
      },
      "source": [
        "# Check summary statistics\n",
        "df.describe()"
      ],
      "execution_count": 70,
      "outputs": [
        {
          "output_type": "execute_result",
          "data": {
            "text/html": [
              "<div>\n",
              "<style scoped>\n",
              "    .dataframe tbody tr th:only-of-type {\n",
              "        vertical-align: middle;\n",
              "    }\n",
              "\n",
              "    .dataframe tbody tr th {\n",
              "        vertical-align: top;\n",
              "    }\n",
              "\n",
              "    .dataframe thead th {\n",
              "        text-align: right;\n",
              "    }\n",
              "</style>\n",
              "<table border=\"1\" class=\"dataframe\">\n",
              "  <thead>\n",
              "    <tr style=\"text-align: right;\">\n",
              "      <th></th>\n",
              "      <th>feature1</th>\n",
              "      <th>feature3</th>\n",
              "      <th>feature4</th>\n",
              "      <th>feature5</th>\n",
              "      <th>feature6</th>\n",
              "      <th>feature7</th>\n",
              "      <th>feature8</th>\n",
              "      <th>feature9</th>\n",
              "      <th>feature10</th>\n",
              "      <th>feature11</th>\n",
              "      <th>feature12</th>\n",
              "      <th>feature13</th>\n",
              "      <th>feature14</th>\n",
              "      <th>feature15</th>\n",
              "      <th>feature16</th>\n",
              "      <th>feature17</th>\n",
              "      <th>feature18</th>\n",
              "      <th>feature19</th>\n",
              "      <th>feature20</th>\n",
              "      <th>feature21</th>\n",
              "      <th>feature22</th>\n",
              "      <th>feature23</th>\n",
              "      <th>feature24</th>\n",
              "      <th>feature25</th>\n",
              "      <th>feature26</th>\n",
              "      <th>feature27</th>\n",
              "      <th>feature28</th>\n",
              "      <th>feature29</th>\n",
              "      <th>feature30</th>\n",
              "      <th>feature31</th>\n",
              "      <th>feature32</th>\n",
              "      <th>feature33</th>\n",
              "      <th>feature34</th>\n",
              "    </tr>\n",
              "  </thead>\n",
              "  <tbody>\n",
              "    <tr>\n",
              "      <th>count</th>\n",
              "      <td>351.000000</td>\n",
              "      <td>351.000000</td>\n",
              "      <td>351.000000</td>\n",
              "      <td>351.000000</td>\n",
              "      <td>351.000000</td>\n",
              "      <td>351.000000</td>\n",
              "      <td>351.000000</td>\n",
              "      <td>351.000000</td>\n",
              "      <td>351.000000</td>\n",
              "      <td>351.000000</td>\n",
              "      <td>351.000000</td>\n",
              "      <td>351.000000</td>\n",
              "      <td>351.000000</td>\n",
              "      <td>351.000000</td>\n",
              "      <td>351.000000</td>\n",
              "      <td>351.000000</td>\n",
              "      <td>351.000000</td>\n",
              "      <td>351.000000</td>\n",
              "      <td>351.000000</td>\n",
              "      <td>351.000000</td>\n",
              "      <td>351.000000</td>\n",
              "      <td>351.000000</td>\n",
              "      <td>351.000000</td>\n",
              "      <td>351.000000</td>\n",
              "      <td>351.000000</td>\n",
              "      <td>351.000000</td>\n",
              "      <td>351.000000</td>\n",
              "      <td>351.000000</td>\n",
              "      <td>351.000000</td>\n",
              "      <td>351.000000</td>\n",
              "      <td>351.000000</td>\n",
              "      <td>351.000000</td>\n",
              "      <td>351.000000</td>\n",
              "    </tr>\n",
              "    <tr>\n",
              "      <th>mean</th>\n",
              "      <td>0.891738</td>\n",
              "      <td>0.641342</td>\n",
              "      <td>0.044372</td>\n",
              "      <td>0.601068</td>\n",
              "      <td>0.115889</td>\n",
              "      <td>0.550095</td>\n",
              "      <td>0.119360</td>\n",
              "      <td>0.511848</td>\n",
              "      <td>0.181345</td>\n",
              "      <td>0.476183</td>\n",
              "      <td>0.155040</td>\n",
              "      <td>0.400801</td>\n",
              "      <td>0.093414</td>\n",
              "      <td>0.344159</td>\n",
              "      <td>0.071132</td>\n",
              "      <td>0.381949</td>\n",
              "      <td>-0.003617</td>\n",
              "      <td>0.359390</td>\n",
              "      <td>-0.024025</td>\n",
              "      <td>0.336695</td>\n",
              "      <td>0.008296</td>\n",
              "      <td>0.362475</td>\n",
              "      <td>-0.057406</td>\n",
              "      <td>0.396135</td>\n",
              "      <td>-0.071187</td>\n",
              "      <td>0.541641</td>\n",
              "      <td>-0.069538</td>\n",
              "      <td>0.378445</td>\n",
              "      <td>-0.027907</td>\n",
              "      <td>0.352514</td>\n",
              "      <td>-0.003794</td>\n",
              "      <td>0.349364</td>\n",
              "      <td>0.014480</td>\n",
              "    </tr>\n",
              "    <tr>\n",
              "      <th>std</th>\n",
              "      <td>0.311155</td>\n",
              "      <td>0.497708</td>\n",
              "      <td>0.441435</td>\n",
              "      <td>0.519862</td>\n",
              "      <td>0.460810</td>\n",
              "      <td>0.492654</td>\n",
              "      <td>0.520750</td>\n",
              "      <td>0.507066</td>\n",
              "      <td>0.483851</td>\n",
              "      <td>0.563496</td>\n",
              "      <td>0.494817</td>\n",
              "      <td>0.622186</td>\n",
              "      <td>0.494873</td>\n",
              "      <td>0.652828</td>\n",
              "      <td>0.458371</td>\n",
              "      <td>0.618020</td>\n",
              "      <td>0.496762</td>\n",
              "      <td>0.626267</td>\n",
              "      <td>0.519076</td>\n",
              "      <td>0.609828</td>\n",
              "      <td>0.518166</td>\n",
              "      <td>0.603767</td>\n",
              "      <td>0.527456</td>\n",
              "      <td>0.578451</td>\n",
              "      <td>0.508495</td>\n",
              "      <td>0.516205</td>\n",
              "      <td>0.550025</td>\n",
              "      <td>0.575886</td>\n",
              "      <td>0.507974</td>\n",
              "      <td>0.571483</td>\n",
              "      <td>0.513574</td>\n",
              "      <td>0.522663</td>\n",
              "      <td>0.468337</td>\n",
              "    </tr>\n",
              "    <tr>\n",
              "      <th>min</th>\n",
              "      <td>0.000000</td>\n",
              "      <td>-1.000000</td>\n",
              "      <td>-1.000000</td>\n",
              "      <td>-1.000000</td>\n",
              "      <td>-1.000000</td>\n",
              "      <td>-1.000000</td>\n",
              "      <td>-1.000000</td>\n",
              "      <td>-1.000000</td>\n",
              "      <td>-1.000000</td>\n",
              "      <td>-1.000000</td>\n",
              "      <td>-1.000000</td>\n",
              "      <td>-1.000000</td>\n",
              "      <td>-1.000000</td>\n",
              "      <td>-1.000000</td>\n",
              "      <td>-1.000000</td>\n",
              "      <td>-1.000000</td>\n",
              "      <td>-1.000000</td>\n",
              "      <td>-1.000000</td>\n",
              "      <td>-1.000000</td>\n",
              "      <td>-1.000000</td>\n",
              "      <td>-1.000000</td>\n",
              "      <td>-1.000000</td>\n",
              "      <td>-1.000000</td>\n",
              "      <td>-1.000000</td>\n",
              "      <td>-1.000000</td>\n",
              "      <td>-1.000000</td>\n",
              "      <td>-1.000000</td>\n",
              "      <td>-1.000000</td>\n",
              "      <td>-1.000000</td>\n",
              "      <td>-1.000000</td>\n",
              "      <td>-1.000000</td>\n",
              "      <td>-1.000000</td>\n",
              "      <td>-1.000000</td>\n",
              "    </tr>\n",
              "    <tr>\n",
              "      <th>25%</th>\n",
              "      <td>1.000000</td>\n",
              "      <td>0.472135</td>\n",
              "      <td>-0.064735</td>\n",
              "      <td>0.412660</td>\n",
              "      <td>-0.024795</td>\n",
              "      <td>0.211310</td>\n",
              "      <td>-0.054840</td>\n",
              "      <td>0.087110</td>\n",
              "      <td>-0.048075</td>\n",
              "      <td>0.021120</td>\n",
              "      <td>-0.065265</td>\n",
              "      <td>0.000000</td>\n",
              "      <td>-0.073725</td>\n",
              "      <td>0.000000</td>\n",
              "      <td>-0.081705</td>\n",
              "      <td>0.000000</td>\n",
              "      <td>-0.225690</td>\n",
              "      <td>0.000000</td>\n",
              "      <td>-0.234670</td>\n",
              "      <td>0.000000</td>\n",
              "      <td>-0.243870</td>\n",
              "      <td>0.000000</td>\n",
              "      <td>-0.366885</td>\n",
              "      <td>0.000000</td>\n",
              "      <td>-0.332390</td>\n",
              "      <td>0.286435</td>\n",
              "      <td>-0.443165</td>\n",
              "      <td>0.000000</td>\n",
              "      <td>-0.236885</td>\n",
              "      <td>0.000000</td>\n",
              "      <td>-0.242595</td>\n",
              "      <td>0.000000</td>\n",
              "      <td>-0.165350</td>\n",
              "    </tr>\n",
              "    <tr>\n",
              "      <th>50%</th>\n",
              "      <td>1.000000</td>\n",
              "      <td>0.871110</td>\n",
              "      <td>0.016310</td>\n",
              "      <td>0.809200</td>\n",
              "      <td>0.022800</td>\n",
              "      <td>0.728730</td>\n",
              "      <td>0.014710</td>\n",
              "      <td>0.684210</td>\n",
              "      <td>0.018290</td>\n",
              "      <td>0.667980</td>\n",
              "      <td>0.028250</td>\n",
              "      <td>0.644070</td>\n",
              "      <td>0.030270</td>\n",
              "      <td>0.601940</td>\n",
              "      <td>0.000000</td>\n",
              "      <td>0.590910</td>\n",
              "      <td>0.000000</td>\n",
              "      <td>0.576190</td>\n",
              "      <td>0.000000</td>\n",
              "      <td>0.499090</td>\n",
              "      <td>0.000000</td>\n",
              "      <td>0.531760</td>\n",
              "      <td>0.000000</td>\n",
              "      <td>0.553890</td>\n",
              "      <td>-0.015050</td>\n",
              "      <td>0.708240</td>\n",
              "      <td>-0.017690</td>\n",
              "      <td>0.496640</td>\n",
              "      <td>0.000000</td>\n",
              "      <td>0.442770</td>\n",
              "      <td>0.000000</td>\n",
              "      <td>0.409560</td>\n",
              "      <td>0.000000</td>\n",
              "    </tr>\n",
              "    <tr>\n",
              "      <th>75%</th>\n",
              "      <td>1.000000</td>\n",
              "      <td>1.000000</td>\n",
              "      <td>0.194185</td>\n",
              "      <td>1.000000</td>\n",
              "      <td>0.334655</td>\n",
              "      <td>0.969240</td>\n",
              "      <td>0.445675</td>\n",
              "      <td>0.953240</td>\n",
              "      <td>0.534195</td>\n",
              "      <td>0.957895</td>\n",
              "      <td>0.482375</td>\n",
              "      <td>0.955505</td>\n",
              "      <td>0.374860</td>\n",
              "      <td>0.919330</td>\n",
              "      <td>0.308975</td>\n",
              "      <td>0.935705</td>\n",
              "      <td>0.195285</td>\n",
              "      <td>0.899265</td>\n",
              "      <td>0.134370</td>\n",
              "      <td>0.894865</td>\n",
              "      <td>0.188760</td>\n",
              "      <td>0.911235</td>\n",
              "      <td>0.164630</td>\n",
              "      <td>0.905240</td>\n",
              "      <td>0.156765</td>\n",
              "      <td>0.999945</td>\n",
              "      <td>0.153535</td>\n",
              "      <td>0.883465</td>\n",
              "      <td>0.154075</td>\n",
              "      <td>0.857620</td>\n",
              "      <td>0.200120</td>\n",
              "      <td>0.813765</td>\n",
              "      <td>0.171660</td>\n",
              "    </tr>\n",
              "    <tr>\n",
              "      <th>max</th>\n",
              "      <td>1.000000</td>\n",
              "      <td>1.000000</td>\n",
              "      <td>1.000000</td>\n",
              "      <td>1.000000</td>\n",
              "      <td>1.000000</td>\n",
              "      <td>1.000000</td>\n",
              "      <td>1.000000</td>\n",
              "      <td>1.000000</td>\n",
              "      <td>1.000000</td>\n",
              "      <td>1.000000</td>\n",
              "      <td>1.000000</td>\n",
              "      <td>1.000000</td>\n",
              "      <td>1.000000</td>\n",
              "      <td>1.000000</td>\n",
              "      <td>1.000000</td>\n",
              "      <td>1.000000</td>\n",
              "      <td>1.000000</td>\n",
              "      <td>1.000000</td>\n",
              "      <td>1.000000</td>\n",
              "      <td>1.000000</td>\n",
              "      <td>1.000000</td>\n",
              "      <td>1.000000</td>\n",
              "      <td>1.000000</td>\n",
              "      <td>1.000000</td>\n",
              "      <td>1.000000</td>\n",
              "      <td>1.000000</td>\n",
              "      <td>1.000000</td>\n",
              "      <td>1.000000</td>\n",
              "      <td>1.000000</td>\n",
              "      <td>1.000000</td>\n",
              "      <td>1.000000</td>\n",
              "      <td>1.000000</td>\n",
              "      <td>1.000000</td>\n",
              "    </tr>\n",
              "  </tbody>\n",
              "</table>\n",
              "</div>"
            ],
            "text/plain": [
              "         feature1    feature3    feature4  ...   feature32   feature33   feature34\n",
              "count  351.000000  351.000000  351.000000  ...  351.000000  351.000000  351.000000\n",
              "mean     0.891738    0.641342    0.044372  ...   -0.003794    0.349364    0.014480\n",
              "std      0.311155    0.497708    0.441435  ...    0.513574    0.522663    0.468337\n",
              "min      0.000000   -1.000000   -1.000000  ...   -1.000000   -1.000000   -1.000000\n",
              "25%      1.000000    0.472135   -0.064735  ...   -0.242595    0.000000   -0.165350\n",
              "50%      1.000000    0.871110    0.016310  ...    0.000000    0.409560    0.000000\n",
              "75%      1.000000    1.000000    0.194185  ...    0.200120    0.813765    0.171660\n",
              "max      1.000000    1.000000    1.000000  ...    1.000000    1.000000    1.000000\n",
              "\n",
              "[8 rows x 33 columns]"
            ]
          },
          "metadata": {
            "tags": []
          },
          "execution_count": 70
        }
      ]
    },
    {
      "cell_type": "code",
      "metadata": {
        "colab": {
          "base_uri": "https://localhost:8080/"
        },
        "id": "U_MTThmMKuQK",
        "outputId": "10418898-3d86-45e9-8f1c-0cfd3b3dd952"
      },
      "source": [
        "# Find missing values\n",
        "df.isnull().sum()"
      ],
      "execution_count": 71,
      "outputs": [
        {
          "output_type": "execute_result",
          "data": {
            "text/plain": [
              "feature1     0\n",
              "feature3     0\n",
              "feature4     0\n",
              "feature5     0\n",
              "feature6     0\n",
              "feature7     0\n",
              "feature8     0\n",
              "feature9     0\n",
              "feature10    0\n",
              "feature11    0\n",
              "feature12    0\n",
              "feature13    0\n",
              "feature14    0\n",
              "feature15    0\n",
              "feature16    0\n",
              "feature17    0\n",
              "feature18    0\n",
              "feature19    0\n",
              "feature20    0\n",
              "feature21    0\n",
              "feature22    0\n",
              "feature23    0\n",
              "feature24    0\n",
              "feature25    0\n",
              "feature26    0\n",
              "feature27    0\n",
              "feature28    0\n",
              "feature29    0\n",
              "feature30    0\n",
              "feature31    0\n",
              "feature32    0\n",
              "feature33    0\n",
              "feature34    0\n",
              "label        0\n",
              "dtype: int64"
            ]
          },
          "metadata": {
            "tags": []
          },
          "execution_count": 71
        }
      ]
    },
    {
      "cell_type": "code",
      "metadata": {
        "id": "agIy2ykVK0Uy"
      },
      "source": [
        "df['label'] = [1 if lbl == 'g' else 0 for lbl in df['label']]"
      ],
      "execution_count": 72,
      "outputs": []
    },
    {
      "cell_type": "code",
      "metadata": {
        "id": "pYHbPr3FK5by"
      },
      "source": [
        "train_data = df.sample(frac= 0.6, random_state=125)\n",
        "test_data = df.drop(train_data.index)"
      ],
      "execution_count": 73,
      "outputs": []
    },
    {
      "cell_type": "code",
      "metadata": {
        "id": "6eAfWNP8K9WU"
      },
      "source": [
        "train_label = train_data.iloc[:,-1]\n",
        "train_data = train_data.iloc[:,0:-1]\n",
        "test_label = test_data.iloc[:,-1]\n",
        "test_data = test_data.iloc[:,0:-1]"
      ],
      "execution_count": 74,
      "outputs": []
    },
    {
      "cell_type": "code",
      "metadata": {
        "id": "2ImyFFZyLBzy"
      },
      "source": [
        "# df.drop(columns= 'label', inplace = True)"
      ],
      "execution_count": 18,
      "outputs": []
    },
    {
      "cell_type": "code",
      "metadata": {
        "colab": {
          "base_uri": "https://localhost:8080/",
          "height": 224
        },
        "id": "RxC-kly2LFzO",
        "outputId": "bf932e20-6d5a-48f2-e11e-1f325ccdfdaa"
      },
      "source": [
        "train_data.head()"
      ],
      "execution_count": 75,
      "outputs": [
        {
          "output_type": "execute_result",
          "data": {
            "text/html": [
              "<div>\n",
              "<style scoped>\n",
              "    .dataframe tbody tr th:only-of-type {\n",
              "        vertical-align: middle;\n",
              "    }\n",
              "\n",
              "    .dataframe tbody tr th {\n",
              "        vertical-align: top;\n",
              "    }\n",
              "\n",
              "    .dataframe thead th {\n",
              "        text-align: right;\n",
              "    }\n",
              "</style>\n",
              "<table border=\"1\" class=\"dataframe\">\n",
              "  <thead>\n",
              "    <tr style=\"text-align: right;\">\n",
              "      <th></th>\n",
              "      <th>feature1</th>\n",
              "      <th>feature3</th>\n",
              "      <th>feature4</th>\n",
              "      <th>feature5</th>\n",
              "      <th>feature6</th>\n",
              "      <th>feature7</th>\n",
              "      <th>feature8</th>\n",
              "      <th>feature9</th>\n",
              "      <th>feature10</th>\n",
              "      <th>feature11</th>\n",
              "      <th>feature12</th>\n",
              "      <th>feature13</th>\n",
              "      <th>feature14</th>\n",
              "      <th>feature15</th>\n",
              "      <th>feature16</th>\n",
              "      <th>feature17</th>\n",
              "      <th>feature18</th>\n",
              "      <th>feature19</th>\n",
              "      <th>feature20</th>\n",
              "      <th>feature21</th>\n",
              "      <th>feature22</th>\n",
              "      <th>feature23</th>\n",
              "      <th>feature24</th>\n",
              "      <th>feature25</th>\n",
              "      <th>feature26</th>\n",
              "      <th>feature27</th>\n",
              "      <th>feature28</th>\n",
              "      <th>feature29</th>\n",
              "      <th>feature30</th>\n",
              "      <th>feature31</th>\n",
              "      <th>feature32</th>\n",
              "      <th>feature33</th>\n",
              "      <th>feature34</th>\n",
              "    </tr>\n",
              "  </thead>\n",
              "  <tbody>\n",
              "    <tr>\n",
              "      <th>270</th>\n",
              "      <td>1</td>\n",
              "      <td>1.00000</td>\n",
              "      <td>0.08013</td>\n",
              "      <td>0.96775</td>\n",
              "      <td>-0.00482</td>\n",
              "      <td>0.96683</td>\n",
              "      <td>-0.00722</td>\n",
              "      <td>0.87980</td>\n",
              "      <td>-0.03923</td>\n",
              "      <td>1.00000</td>\n",
              "      <td>0.01419</td>\n",
              "      <td>0.96186</td>\n",
              "      <td>-0.01436</td>\n",
              "      <td>0.95947</td>\n",
              "      <td>-0.01671</td>\n",
              "      <td>0.98497</td>\n",
              "      <td>0.01002</td>\n",
              "      <td>0.91152</td>\n",
              "      <td>-0.08848</td>\n",
              "      <td>0.95016</td>\n",
              "      <td>-0.02364</td>\n",
              "      <td>0.94636</td>\n",
              "      <td>-0.02591</td>\n",
              "      <td>0.98164</td>\n",
              "      <td>0.02003</td>\n",
              "      <td>0.93772</td>\n",
              "      <td>-0.03034</td>\n",
              "      <td>1.00000</td>\n",
              "      <td>-0.05843</td>\n",
              "      <td>0.92774</td>\n",
              "      <td>-0.03464</td>\n",
              "      <td>0.92226</td>\n",
              "      <td>-0.03673</td>\n",
              "    </tr>\n",
              "    <tr>\n",
              "      <th>116</th>\n",
              "      <td>1</td>\n",
              "      <td>1.00000</td>\n",
              "      <td>-0.14754</td>\n",
              "      <td>1.00000</td>\n",
              "      <td>0.04918</td>\n",
              "      <td>0.57377</td>\n",
              "      <td>-0.01639</td>\n",
              "      <td>0.65574</td>\n",
              "      <td>0.01639</td>\n",
              "      <td>0.85246</td>\n",
              "      <td>-0.03279</td>\n",
              "      <td>0.72131</td>\n",
              "      <td>0.00000</td>\n",
              "      <td>0.68852</td>\n",
              "      <td>-0.16393</td>\n",
              "      <td>0.19672</td>\n",
              "      <td>-0.14754</td>\n",
              "      <td>0.65558</td>\n",
              "      <td>-0.17176</td>\n",
              "      <td>0.67213</td>\n",
              "      <td>0.03279</td>\n",
              "      <td>1.00000</td>\n",
              "      <td>-0.29508</td>\n",
              "      <td>0.31148</td>\n",
              "      <td>-0.34426</td>\n",
              "      <td>0.52385</td>\n",
              "      <td>-0.20325</td>\n",
              "      <td>0.32787</td>\n",
              "      <td>-0.03279</td>\n",
              "      <td>0.27869</td>\n",
              "      <td>-0.44262</td>\n",
              "      <td>0.49180</td>\n",
              "      <td>-0.06557</td>\n",
              "    </tr>\n",
              "    <tr>\n",
              "      <th>135</th>\n",
              "      <td>1</td>\n",
              "      <td>0.89706</td>\n",
              "      <td>0.38235</td>\n",
              "      <td>0.91176</td>\n",
              "      <td>0.37500</td>\n",
              "      <td>0.74265</td>\n",
              "      <td>0.67647</td>\n",
              "      <td>0.45588</td>\n",
              "      <td>0.77941</td>\n",
              "      <td>0.19118</td>\n",
              "      <td>0.88971</td>\n",
              "      <td>-0.02206</td>\n",
              "      <td>0.86029</td>\n",
              "      <td>-0.20588</td>\n",
              "      <td>0.82353</td>\n",
              "      <td>-0.37500</td>\n",
              "      <td>0.67647</td>\n",
              "      <td>-0.50000</td>\n",
              "      <td>0.47794</td>\n",
              "      <td>-0.73529</td>\n",
              "      <td>0.38235</td>\n",
              "      <td>-0.86029</td>\n",
              "      <td>0.08824</td>\n",
              "      <td>-0.74265</td>\n",
              "      <td>-0.12500</td>\n",
              "      <td>-0.67925</td>\n",
              "      <td>-0.24131</td>\n",
              "      <td>-0.55147</td>\n",
              "      <td>-0.42647</td>\n",
              "      <td>-0.44118</td>\n",
              "      <td>-0.50735</td>\n",
              "      <td>-0.28676</td>\n",
              "      <td>-0.56618</td>\n",
              "    </tr>\n",
              "    <tr>\n",
              "      <th>91</th>\n",
              "      <td>1</td>\n",
              "      <td>0.84557</td>\n",
              "      <td>-0.08580</td>\n",
              "      <td>-0.31745</td>\n",
              "      <td>-0.80553</td>\n",
              "      <td>-0.08961</td>\n",
              "      <td>-0.56435</td>\n",
              "      <td>0.80648</td>\n",
              "      <td>0.04576</td>\n",
              "      <td>0.89514</td>\n",
              "      <td>-0.00763</td>\n",
              "      <td>-0.18494</td>\n",
              "      <td>0.63966</td>\n",
              "      <td>-0.20019</td>\n",
              "      <td>-0.68065</td>\n",
              "      <td>0.85701</td>\n",
              "      <td>-0.11344</td>\n",
              "      <td>0.77979</td>\n",
              "      <td>-0.15729</td>\n",
              "      <td>-0.06959</td>\n",
              "      <td>0.50810</td>\n",
              "      <td>-0.34128</td>\n",
              "      <td>0.80934</td>\n",
              "      <td>0.78932</td>\n",
              "      <td>-0.03718</td>\n",
              "      <td>0.70882</td>\n",
              "      <td>-0.25288</td>\n",
              "      <td>0.77884</td>\n",
              "      <td>-0.14109</td>\n",
              "      <td>-0.21354</td>\n",
              "      <td>-0.78170</td>\n",
              "      <td>-0.18494</td>\n",
              "      <td>-0.59867</td>\n",
              "    </tr>\n",
              "    <tr>\n",
              "      <th>100</th>\n",
              "      <td>1</td>\n",
              "      <td>1.00000</td>\n",
              "      <td>-1.00000</td>\n",
              "      <td>0.00000</td>\n",
              "      <td>0.00000</td>\n",
              "      <td>0.77941</td>\n",
              "      <td>-0.99265</td>\n",
              "      <td>0.80882</td>\n",
              "      <td>0.55147</td>\n",
              "      <td>-0.41912</td>\n",
              "      <td>-0.94853</td>\n",
              "      <td>0.00000</td>\n",
              "      <td>0.00000</td>\n",
              "      <td>0.00000</td>\n",
              "      <td>0.00000</td>\n",
              "      <td>0.72059</td>\n",
              "      <td>-0.77206</td>\n",
              "      <td>0.73529</td>\n",
              "      <td>-0.60294</td>\n",
              "      <td>0.00000</td>\n",
              "      <td>0.00000</td>\n",
              "      <td>0.18382</td>\n",
              "      <td>-1.00000</td>\n",
              "      <td>-1.00000</td>\n",
              "      <td>-1.00000</td>\n",
              "      <td>-1.00000</td>\n",
              "      <td>-1.00000</td>\n",
              "      <td>1.00000</td>\n",
              "      <td>-1.00000</td>\n",
              "      <td>1.00000</td>\n",
              "      <td>-1.00000</td>\n",
              "      <td>0.00000</td>\n",
              "      <td>0.00000</td>\n",
              "    </tr>\n",
              "  </tbody>\n",
              "</table>\n",
              "</div>"
            ],
            "text/plain": [
              "     feature1  feature3  feature4  ...  feature32  feature33  feature34\n",
              "270         1   1.00000   0.08013  ...   -0.03464    0.92226   -0.03673\n",
              "116         1   1.00000  -0.14754  ...   -0.44262    0.49180   -0.06557\n",
              "135         1   0.89706   0.38235  ...   -0.50735   -0.28676   -0.56618\n",
              "91          1   0.84557  -0.08580  ...   -0.78170   -0.18494   -0.59867\n",
              "100         1   1.00000  -1.00000  ...   -1.00000    0.00000    0.00000\n",
              "\n",
              "[5 rows x 33 columns]"
            ]
          },
          "metadata": {
            "tags": []
          },
          "execution_count": 75
        }
      ]
    },
    {
      "cell_type": "code",
      "metadata": {
        "colab": {
          "base_uri": "https://localhost:8080/"
        },
        "id": "KMGjUVkMLKKk",
        "outputId": "24960251-bd9a-4d0c-b110-ccdfdf1c12ec"
      },
      "source": [
        "train_label"
      ],
      "execution_count": 76,
      "outputs": [
        {
          "output_type": "execute_result",
          "data": {
            "text/plain": [
              "270    1\n",
              "116    0\n",
              "135    1\n",
              "91     0\n",
              "100    0\n",
              "      ..\n",
              "213    1\n",
              "161    1\n",
              "141    1\n",
              "59     0\n",
              "113    1\n",
              "Name: label, Length: 211, dtype: int64"
            ]
          },
          "metadata": {
            "tags": []
          },
          "execution_count": 76
        }
      ]
    },
    {
      "cell_type": "markdown",
      "metadata": {
        "id": "FMhb5feCLPxz"
      },
      "source": [
        "Standardized the Input Variables. Hint: Centeralized the data"
      ]
    },
    {
      "cell_type": "code",
      "metadata": {
        "id": "QzrA2eZKLW1v"
      },
      "source": [
        "# Normalize the data\n",
        "# train_mean = train_data.mean()\n",
        "# train_data -= train_mean\n",
        "# train_std = train_data.std()\n",
        "# train_data /= train_std\n",
        "# test_data -= train_mean\n",
        "# test_data /= train_std"
      ],
      "execution_count": null,
      "outputs": []
    },
    {
      "cell_type": "code",
      "metadata": {
        "id": "jQ7YSPzQLc5e"
      },
      "source": [
        "# Encode labels.\n",
        "#Shuffle the data if needed.\n",
        "#Split into 60 and 40 ratio."
      ],
      "execution_count": null,
      "outputs": []
    },
    {
      "cell_type": "code",
      "metadata": {
        "id": "yoD2IVtwLkEM"
      },
      "source": [
        "# Now sample the dataframe"
      ],
      "execution_count": null,
      "outputs": []
    },
    {
      "cell_type": "code",
      "metadata": {
        "colab": {
          "base_uri": "https://localhost:8080/"
        },
        "id": "vhjcWZ43LnOC",
        "outputId": "15872823-9127-42f2-bac7-57f52afabf29"
      },
      "source": [
        "train_data.shape"
      ],
      "execution_count": 77,
      "outputs": [
        {
          "output_type": "execute_result",
          "data": {
            "text/plain": [
              "(211, 33)"
            ]
          },
          "metadata": {
            "tags": []
          },
          "execution_count": 77
        }
      ]
    },
    {
      "cell_type": "code",
      "metadata": {
        "colab": {
          "base_uri": "https://localhost:8080/"
        },
        "id": "ERZyk9jjLqVS",
        "outputId": "0f9fbe6e-b01a-4902-bfe6-695e423320fe"
      },
      "source": [
        "test_data.shape"
      ],
      "execution_count": 78,
      "outputs": [
        {
          "output_type": "execute_result",
          "data": {
            "text/plain": [
              "(140, 33)"
            ]
          },
          "metadata": {
            "tags": []
          },
          "execution_count": 78
        }
      ]
    },
    {
      "cell_type": "code",
      "metadata": {
        "colab": {
          "base_uri": "https://localhost:8080/"
        },
        "id": "H6uqjcE1LtJQ",
        "outputId": "074ebe9c-2a69-456b-a0b4-15fcccdbdf2b"
      },
      "source": [
        "train_label.shape"
      ],
      "execution_count": 79,
      "outputs": [
        {
          "output_type": "execute_result",
          "data": {
            "text/plain": [
              "(211,)"
            ]
          },
          "metadata": {
            "tags": []
          },
          "execution_count": 79
        }
      ]
    },
    {
      "cell_type": "code",
      "metadata": {
        "colab": {
          "base_uri": "https://localhost:8080/"
        },
        "id": "6RwAWPXPLwmh",
        "outputId": "116686fe-a741-4b26-8d83-9405be279021"
      },
      "source": [
        "test_label.shape"
      ],
      "execution_count": 80,
      "outputs": [
        {
          "output_type": "execute_result",
          "data": {
            "text/plain": [
              "(140,)"
            ]
          },
          "metadata": {
            "tags": []
          },
          "execution_count": 80
        }
      ]
    },
    {
      "cell_type": "code",
      "metadata": {
        "colab": {
          "base_uri": "https://localhost:8080/"
        },
        "id": "WuZUFsxqL0sa",
        "outputId": "0f9115c4-19e5-42fd-b9b5-b8a78570a6ab"
      },
      "source": [
        "train_label.sum()"
      ],
      "execution_count": 81,
      "outputs": [
        {
          "output_type": "execute_result",
          "data": {
            "text/plain": [
              "140"
            ]
          },
          "metadata": {
            "tags": []
          },
          "execution_count": 81
        }
      ]
    },
    {
      "cell_type": "code",
      "metadata": {
        "colab": {
          "base_uri": "https://localhost:8080/"
        },
        "id": "3_1moBDLL4fd",
        "outputId": "23794703-8c9a-4cf1-cb1a-ae281789473b"
      },
      "source": [
        "len(train_label)"
      ],
      "execution_count": 82,
      "outputs": [
        {
          "output_type": "execute_result",
          "data": {
            "text/plain": [
              "211"
            ]
          },
          "metadata": {
            "tags": []
          },
          "execution_count": 82
        }
      ]
    },
    {
      "cell_type": "code",
      "metadata": {
        "id": "xOAu2zbtL7vh"
      },
      "source": [
        "# train_label.sum()/len(train_label)"
      ],
      "execution_count": null,
      "outputs": []
    },
    {
      "cell_type": "markdown",
      "metadata": {
        "id": "Hw9JyIoUMCl3"
      },
      "source": [
        "## **Data Preprocessing**"
      ]
    },
    {
      "cell_type": "code",
      "metadata": {
        "id": "CjsGdN04MHWF"
      },
      "source": [
        "train_data = train_data.to_numpy()"
      ],
      "execution_count": 83,
      "outputs": []
    },
    {
      "cell_type": "code",
      "metadata": {
        "id": "FPjzACw3MNZD"
      },
      "source": [
        "train_label = train_label.to_numpy().astype('float32')"
      ],
      "execution_count": 84,
      "outputs": []
    },
    {
      "cell_type": "code",
      "metadata": {
        "id": "r8Znqkb1MlHS"
      },
      "source": [
        "test_data = test_data.to_numpy()"
      ],
      "execution_count": 85,
      "outputs": []
    },
    {
      "cell_type": "code",
      "metadata": {
        "id": "suhHjJPZMpHq"
      },
      "source": [
        "test_label = test_label.to_numpy().astype('float32')"
      ],
      "execution_count": 86,
      "outputs": []
    },
    {
      "cell_type": "code",
      "metadata": {
        "id": "SsazqUPhMsjz"
      },
      "source": [
        "#train_set = np.array(train_set.as_matrix())\n",
        "#train_label = np.array(pd.DataFrame(train_label).as_matrix())"
      ],
      "execution_count": 31,
      "outputs": []
    },
    {
      "cell_type": "code",
      "metadata": {
        "colab": {
          "base_uri": "https://localhost:8080/"
        },
        "id": "HJ0Y9a2aMy1o",
        "outputId": "1e121de3-00c2-4ec9-8ef7-bbdbaad71637"
      },
      "source": [
        "print(type(train_data))\n",
        "print(type(train_label))\n",
        "print(type(test_data))\n",
        "print(type(test_label))"
      ],
      "execution_count": 87,
      "outputs": [
        {
          "output_type": "stream",
          "text": [
            "<class 'numpy.ndarray'>\n",
            "<class 'numpy.ndarray'>\n",
            "<class 'numpy.ndarray'>\n",
            "<class 'numpy.ndarray'>\n"
          ],
          "name": "stdout"
        }
      ]
    },
    {
      "cell_type": "code",
      "metadata": {
        "colab": {
          "base_uri": "https://localhost:8080/"
        },
        "id": "kHJr1rbbM2wq",
        "outputId": "0488a891-bb01-4c23-b414-128248733042"
      },
      "source": [
        "print(train_data.dtype)\n",
        "print(train_label.dtype)\n",
        "print(test_label.dtype)\n",
        "print(test_data.dtype)"
      ],
      "execution_count": 88,
      "outputs": [
        {
          "output_type": "stream",
          "text": [
            "float64\n",
            "float32\n",
            "float32\n",
            "float64\n"
          ],
          "name": "stdout"
        }
      ]
    },
    {
      "cell_type": "markdown",
      "metadata": {
        "id": "WuJOMrylM_rb"
      },
      "source": [
        "## **Model Architecture**\n",
        "Model : 1 hidden layers including 16 unit."
      ]
    },
    {
      "cell_type": "code",
      "metadata": {
        "id": "z5NfY0IoNDmY"
      },
      "source": [
        "from tensorflow.keras.models import Sequential\n",
        "from tensorflow.keras.layers import Dense, Dropout"
      ],
      "execution_count": 89,
      "outputs": []
    },
    {
      "cell_type": "code",
      "metadata": {
        "id": "2MTe-nLwNHxi"
      },
      "source": [
        "# Define model\n",
        "model = Sequential()\n",
        "model.add(Dense(128, activation='relu', input_shape=(train_data.shape[1],)))\n",
        "model.add(Dropout(0.3))\n",
        "model.add(Dense(64, activation='relu'))\n",
        "model.add(Dropout(0.3))\n",
        "model.add(Dense(1,  activation='sigmoid'))"
      ],
      "execution_count": 90,
      "outputs": []
    },
    {
      "cell_type": "code",
      "metadata": {
        "colab": {
          "base_uri": "https://localhost:8080/"
        },
        "id": "j-MMmin-NNFH",
        "outputId": "b19b7387-181e-4ad3-df79-39a030c08e1e"
      },
      "source": [
        "model.summary()"
      ],
      "execution_count": 91,
      "outputs": [
        {
          "output_type": "stream",
          "text": [
            "Model: \"sequential_1\"\n",
            "_________________________________________________________________\n",
            "Layer (type)                 Output Shape              Param #   \n",
            "=================================================================\n",
            "dense_3 (Dense)              (None, 128)               4352      \n",
            "_________________________________________________________________\n",
            "dropout_2 (Dropout)          (None, 128)               0         \n",
            "_________________________________________________________________\n",
            "dense_4 (Dense)              (None, 64)                8256      \n",
            "_________________________________________________________________\n",
            "dropout_3 (Dropout)          (None, 64)                0         \n",
            "_________________________________________________________________\n",
            "dense_5 (Dense)              (None, 1)                 65        \n",
            "=================================================================\n",
            "Total params: 12,673\n",
            "Trainable params: 12,673\n",
            "Non-trainable params: 0\n",
            "_________________________________________________________________\n"
          ],
          "name": "stdout"
        }
      ]
    },
    {
      "cell_type": "markdown",
      "metadata": {
        "id": "QNTBaXrLNQGA"
      },
      "source": [
        "Compilation Step (Note : Its a Binary problem , select loss , metrics according to it)"
      ]
    },
    {
      "cell_type": "code",
      "metadata": {
        "id": "UVv8TCPPNVqV"
      },
      "source": [
        "from tensorflow.keras import optimizers\n",
        "model.compile(optimizer = 'RMSprop', loss='binary_crossentropy', metrics=['accuracy'])"
      ],
      "execution_count": 92,
      "outputs": []
    },
    {
      "cell_type": "markdown",
      "metadata": {
        "id": "an3DchGLNbo-"
      },
      "source": [
        "Train the Model with Epochs (100)."
      ]
    },
    {
      "cell_type": "code",
      "metadata": {
        "colab": {
          "base_uri": "https://localhost:8080/"
        },
        "id": "9IuExVTXNgG2",
        "outputId": "6a1bbc3a-9a1c-416c-d628-79b641612c85"
      },
      "source": [
        "history = model.fit(train_data, train_label, validation_split=0.25, epochs= 100, batch_size = 32)"
      ],
      "execution_count": 128,
      "outputs": [
        {
          "output_type": "stream",
          "text": [
            "Epoch 1/100\n",
            "5/5 [==============================] - 0s 23ms/step - loss: 4.5027e-05 - accuracy: 1.0000 - val_loss: 1.0380 - val_accuracy: 0.9245\n",
            "Epoch 2/100\n",
            "5/5 [==============================] - 0s 12ms/step - loss: 5.2962e-05 - accuracy: 1.0000 - val_loss: 0.9743 - val_accuracy: 0.9623\n",
            "Epoch 3/100\n",
            "5/5 [==============================] - 0s 11ms/step - loss: 6.1120e-06 - accuracy: 1.0000 - val_loss: 0.9773 - val_accuracy: 0.9623\n",
            "Epoch 4/100\n",
            "5/5 [==============================] - 0s 12ms/step - loss: 3.8603e-06 - accuracy: 1.0000 - val_loss: 0.9822 - val_accuracy: 0.9623\n",
            "Epoch 5/100\n",
            "5/5 [==============================] - 0s 11ms/step - loss: 2.9139e-06 - accuracy: 1.0000 - val_loss: 0.9855 - val_accuracy: 0.9623\n",
            "Epoch 6/100\n",
            "5/5 [==============================] - 0s 13ms/step - loss: 2.0485e-05 - accuracy: 1.0000 - val_loss: 1.0886 - val_accuracy: 0.9245\n",
            "Epoch 7/100\n",
            "5/5 [==============================] - 0s 12ms/step - loss: 3.4269e-05 - accuracy: 1.0000 - val_loss: 1.0287 - val_accuracy: 0.9245\n",
            "Epoch 8/100\n",
            "5/5 [==============================] - 0s 12ms/step - loss: 4.6238e-06 - accuracy: 1.0000 - val_loss: 1.0135 - val_accuracy: 0.9245\n",
            "Epoch 9/100\n",
            "5/5 [==============================] - 0s 13ms/step - loss: 1.9990e-05 - accuracy: 1.0000 - val_loss: 1.1294 - val_accuracy: 0.9245\n",
            "Epoch 10/100\n",
            "5/5 [==============================] - 0s 13ms/step - loss: 6.2104e-05 - accuracy: 1.0000 - val_loss: 1.0652 - val_accuracy: 0.9434\n",
            "Epoch 11/100\n",
            "5/5 [==============================] - 0s 13ms/step - loss: 6.2356e-06 - accuracy: 1.0000 - val_loss: 1.0495 - val_accuracy: 0.9434\n",
            "Epoch 12/100\n",
            "5/5 [==============================] - 0s 12ms/step - loss: 2.4602e-06 - accuracy: 1.0000 - val_loss: 1.0566 - val_accuracy: 0.9434\n",
            "Epoch 13/100\n",
            "5/5 [==============================] - 0s 11ms/step - loss: 1.1112e-06 - accuracy: 1.0000 - val_loss: 1.0519 - val_accuracy: 0.9434\n",
            "Epoch 14/100\n",
            "5/5 [==============================] - 0s 12ms/step - loss: 2.0496e-06 - accuracy: 1.0000 - val_loss: 1.0466 - val_accuracy: 0.9434\n",
            "Epoch 15/100\n",
            "5/5 [==============================] - 0s 12ms/step - loss: 1.2172e-05 - accuracy: 1.0000 - val_loss: 1.0650 - val_accuracy: 0.9245\n",
            "Epoch 16/100\n",
            "5/5 [==============================] - 0s 13ms/step - loss: 9.2486e-06 - accuracy: 1.0000 - val_loss: 1.0503 - val_accuracy: 0.9434\n",
            "Epoch 17/100\n",
            "5/5 [==============================] - 0s 12ms/step - loss: 2.3065e-05 - accuracy: 1.0000 - val_loss: 0.9853 - val_accuracy: 0.9245\n",
            "Epoch 18/100\n",
            "5/5 [==============================] - 0s 14ms/step - loss: 1.5166e-06 - accuracy: 1.0000 - val_loss: 0.9776 - val_accuracy: 0.9434\n",
            "Epoch 19/100\n",
            "5/5 [==============================] - 0s 13ms/step - loss: 4.3855e-06 - accuracy: 1.0000 - val_loss: 0.9777 - val_accuracy: 0.9623\n",
            "Epoch 20/100\n",
            "5/5 [==============================] - 0s 13ms/step - loss: 2.9510e-06 - accuracy: 1.0000 - val_loss: 0.9939 - val_accuracy: 0.9434\n",
            "Epoch 21/100\n",
            "5/5 [==============================] - 0s 12ms/step - loss: 1.3080e-06 - accuracy: 1.0000 - val_loss: 0.9934 - val_accuracy: 0.9623\n",
            "Epoch 22/100\n",
            "5/5 [==============================] - 0s 12ms/step - loss: 5.3447e-06 - accuracy: 1.0000 - val_loss: 1.0199 - val_accuracy: 0.9434\n",
            "Epoch 23/100\n",
            "5/5 [==============================] - 0s 14ms/step - loss: 1.1567e-06 - accuracy: 1.0000 - val_loss: 0.9970 - val_accuracy: 0.9434\n",
            "Epoch 24/100\n",
            "5/5 [==============================] - 0s 12ms/step - loss: 9.0354e-06 - accuracy: 1.0000 - val_loss: 1.0447 - val_accuracy: 0.9245\n",
            "Epoch 25/100\n",
            "5/5 [==============================] - 0s 13ms/step - loss: 2.2042e-06 - accuracy: 1.0000 - val_loss: 1.0199 - val_accuracy: 0.9434\n",
            "Epoch 26/100\n",
            "5/5 [==============================] - 0s 13ms/step - loss: 1.5898e-06 - accuracy: 1.0000 - val_loss: 1.0187 - val_accuracy: 0.9623\n",
            "Epoch 27/100\n",
            "5/5 [==============================] - 0s 12ms/step - loss: 3.2992e-06 - accuracy: 1.0000 - val_loss: 1.0076 - val_accuracy: 0.9623\n",
            "Epoch 28/100\n",
            "5/5 [==============================] - 0s 12ms/step - loss: 1.0468e-06 - accuracy: 1.0000 - val_loss: 1.0256 - val_accuracy: 0.9434\n",
            "Epoch 29/100\n",
            "5/5 [==============================] - 0s 12ms/step - loss: 1.2534e-06 - accuracy: 1.0000 - val_loss: 1.0428 - val_accuracy: 0.9623\n",
            "Epoch 30/100\n",
            "5/5 [==============================] - 0s 12ms/step - loss: 5.1876e-07 - accuracy: 1.0000 - val_loss: 1.0459 - val_accuracy: 0.9623\n",
            "Epoch 31/100\n",
            "5/5 [==============================] - 0s 12ms/step - loss: 9.8359e-07 - accuracy: 1.0000 - val_loss: 1.0543 - val_accuracy: 0.9623\n",
            "Epoch 32/100\n",
            "5/5 [==============================] - 0s 13ms/step - loss: 1.3998e-06 - accuracy: 1.0000 - val_loss: 1.0801 - val_accuracy: 0.9245\n",
            "Epoch 33/100\n",
            "5/5 [==============================] - 0s 12ms/step - loss: 2.4076e-06 - accuracy: 1.0000 - val_loss: 1.0528 - val_accuracy: 0.9623\n",
            "Epoch 34/100\n",
            "5/5 [==============================] - 0s 12ms/step - loss: 1.1914e-05 - accuracy: 1.0000 - val_loss: 1.1151 - val_accuracy: 0.9245\n",
            "Epoch 35/100\n",
            "5/5 [==============================] - 0s 12ms/step - loss: 7.8880e-06 - accuracy: 1.0000 - val_loss: 1.0762 - val_accuracy: 0.9623\n",
            "Epoch 36/100\n",
            "5/5 [==============================] - 0s 15ms/step - loss: 5.4673e-07 - accuracy: 1.0000 - val_loss: 1.0826 - val_accuracy: 0.9434\n",
            "Epoch 37/100\n",
            "5/5 [==============================] - 0s 12ms/step - loss: 3.4670e-06 - accuracy: 1.0000 - val_loss: 1.0836 - val_accuracy: 0.9434\n",
            "Epoch 38/100\n",
            "5/5 [==============================] - 0s 12ms/step - loss: 2.1934e-06 - accuracy: 1.0000 - val_loss: 1.0793 - val_accuracy: 0.9434\n",
            "Epoch 39/100\n",
            "5/5 [==============================] - 0s 12ms/step - loss: 5.0060e-07 - accuracy: 1.0000 - val_loss: 1.0815 - val_accuracy: 0.9434\n",
            "Epoch 40/100\n",
            "5/5 [==============================] - 0s 11ms/step - loss: 6.8577e-07 - accuracy: 1.0000 - val_loss: 1.0781 - val_accuracy: 0.9434\n",
            "Epoch 41/100\n",
            "5/5 [==============================] - 0s 13ms/step - loss: 6.7782e-06 - accuracy: 1.0000 - val_loss: 1.1119 - val_accuracy: 0.9434\n",
            "Epoch 42/100\n",
            "5/5 [==============================] - 0s 12ms/step - loss: 4.3652e-07 - accuracy: 1.0000 - val_loss: 1.1032 - val_accuracy: 0.9623\n",
            "Epoch 43/100\n",
            "5/5 [==============================] - 0s 12ms/step - loss: 7.4245e-06 - accuracy: 1.0000 - val_loss: 1.0989 - val_accuracy: 0.9434\n",
            "Epoch 44/100\n",
            "5/5 [==============================] - 0s 12ms/step - loss: 1.5376e-06 - accuracy: 1.0000 - val_loss: 1.0961 - val_accuracy: 0.9245\n",
            "Epoch 45/100\n",
            "5/5 [==============================] - 0s 11ms/step - loss: 2.1453e-05 - accuracy: 1.0000 - val_loss: 1.0888 - val_accuracy: 0.9623\n",
            "Epoch 46/100\n",
            "5/5 [==============================] - 0s 12ms/step - loss: 3.1337e-07 - accuracy: 1.0000 - val_loss: 1.0889 - val_accuracy: 0.9623\n",
            "Epoch 47/100\n",
            "5/5 [==============================] - 0s 12ms/step - loss: 9.0426e-05 - accuracy: 1.0000 - val_loss: 1.1893 - val_accuracy: 0.9245\n",
            "Epoch 48/100\n",
            "5/5 [==============================] - 0s 14ms/step - loss: 2.1095e-05 - accuracy: 1.0000 - val_loss: 1.1917 - val_accuracy: 0.9245\n",
            "Epoch 49/100\n",
            "5/5 [==============================] - 0s 11ms/step - loss: 2.1107e-06 - accuracy: 1.0000 - val_loss: 1.1551 - val_accuracy: 0.9245\n",
            "Epoch 50/100\n",
            "5/5 [==============================] - 0s 13ms/step - loss: 1.9319e-06 - accuracy: 1.0000 - val_loss: 1.1186 - val_accuracy: 0.9245\n",
            "Epoch 51/100\n",
            "5/5 [==============================] - 0s 12ms/step - loss: 6.4073e-06 - accuracy: 1.0000 - val_loss: 1.1466 - val_accuracy: 0.9245\n",
            "Epoch 52/100\n",
            "5/5 [==============================] - 0s 12ms/step - loss: 1.9523e-06 - accuracy: 1.0000 - val_loss: 1.1416 - val_accuracy: 0.9245\n",
            "Epoch 53/100\n",
            "5/5 [==============================] - 0s 13ms/step - loss: 7.6075e-07 - accuracy: 1.0000 - val_loss: 1.1445 - val_accuracy: 0.9245\n",
            "Epoch 54/100\n",
            "5/5 [==============================] - 0s 12ms/step - loss: 7.5777e-07 - accuracy: 1.0000 - val_loss: 1.1348 - val_accuracy: 0.9245\n",
            "Epoch 55/100\n",
            "5/5 [==============================] - 0s 11ms/step - loss: 6.3564e-07 - accuracy: 1.0000 - val_loss: 1.1165 - val_accuracy: 0.9434\n",
            "Epoch 56/100\n",
            "5/5 [==============================] - 0s 11ms/step - loss: 4.6867e-06 - accuracy: 1.0000 - val_loss: 1.1500 - val_accuracy: 0.9245\n",
            "Epoch 57/100\n",
            "5/5 [==============================] - 0s 12ms/step - loss: 1.6600e-04 - accuracy: 1.0000 - val_loss: 1.2437 - val_accuracy: 0.9245\n",
            "Epoch 58/100\n",
            "5/5 [==============================] - 0s 12ms/step - loss: 1.4640e-05 - accuracy: 1.0000 - val_loss: 1.1403 - val_accuracy: 0.9245\n",
            "Epoch 59/100\n",
            "5/5 [==============================] - 0s 14ms/step - loss: 1.1941e-06 - accuracy: 1.0000 - val_loss: 1.1228 - val_accuracy: 0.9434\n",
            "Epoch 60/100\n",
            "5/5 [==============================] - 0s 12ms/step - loss: 7.5539e-06 - accuracy: 1.0000 - val_loss: 1.1455 - val_accuracy: 0.9434\n",
            "Epoch 61/100\n",
            "5/5 [==============================] - 0s 13ms/step - loss: 6.5840e-07 - accuracy: 1.0000 - val_loss: 1.1494 - val_accuracy: 0.9434\n",
            "Epoch 62/100\n",
            "5/5 [==============================] - 0s 13ms/step - loss: 5.5997e-05 - accuracy: 1.0000 - val_loss: 1.2158 - val_accuracy: 0.9245\n",
            "Epoch 63/100\n",
            "5/5 [==============================] - 0s 14ms/step - loss: 0.0021 - accuracy: 1.0000 - val_loss: 1.1564 - val_accuracy: 0.9245\n",
            "Epoch 64/100\n",
            "5/5 [==============================] - 0s 13ms/step - loss: 9.3248e-05 - accuracy: 1.0000 - val_loss: 1.2356 - val_accuracy: 0.9057\n",
            "Epoch 65/100\n",
            "5/5 [==============================] - 0s 12ms/step - loss: 3.6616e-05 - accuracy: 1.0000 - val_loss: 1.1677 - val_accuracy: 0.9245\n",
            "Epoch 66/100\n",
            "5/5 [==============================] - 0s 14ms/step - loss: 1.7153e-06 - accuracy: 1.0000 - val_loss: 1.1519 - val_accuracy: 0.9245\n",
            "Epoch 67/100\n",
            "5/5 [==============================] - 0s 13ms/step - loss: 6.4410e-06 - accuracy: 1.0000 - val_loss: 1.1322 - val_accuracy: 0.9245\n",
            "Epoch 68/100\n",
            "5/5 [==============================] - 0s 12ms/step - loss: 2.6600e-06 - accuracy: 1.0000 - val_loss: 1.1279 - val_accuracy: 0.9245\n",
            "Epoch 69/100\n",
            "5/5 [==============================] - 0s 13ms/step - loss: 1.8799e-06 - accuracy: 1.0000 - val_loss: 1.1192 - val_accuracy: 0.9245\n",
            "Epoch 70/100\n",
            "5/5 [==============================] - 0s 12ms/step - loss: 8.4007e-06 - accuracy: 1.0000 - val_loss: 1.0888 - val_accuracy: 0.9245\n",
            "Epoch 71/100\n",
            "5/5 [==============================] - 0s 12ms/step - loss: 7.6831e-06 - accuracy: 1.0000 - val_loss: 1.0805 - val_accuracy: 0.9434\n",
            "Epoch 72/100\n",
            "5/5 [==============================] - 0s 13ms/step - loss: 3.2567e-07 - accuracy: 1.0000 - val_loss: 1.0796 - val_accuracy: 0.9434\n",
            "Epoch 73/100\n",
            "5/5 [==============================] - 0s 13ms/step - loss: 9.8928e-07 - accuracy: 1.0000 - val_loss: 1.0786 - val_accuracy: 0.9434\n",
            "Epoch 74/100\n",
            "5/5 [==============================] - 0s 13ms/step - loss: 7.0915e-06 - accuracy: 1.0000 - val_loss: 1.0657 - val_accuracy: 0.9623\n",
            "Epoch 75/100\n",
            "5/5 [==============================] - 0s 12ms/step - loss: 1.9286e-06 - accuracy: 1.0000 - val_loss: 1.0738 - val_accuracy: 0.9623\n",
            "Epoch 76/100\n",
            "5/5 [==============================] - 0s 13ms/step - loss: 3.0783e-06 - accuracy: 1.0000 - val_loss: 1.0793 - val_accuracy: 0.9623\n",
            "Epoch 77/100\n",
            "5/5 [==============================] - 0s 12ms/step - loss: 2.7026e-07 - accuracy: 1.0000 - val_loss: 1.0809 - val_accuracy: 0.9623\n",
            "Epoch 78/100\n",
            "5/5 [==============================] - 0s 12ms/step - loss: 0.0024 - accuracy: 1.0000 - val_loss: 1.0857 - val_accuracy: 0.9434\n",
            "Epoch 79/100\n",
            "5/5 [==============================] - 0s 13ms/step - loss: 1.8137e-04 - accuracy: 1.0000 - val_loss: 1.0901 - val_accuracy: 0.9434\n",
            "Epoch 80/100\n",
            "5/5 [==============================] - 0s 14ms/step - loss: 1.6814e-06 - accuracy: 1.0000 - val_loss: 1.0894 - val_accuracy: 0.9434\n",
            "Epoch 81/100\n",
            "5/5 [==============================] - 0s 12ms/step - loss: 1.0271e-05 - accuracy: 1.0000 - val_loss: 1.0964 - val_accuracy: 0.9623\n",
            "Epoch 82/100\n",
            "5/5 [==============================] - 0s 13ms/step - loss: 6.3045e-07 - accuracy: 1.0000 - val_loss: 1.0951 - val_accuracy: 0.9623\n",
            "Epoch 83/100\n",
            "5/5 [==============================] - 0s 13ms/step - loss: 3.7709e-06 - accuracy: 1.0000 - val_loss: 1.0943 - val_accuracy: 0.9623\n",
            "Epoch 84/100\n",
            "5/5 [==============================] - 0s 13ms/step - loss: 6.4494e-07 - accuracy: 1.0000 - val_loss: 1.0958 - val_accuracy: 0.9623\n",
            "Epoch 85/100\n",
            "5/5 [==============================] - 0s 12ms/step - loss: 3.8422e-06 - accuracy: 1.0000 - val_loss: 1.0847 - val_accuracy: 0.9623\n",
            "Epoch 86/100\n",
            "5/5 [==============================] - 0s 14ms/step - loss: 3.2033e-06 - accuracy: 1.0000 - val_loss: 1.0854 - val_accuracy: 0.9623\n",
            "Epoch 87/100\n",
            "5/5 [==============================] - 0s 13ms/step - loss: 6.7760e-07 - accuracy: 1.0000 - val_loss: 1.0863 - val_accuracy: 0.9623\n",
            "Epoch 88/100\n",
            "5/5 [==============================] - 0s 12ms/step - loss: 1.5146e-06 - accuracy: 1.0000 - val_loss: 1.0770 - val_accuracy: 0.9623\n",
            "Epoch 89/100\n",
            "5/5 [==============================] - 0s 12ms/step - loss: 2.3240e-05 - accuracy: 1.0000 - val_loss: 1.1020 - val_accuracy: 0.9623\n",
            "Epoch 90/100\n",
            "5/5 [==============================] - 0s 12ms/step - loss: 0.0041 - accuracy: 1.0000 - val_loss: 1.0531 - val_accuracy: 0.9623\n",
            "Epoch 91/100\n",
            "5/5 [==============================] - 0s 11ms/step - loss: 4.0281e-06 - accuracy: 1.0000 - val_loss: 1.0579 - val_accuracy: 0.9623\n",
            "Epoch 92/100\n",
            "5/5 [==============================] - 0s 13ms/step - loss: 4.9987e-07 - accuracy: 1.0000 - val_loss: 1.0653 - val_accuracy: 0.9623\n",
            "Epoch 93/100\n",
            "5/5 [==============================] - 0s 16ms/step - loss: 0.0017 - accuracy: 1.0000 - val_loss: 1.0866 - val_accuracy: 0.9245\n",
            "Epoch 94/100\n",
            "5/5 [==============================] - 0s 13ms/step - loss: 1.1286e-06 - accuracy: 1.0000 - val_loss: 1.0811 - val_accuracy: 0.9245\n",
            "Epoch 95/100\n",
            "5/5 [==============================] - 0s 14ms/step - loss: 6.8218e-06 - accuracy: 1.0000 - val_loss: 1.0787 - val_accuracy: 0.9245\n",
            "Epoch 96/100\n",
            "5/5 [==============================] - 0s 12ms/step - loss: 2.3985e-06 - accuracy: 1.0000 - val_loss: 1.0865 - val_accuracy: 0.9245\n",
            "Epoch 97/100\n",
            "5/5 [==============================] - 0s 12ms/step - loss: 1.6570e-05 - accuracy: 1.0000 - val_loss: 1.0817 - val_accuracy: 0.9245\n",
            "Epoch 98/100\n",
            "5/5 [==============================] - 0s 11ms/step - loss: 2.3242e-06 - accuracy: 1.0000 - val_loss: 1.0768 - val_accuracy: 0.9245\n",
            "Epoch 99/100\n",
            "5/5 [==============================] - 0s 13ms/step - loss: 1.6314e-06 - accuracy: 1.0000 - val_loss: 1.0869 - val_accuracy: 0.9245\n",
            "Epoch 100/100\n",
            "5/5 [==============================] - 0s 14ms/step - loss: 1.4810e-05 - accuracy: 1.0000 - val_loss: 1.0843 - val_accuracy: 0.9245\n"
          ],
          "name": "stdout"
        }
      ]
    },
    {
      "cell_type": "code",
      "metadata": {
        "colab": {
          "base_uri": "https://localhost:8080/"
        },
        "id": "sRTqE5gaNnJk",
        "outputId": "ab9e13a6-d2b2-4af2-a3f6-9c74e74b901a"
      },
      "source": [
        "history.history.keys()"
      ],
      "execution_count": 129,
      "outputs": [
        {
          "output_type": "execute_result",
          "data": {
            "text/plain": [
              "dict_keys(['loss', 'accuracy', 'val_loss', 'val_accuracy'])"
            ]
          },
          "metadata": {
            "tags": []
          },
          "execution_count": 129
        }
      ]
    },
    {
      "cell_type": "code",
      "metadata": {
        "colab": {
          "base_uri": "https://localhost:8080/",
          "height": 295
        },
        "id": "whMWTBf0NuVc",
        "outputId": "c8c9b129-9957-440b-a55b-6adf7cf142b9"
      },
      "source": [
        "history_dict = history.history\n",
        "loss_values = history_dict['loss']\n",
        "val_loss_values = history_dict['val_loss']\n",
        "\n",
        "epochs = range(100)\n",
        "plt.plot(epochs, loss_values, 'bo', label='Training loss')\n",
        "plt.plot(epochs, val_loss_values, 'b', label='Validation loss')\n",
        "plt.title('Training and validation loss')\n",
        "plt.xlabel('Epochs')\n",
        "plt.ylabel('Loss')\n",
        "plt.legend()\n",
        "plt.show()"
      ],
      "execution_count": 131,
      "outputs": [
        {
          "output_type": "display_data",
          "data": {
            "image/png": "[encoded data removed]",
            "text/plain": [
              "<Figure size 432x288 with 1 Axes>"
            ]
          },
          "metadata": {
            "tags": [],
            "needs_background": "light"
          }
        }
      ]
    },
    {
      "cell_type": "code",
      "metadata": {
        "colab": {
          "base_uri": "https://localhost:8080/",
          "height": 295
        },
        "id": "spZMad7oN6xh",
        "outputId": "1f9dc5e8-160d-4c18-dc61-41a572e5d13c"
      },
      "source": [
        "acc_values = history_dict['accuracy']\n",
        "val_acc_values = history_dict['val_accuracy']\n",
        "plt.plot(epochs, acc_values, 'bo', label='Training acc')\n",
        "plt.plot(epochs, val_acc_values, 'b', label='Validation acc')\n",
        "plt.title('Training and validation accuracy')\n",
        "plt.xlabel('Epochs')\n",
        "plt.ylabel('Loss')\n",
        "plt.legend()\n",
        "plt.show()"
      ],
      "execution_count": 132,
      "outputs": [
        {
          "output_type": "display_data",
          "data": {
            "image/png": "[encoded data removed]",
            "text/plain": [
              "<Figure size 432x288 with 1 Axes>"
            ]
          },
          "metadata": {
            "tags": [],
            "needs_background": "light"
          }
        }
      ]
    },
    {
      "cell_type": "markdown",
      "metadata": {
        "id": "OX2UFD4lN-2w"
      },
      "source": [
        "\n",
        "* Evaluation Step\n",
        "* Prediction\n"
      ]
    },
    {
      "cell_type": "code",
      "metadata": {
        "colab": {
          "base_uri": "https://localhost:8080/"
        },
        "id": "gr6j1a5EOOBL",
        "outputId": "853f2564-7714-4577-d170-ecca3914ec04"
      },
      "source": [
        "score = model.evaluate(test_data, test_label)"
      ],
      "execution_count": 133,
      "outputs": [
        {
          "output_type": "stream",
          "text": [
            "5/5 [==============================] - 0s 2ms/step - loss: 0.7085 - accuracy: 0.9357\n"
          ],
          "name": "stdout"
        }
      ]
    },
    {
      "cell_type": "code",
      "metadata": {
        "colab": {
          "base_uri": "https://localhost:8080/"
        },
        "id": "6b9yPazUOYIr",
        "outputId": "24520ba7-cb3c-440a-9f38-9a2841540607"
      },
      "source": [
        "score"
      ],
      "execution_count": 134,
      "outputs": [
        {
          "output_type": "execute_result",
          "data": {
            "text/plain": [
              "[0.7084763646125793, 0.9357143044471741]"
            ]
          },
          "metadata": {
            "tags": []
          },
          "execution_count": 134
        }
      ]
    },
    {
      "cell_type": "markdown",
      "metadata": {
        "id": "9LgkefZGOgJv"
      },
      "source": [
        "\n",
        "* If the model gets overfit tune your model by changing the units , No. of layers , epochs , add dropout layer or add Regularizer according to the need .\n",
        "* Prediction should be > 92%"
      ]
    },
    {
      "cell_type": "code",
      "metadata": {
        "id": "0GyoWu3XOnC_"
      },
      "source": [
        "predictions=model.predict(test_data)"
      ],
      "execution_count": 135,
      "outputs": []
    },
    {
      "cell_type": "code",
      "metadata": {
        "id": "kQ4fXhJcOrWi"
      },
      "source": [
        "y_pred = (predictions > 0.5)"
      ],
      "execution_count": 136,
      "outputs": []
    },
    {
      "cell_type": "code",
      "metadata": {
        "colab": {
          "base_uri": "https://localhost:8080/"
        },
        "id": "_r3eTDPmOuDK",
        "outputId": "07497037-146e-48b5-d978-711e52211c5f"
      },
      "source": [
        "tf.math.confusion_matrix(\n",
        "    test_label, y_pred, num_classes=2, weights=None, dtype=tf.dtypes.int32,\n",
        "    name=None\n",
        ")"
      ],
      "execution_count": 137,
      "outputs": [
        {
          "output_type": "execute_result",
          "data": {
            "text/plain": [
              "<tf.Tensor: shape=(2, 2), dtype=int32, numpy=\n",
              "array([[48,  7],\n",
              "       [ 2, 83]], dtype=int32)>"
            ]
          },
          "metadata": {
            "tags": []
          },
          "execution_count": 137
        }
      ]
    },
    {
      "cell_type": "code",
      "metadata": {
        "id": "QEGmEY8nOzum"
      },
      "source": [
        "# It will evaluate the logical expression y_predict>0.25 and return True or False"
      ],
      "execution_count": null,
      "outputs": []
    },
    {
      "cell_type": "code",
      "metadata": {
        "colab": {
          "base_uri": "https://localhost:8080/"
        },
        "id": "QHRiYD3wO0yt",
        "outputId": "abb66ceb-c4a1-40a3-d63a-26b3904eea61"
      },
      "source": [
        "np.count_nonzero(y_pred)"
      ],
      "execution_count": 138,
      "outputs": [
        {
          "output_type": "execute_result",
          "data": {
            "text/plain": [
              "90"
            ]
          },
          "metadata": {
            "tags": []
          },
          "execution_count": 138
        }
      ]
    }
  ]
}