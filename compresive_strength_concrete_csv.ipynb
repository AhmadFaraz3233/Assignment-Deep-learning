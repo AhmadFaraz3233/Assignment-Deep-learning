{
  "nbformat": 4,
  "nbformat_minor": 0,
  "metadata": {
    "colab": {
      "name": "compresive_strength_concrete.csv.ipynb",
      "provenance": []
    },
    "kernelspec": {
      "name": "python3",
      "display_name": "Python 3"
    },
    "language_info": {
      "name": "python"
    }
  },
  "cells": [
    {
      "cell_type": "markdown",
      "metadata": {
        "id": "Xpl4GCW3_eao"
      },
      "source": [
        "#**Importing Libraries**\n"
      ]
    },
    {
      "cell_type": "code",
      "metadata": {
        "id": "_VA-E4G5_pZU"
      },
      "source": [
        "import pandas as pd\n",
        "import numpy as np\n",
        "import matplotlib.pyplot as plt\n",
        "import tensorflow as tf"
      ],
      "execution_count": 4,
      "outputs": []
    },
    {
      "cell_type": "markdown",
      "metadata": {
        "id": "gJhrdUkwA1u5"
      },
      "source": [
        "#**Uploading Datasets**"
      ]
    },
    {
      "cell_type": "code",
      "metadata": {
        "id": "78-ds028BjVQ"
      },
      "source": [
        "data=pd.read_csv(\"compresive_strength_concrete.csv\")"
      ],
      "execution_count": 6,
      "outputs": []
    },
    {
      "cell_type": "code",
      "metadata": {
        "colab": {
          "base_uri": "https://localhost:8080/"
        },
        "id": "toQ3f_rcBoEU",
        "outputId": "d043ac9d-2be0-45a3-af03-e941c856033e"
      },
      "source": [
        "data.shape"
      ],
      "execution_count": 8,
      "outputs": [
        {
          "output_type": "execute_result",
          "data": {
            "text/plain": [
              "(1030, 9)"
            ]
          },
          "metadata": {
            "tags": []
          },
          "execution_count": 8
        }
      ]
    },
    {
      "cell_type": "code",
      "metadata": {
        "colab": {
          "base_uri": "https://localhost:8080/",
          "height": 255
        },
        "id": "C78fql36B1TM",
        "outputId": "529d1284-1ee8-4a62-893c-b1e6e3c21e10"
      },
      "source": [
        "data.head()"
      ],
      "execution_count": 10,
      "outputs": [
        {
          "output_type": "execute_result",
          "data": {
            "text/html": [
              "<div>\n",
              "<style scoped>\n",
              "    .dataframe tbody tr th:only-of-type {\n",
              "        vertical-align: middle;\n",
              "    }\n",
              "\n",
              "    .dataframe tbody tr th {\n",
              "        vertical-align: top;\n",
              "    }\n",
              "\n",
              "    .dataframe thead th {\n",
              "        text-align: right;\n",
              "    }\n",
              "</style>\n",
              "<table border=\"1\" class=\"dataframe\">\n",
              "  <thead>\n",
              "    <tr style=\"text-align: right;\">\n",
              "      <th></th>\n",
              "      <th>Cement (component 1)(kg in a m^3 mixture)</th>\n",
              "      <th>Blast Furnace Slag (component 2)(kg in a m^3 mixture)</th>\n",
              "      <th>Fly Ash (component 3)(kg in a m^3 mixture)</th>\n",
              "      <th>Water  (component 4)(kg in a m^3 mixture)</th>\n",
              "      <th>Superplasticizer (component 5)(kg in a m^3 mixture)</th>\n",
              "      <th>Coarse Aggregate  (component 6)(kg in a m^3 mixture)</th>\n",
              "      <th>Fine Aggregate (component 7)(kg in a m^3 mixture)</th>\n",
              "      <th>Age (day)</th>\n",
              "      <th>Concrete compressive strength(MPa, megapascals)</th>\n",
              "    </tr>\n",
              "  </thead>\n",
              "  <tbody>\n",
              "    <tr>\n",
              "      <th>0</th>\n",
              "      <td>540.0</td>\n",
              "      <td>0.0</td>\n",
              "      <td>0.0</td>\n",
              "      <td>162.0</td>\n",
              "      <td>2.5</td>\n",
              "      <td>1040.0</td>\n",
              "      <td>676.0</td>\n",
              "      <td>28</td>\n",
              "      <td>79.99</td>\n",
              "    </tr>\n",
              "    <tr>\n",
              "      <th>1</th>\n",
              "      <td>540.0</td>\n",
              "      <td>0.0</td>\n",
              "      <td>0.0</td>\n",
              "      <td>162.0</td>\n",
              "      <td>2.5</td>\n",
              "      <td>1055.0</td>\n",
              "      <td>676.0</td>\n",
              "      <td>28</td>\n",
              "      <td>61.89</td>\n",
              "    </tr>\n",
              "    <tr>\n",
              "      <th>2</th>\n",
              "      <td>332.5</td>\n",
              "      <td>142.5</td>\n",
              "      <td>0.0</td>\n",
              "      <td>228.0</td>\n",
              "      <td>0.0</td>\n",
              "      <td>932.0</td>\n",
              "      <td>594.0</td>\n",
              "      <td>270</td>\n",
              "      <td>40.27</td>\n",
              "    </tr>\n",
              "    <tr>\n",
              "      <th>3</th>\n",
              "      <td>332.5</td>\n",
              "      <td>142.5</td>\n",
              "      <td>0.0</td>\n",
              "      <td>228.0</td>\n",
              "      <td>0.0</td>\n",
              "      <td>932.0</td>\n",
              "      <td>594.0</td>\n",
              "      <td>365</td>\n",
              "      <td>41.05</td>\n",
              "    </tr>\n",
              "    <tr>\n",
              "      <th>4</th>\n",
              "      <td>198.6</td>\n",
              "      <td>132.4</td>\n",
              "      <td>0.0</td>\n",
              "      <td>192.0</td>\n",
              "      <td>0.0</td>\n",
              "      <td>978.4</td>\n",
              "      <td>825.5</td>\n",
              "      <td>360</td>\n",
              "      <td>44.30</td>\n",
              "    </tr>\n",
              "  </tbody>\n",
              "</table>\n",
              "</div>"
            ],
            "text/plain": [
              "   Cement (component 1)(kg in a m^3 mixture)  ...  Concrete compressive strength(MPa, megapascals) \n",
              "0                                      540.0  ...                                             79.99\n",
              "1                                      540.0  ...                                             61.89\n",
              "2                                      332.5  ...                                             40.27\n",
              "3                                      332.5  ...                                             41.05\n",
              "4                                      198.6  ...                                             44.30\n",
              "\n",
              "[5 rows x 9 columns]"
            ]
          },
          "metadata": {
            "tags": []
          },
          "execution_count": 10
        }
      ]
    },
    {
      "cell_type": "code",
      "metadata": {
        "colab": {
          "base_uri": "https://localhost:8080/"
        },
        "id": "hUg25PpfCIXI",
        "outputId": "82f57890-9c13-46bd-d9ff-b1b441e7822a"
      },
      "source": [
        "data.isnull().sum()"
      ],
      "execution_count": 13,
      "outputs": [
        {
          "output_type": "execute_result",
          "data": {
            "text/plain": [
              "Cement (component 1)(kg in a m^3 mixture)                0\n",
              "Blast Furnace Slag (component 2)(kg in a m^3 mixture)    0\n",
              "Fly Ash (component 3)(kg in a m^3 mixture)               0\n",
              "Water  (component 4)(kg in a m^3 mixture)                0\n",
              "Superplasticizer (component 5)(kg in a m^3 mixture)      0\n",
              "Coarse Aggregate  (component 6)(kg in a m^3 mixture)     0\n",
              "Fine Aggregate (component 7)(kg in a m^3 mixture)        0\n",
              "Age (day)                                                0\n",
              "Concrete compressive strength(MPa, megapascals)          0\n",
              "dtype: int64"
            ]
          },
          "metadata": {
            "tags": []
          },
          "execution_count": 13
        }
      ]
    },
    {
      "cell_type": "code",
      "metadata": {
        "colab": {
          "base_uri": "https://localhost:8080/"
        },
        "id": "lvp_29msC3kq",
        "outputId": "7c197f2e-cf09-4e9a-97c2-45e638605860"
      },
      "source": [
        "np.where(data.applymap(lambda x: x == ''))"
      ],
      "execution_count": 15,
      "outputs": [
        {
          "output_type": "execute_result",
          "data": {
            "text/plain": [
              "(array([], dtype=int64), array([], dtype=int64))"
            ]
          },
          "metadata": {
            "tags": []
          },
          "execution_count": 15
        }
      ]
    },
    {
      "cell_type": "code",
      "metadata": {
        "colab": {
          "base_uri": "https://localhost:8080/",
          "height": 348
        },
        "id": "33smGDBrC9QU",
        "outputId": "202ff052-67e1-4667-8903-ff3da3b49239"
      },
      "source": [
        "data.describe()"
      ],
      "execution_count": 17,
      "outputs": [
        {
          "output_type": "execute_result",
          "data": {
            "text/html": [
              "<div>\n",
              "<style scoped>\n",
              "    .dataframe tbody tr th:only-of-type {\n",
              "        vertical-align: middle;\n",
              "    }\n",
              "\n",
              "    .dataframe tbody tr th {\n",
              "        vertical-align: top;\n",
              "    }\n",
              "\n",
              "    .dataframe thead th {\n",
              "        text-align: right;\n",
              "    }\n",
              "</style>\n",
              "<table border=\"1\" class=\"dataframe\">\n",
              "  <thead>\n",
              "    <tr style=\"text-align: right;\">\n",
              "      <th></th>\n",
              "      <th>Cement (component 1)(kg in a m^3 mixture)</th>\n",
              "      <th>Blast Furnace Slag (component 2)(kg in a m^3 mixture)</th>\n",
              "      <th>Fly Ash (component 3)(kg in a m^3 mixture)</th>\n",
              "      <th>Water  (component 4)(kg in a m^3 mixture)</th>\n",
              "      <th>Superplasticizer (component 5)(kg in a m^3 mixture)</th>\n",
              "      <th>Coarse Aggregate  (component 6)(kg in a m^3 mixture)</th>\n",
              "      <th>Fine Aggregate (component 7)(kg in a m^3 mixture)</th>\n",
              "      <th>Age (day)</th>\n",
              "      <th>Concrete compressive strength(MPa, megapascals)</th>\n",
              "    </tr>\n",
              "  </thead>\n",
              "  <tbody>\n",
              "    <tr>\n",
              "      <th>count</th>\n",
              "      <td>1030.000000</td>\n",
              "      <td>1030.000000</td>\n",
              "      <td>1030.000000</td>\n",
              "      <td>1030.000000</td>\n",
              "      <td>1030.000000</td>\n",
              "      <td>1030.000000</td>\n",
              "      <td>1030.000000</td>\n",
              "      <td>1030.000000</td>\n",
              "      <td>1030.000000</td>\n",
              "    </tr>\n",
              "    <tr>\n",
              "      <th>mean</th>\n",
              "      <td>281.167864</td>\n",
              "      <td>73.895825</td>\n",
              "      <td>54.188350</td>\n",
              "      <td>181.567282</td>\n",
              "      <td>6.204660</td>\n",
              "      <td>972.918932</td>\n",
              "      <td>773.580485</td>\n",
              "      <td>45.662136</td>\n",
              "      <td>35.817961</td>\n",
              "    </tr>\n",
              "    <tr>\n",
              "      <th>std</th>\n",
              "      <td>104.506364</td>\n",
              "      <td>86.279342</td>\n",
              "      <td>63.997004</td>\n",
              "      <td>21.354219</td>\n",
              "      <td>5.973841</td>\n",
              "      <td>77.753954</td>\n",
              "      <td>80.175980</td>\n",
              "      <td>63.169912</td>\n",
              "      <td>16.705742</td>\n",
              "    </tr>\n",
              "    <tr>\n",
              "      <th>min</th>\n",
              "      <td>102.000000</td>\n",
              "      <td>0.000000</td>\n",
              "      <td>0.000000</td>\n",
              "      <td>121.800000</td>\n",
              "      <td>0.000000</td>\n",
              "      <td>801.000000</td>\n",
              "      <td>594.000000</td>\n",
              "      <td>1.000000</td>\n",
              "      <td>2.330000</td>\n",
              "    </tr>\n",
              "    <tr>\n",
              "      <th>25%</th>\n",
              "      <td>192.375000</td>\n",
              "      <td>0.000000</td>\n",
              "      <td>0.000000</td>\n",
              "      <td>164.900000</td>\n",
              "      <td>0.000000</td>\n",
              "      <td>932.000000</td>\n",
              "      <td>730.950000</td>\n",
              "      <td>7.000000</td>\n",
              "      <td>23.710000</td>\n",
              "    </tr>\n",
              "    <tr>\n",
              "      <th>50%</th>\n",
              "      <td>272.900000</td>\n",
              "      <td>22.000000</td>\n",
              "      <td>0.000000</td>\n",
              "      <td>185.000000</td>\n",
              "      <td>6.400000</td>\n",
              "      <td>968.000000</td>\n",
              "      <td>779.500000</td>\n",
              "      <td>28.000000</td>\n",
              "      <td>34.445000</td>\n",
              "    </tr>\n",
              "    <tr>\n",
              "      <th>75%</th>\n",
              "      <td>350.000000</td>\n",
              "      <td>142.950000</td>\n",
              "      <td>118.300000</td>\n",
              "      <td>192.000000</td>\n",
              "      <td>10.200000</td>\n",
              "      <td>1029.400000</td>\n",
              "      <td>824.000000</td>\n",
              "      <td>56.000000</td>\n",
              "      <td>46.135000</td>\n",
              "    </tr>\n",
              "    <tr>\n",
              "      <th>max</th>\n",
              "      <td>540.000000</td>\n",
              "      <td>359.400000</td>\n",
              "      <td>200.100000</td>\n",
              "      <td>247.000000</td>\n",
              "      <td>32.200000</td>\n",
              "      <td>1145.000000</td>\n",
              "      <td>992.600000</td>\n",
              "      <td>365.000000</td>\n",
              "      <td>82.600000</td>\n",
              "    </tr>\n",
              "  </tbody>\n",
              "</table>\n",
              "</div>"
            ],
            "text/plain": [
              "       Cement (component 1)(kg in a m^3 mixture)  ...  Concrete compressive strength(MPa, megapascals) \n",
              "count                                1030.000000  ...                                       1030.000000\n",
              "mean                                  281.167864  ...                                         35.817961\n",
              "std                                   104.506364  ...                                         16.705742\n",
              "min                                   102.000000  ...                                          2.330000\n",
              "25%                                   192.375000  ...                                         23.710000\n",
              "50%                                   272.900000  ...                                         34.445000\n",
              "75%                                   350.000000  ...                                         46.135000\n",
              "max                                   540.000000  ...                                         82.600000\n",
              "\n",
              "[8 rows x 9 columns]"
            ]
          },
          "metadata": {
            "tags": []
          },
          "execution_count": 17
        }
      ]
    },
    {
      "cell_type": "code",
      "metadata": {
        "colab": {
          "base_uri": "https://localhost:8080/"
        },
        "id": "1xdzhrJaDIBd",
        "outputId": "785db338-cd9b-46c1-ebfe-1f9ba1dfef4f"
      },
      "source": [
        "data.info()"
      ],
      "execution_count": 20,
      "outputs": [
        {
          "output_type": "stream",
          "text": [
            "<class 'pandas.core.frame.DataFrame'>\n",
            "RangeIndex: 1030 entries, 0 to 1029\n",
            "Data columns (total 9 columns):\n",
            " #   Column                                                 Non-Null Count  Dtype  \n",
            "---  ------                                                 --------------  -----  \n",
            " 0   Cement (component 1)(kg in a m^3 mixture)              1030 non-null   float64\n",
            " 1   Blast Furnace Slag (component 2)(kg in a m^3 mixture)  1030 non-null   float64\n",
            " 2   Fly Ash (component 3)(kg in a m^3 mixture)             1030 non-null   float64\n",
            " 3   Water  (component 4)(kg in a m^3 mixture)              1030 non-null   float64\n",
            " 4   Superplasticizer (component 5)(kg in a m^3 mixture)    1030 non-null   float64\n",
            " 5   Coarse Aggregate  (component 6)(kg in a m^3 mixture)   1030 non-null   float64\n",
            " 6   Fine Aggregate (component 7)(kg in a m^3 mixture)      1030 non-null   float64\n",
            " 7   Age (day)                                              1030 non-null   int64  \n",
            " 8   Concrete compressive strength(MPa, megapascals)        1030 non-null   float64\n",
            "dtypes: float64(8), int64(1)\n",
            "memory usage: 72.5 KB\n"
          ],
          "name": "stdout"
        }
      ]
    },
    {
      "cell_type": "code",
      "metadata": {
        "colab": {
          "base_uri": "https://localhost:8080/"
        },
        "id": "7n3ebqEIDkBO",
        "outputId": "89cea6cc-ea6d-4632-ed6b-bca346bf9b67"
      },
      "source": [
        "data.empty"
      ],
      "execution_count": 21,
      "outputs": [
        {
          "output_type": "execute_result",
          "data": {
            "text/plain": [
              "False"
            ]
          },
          "metadata": {
            "tags": []
          },
          "execution_count": 21
        }
      ]
    },
    {
      "cell_type": "code",
      "metadata": {
        "id": "jDGoHmgCDorN"
      },
      "source": [
        "X_train = data.sample(frac = 0.7, random_state = 123)\n",
        "X_test = data.drop(X_train.index)"
      ],
      "execution_count": 22,
      "outputs": []
    },
    {
      "cell_type": "code",
      "metadata": {
        "colab": {
          "base_uri": "https://localhost:8080/",
          "height": 255
        },
        "id": "UmG9a1hIDwj1",
        "outputId": "fcf59a19-07eb-4fdd-9dd9-d6552d9fab14"
      },
      "source": [
        "X_train.head()"
      ],
      "execution_count": 23,
      "outputs": [
        {
          "output_type": "execute_result",
          "data": {
            "text/html": [
              "<div>\n",
              "<style scoped>\n",
              "    .dataframe tbody tr th:only-of-type {\n",
              "        vertical-align: middle;\n",
              "    }\n",
              "\n",
              "    .dataframe tbody tr th {\n",
              "        vertical-align: top;\n",
              "    }\n",
              "\n",
              "    .dataframe thead th {\n",
              "        text-align: right;\n",
              "    }\n",
              "</style>\n",
              "<table border=\"1\" class=\"dataframe\">\n",
              "  <thead>\n",
              "    <tr style=\"text-align: right;\">\n",
              "      <th></th>\n",
              "      <th>Cement (component 1)(kg in a m^3 mixture)</th>\n",
              "      <th>Blast Furnace Slag (component 2)(kg in a m^3 mixture)</th>\n",
              "      <th>Fly Ash (component 3)(kg in a m^3 mixture)</th>\n",
              "      <th>Water  (component 4)(kg in a m^3 mixture)</th>\n",
              "      <th>Superplasticizer (component 5)(kg in a m^3 mixture)</th>\n",
              "      <th>Coarse Aggregate  (component 6)(kg in a m^3 mixture)</th>\n",
              "      <th>Fine Aggregate (component 7)(kg in a m^3 mixture)</th>\n",
              "      <th>Age (day)</th>\n",
              "      <th>Concrete compressive strength(MPa, megapascals)</th>\n",
              "    </tr>\n",
              "  </thead>\n",
              "  <tbody>\n",
              "    <tr>\n",
              "      <th>134</th>\n",
              "      <td>362.6</td>\n",
              "      <td>189.0</td>\n",
              "      <td>0.0</td>\n",
              "      <td>164.9</td>\n",
              "      <td>11.6</td>\n",
              "      <td>944.7</td>\n",
              "      <td>755.8</td>\n",
              "      <td>28</td>\n",
              "      <td>71.30</td>\n",
              "    </tr>\n",
              "    <tr>\n",
              "      <th>13</th>\n",
              "      <td>190.0</td>\n",
              "      <td>190.0</td>\n",
              "      <td>0.0</td>\n",
              "      <td>228.0</td>\n",
              "      <td>0.0</td>\n",
              "      <td>932.0</td>\n",
              "      <td>670.0</td>\n",
              "      <td>90</td>\n",
              "      <td>42.33</td>\n",
              "    </tr>\n",
              "    <tr>\n",
              "      <th>996</th>\n",
              "      <td>152.6</td>\n",
              "      <td>238.7</td>\n",
              "      <td>0.0</td>\n",
              "      <td>200.0</td>\n",
              "      <td>6.3</td>\n",
              "      <td>1001.8</td>\n",
              "      <td>683.9</td>\n",
              "      <td>28</td>\n",
              "      <td>26.86</td>\n",
              "    </tr>\n",
              "    <tr>\n",
              "      <th>770</th>\n",
              "      <td>349.0</td>\n",
              "      <td>0.0</td>\n",
              "      <td>0.0</td>\n",
              "      <td>192.0</td>\n",
              "      <td>0.0</td>\n",
              "      <td>1047.0</td>\n",
              "      <td>806.0</td>\n",
              "      <td>3</td>\n",
              "      <td>14.99</td>\n",
              "    </tr>\n",
              "    <tr>\n",
              "      <th>937</th>\n",
              "      <td>313.3</td>\n",
              "      <td>0.0</td>\n",
              "      <td>113.0</td>\n",
              "      <td>178.5</td>\n",
              "      <td>8.0</td>\n",
              "      <td>1001.9</td>\n",
              "      <td>688.7</td>\n",
              "      <td>28</td>\n",
              "      <td>36.80</td>\n",
              "    </tr>\n",
              "  </tbody>\n",
              "</table>\n",
              "</div>"
            ],
            "text/plain": [
              "     Cement (component 1)(kg in a m^3 mixture)  ...  Concrete compressive strength(MPa, megapascals) \n",
              "134                                      362.6  ...                                             71.30\n",
              "13                                       190.0  ...                                             42.33\n",
              "996                                      152.6  ...                                             26.86\n",
              "770                                      349.0  ...                                             14.99\n",
              "937                                      313.3  ...                                             36.80\n",
              "\n",
              "[5 rows x 9 columns]"
            ]
          },
          "metadata": {
            "tags": []
          },
          "execution_count": 23
        }
      ]
    },
    {
      "cell_type": "markdown",
      "metadata": {
        "id": "Eo-yn7opD4V_"
      },
      "source": [
        "# **Assigning features and target variable**"
      ]
    },
    {
      "cell_type": "code",
      "metadata": {
        "id": "W5WUH_r7Dz3m"
      },
      "source": [
        "Y_train = X_train.iloc[:,-1]\n",
        "X_train = X_train.iloc[:,0:-1]\n",
        "Y_test = X_test.iloc[:,-1]\n",
        "X_test = X_test.iloc[:,0:-1]"
      ],
      "execution_count": 24,
      "outputs": []
    },
    {
      "cell_type": "code",
      "metadata": {
        "id": "O12RRC5MEKmd"
      },
      "source": [
        "X_mean = X_train.mean()\n",
        "X_train -= X_mean\n",
        "X_std = X_train.std()\n",
        "X_train /= X_std\n",
        "X_test -= X_mean\n",
        "X_test /= X_std"
      ],
      "execution_count": 25,
      "outputs": []
    },
    {
      "cell_type": "code",
      "metadata": {
        "id": "UsT0vEJ1EN2E"
      },
      "source": [
        "# Y_mean = Y_train.mean()\n",
        "# Y_train -= Y_mean\n",
        "# Y_std = Y_train.std()\n",
        "# Y_train /= Y_std\n",
        "# Y_test -= Y_mean\n",
        "# Y_test /= Y_std"
      ],
      "execution_count": null,
      "outputs": []
    },
    {
      "cell_type": "code",
      "metadata": {
        "colab": {
          "base_uri": "https://localhost:8080/"
        },
        "id": "-HRnPAtnER9q",
        "outputId": "5202149b-0e43-4276-d0f9-73f7f036868f"
      },
      "source": [
        "Y_train"
      ],
      "execution_count": 26,
      "outputs": [
        {
          "output_type": "execute_result",
          "data": {
            "text/plain": [
              "134    71.30\n",
              "13     42.33\n",
              "996    26.86\n",
              "770    14.99\n",
              "937    36.80\n",
              "       ...  \n",
              "931    15.34\n",
              "466    33.56\n",
              "983    29.07\n",
              "918    10.54\n",
              "423    29.75\n",
              "Name: Concrete compressive strength(MPa, megapascals) , Length: 721, dtype: float64"
            ]
          },
          "metadata": {
            "tags": []
          },
          "execution_count": 26
        }
      ]
    },
    {
      "cell_type": "code",
      "metadata": {
        "colab": {
          "base_uri": "https://localhost:8080/"
        },
        "id": "p6DuHrsGEWP9",
        "outputId": "f38d9b31-c5bf-479d-a12b-f58f855c11a5"
      },
      "source": [
        "X_train.dtypes"
      ],
      "execution_count": 27,
      "outputs": [
        {
          "output_type": "execute_result",
          "data": {
            "text/plain": [
              "Cement (component 1)(kg in a m^3 mixture)                float64\n",
              "Blast Furnace Slag (component 2)(kg in a m^3 mixture)    float64\n",
              "Fly Ash (component 3)(kg in a m^3 mixture)               float64\n",
              "Water  (component 4)(kg in a m^3 mixture)                float64\n",
              "Superplasticizer (component 5)(kg in a m^3 mixture)      float64\n",
              "Coarse Aggregate  (component 6)(kg in a m^3 mixture)     float64\n",
              "Fine Aggregate (component 7)(kg in a m^3 mixture)        float64\n",
              "Age (day)                                                float64\n",
              "dtype: object"
            ]
          },
          "metadata": {
            "tags": []
          },
          "execution_count": 27
        }
      ]
    },
    {
      "cell_type": "code",
      "metadata": {
        "id": "NKPDHmuCEZGj"
      },
      "source": [
        "X_train = X_train.to_numpy()\n",
        "Y_train = Y_train.to_numpy()\n",
        "X_test = X_test.to_numpy()\n",
        "Y_test = Y_test.to_numpy()"
      ],
      "execution_count": 28,
      "outputs": []
    },
    {
      "cell_type": "markdown",
      "metadata": {
        "id": "6p926n0bEhnY"
      },
      "source": [
        "# **Training and testing data splittion**"
      ]
    },
    {
      "cell_type": "markdown",
      "metadata": {
        "id": "mRw7KrEFEkqp"
      },
      "source": [
        "## **Model selection**"
      ]
    },
    {
      "cell_type": "code",
      "metadata": {
        "id": "aiIwCR6kEc_X"
      },
      "source": [
        "from tensorflow.keras import layers as L\n",
        "from tensorflow.keras import models as M"
      ],
      "execution_count": 29,
      "outputs": []
    },
    {
      "cell_type": "code",
      "metadata": {
        "id": "q1ETOaWREwNu"
      },
      "source": [
        "network = M.Sequential()"
      ],
      "execution_count": 30,
      "outputs": []
    },
    {
      "cell_type": "code",
      "metadata": {
        "id": "8p28VJk8EzSd"
      },
      "source": [
        "network.add(L.Dense(128,activation=\"relu\",input_shape=(X_train.shape[1],)))"
      ],
      "execution_count": 31,
      "outputs": []
    },
    {
      "cell_type": "code",
      "metadata": {
        "id": "hmd-GYIjEzzD"
      },
      "source": [
        "network.add(L.Dense(64,activation=\"relu\"))"
      ],
      "execution_count": 32,
      "outputs": []
    },
    {
      "cell_type": "code",
      "metadata": {
        "id": "3LNrxkywE6xM"
      },
      "source": [
        "network.add(L.Dense(32,activation=\"relu\"))"
      ],
      "execution_count": 33,
      "outputs": []
    },
    {
      "cell_type": "code",
      "metadata": {
        "id": "JSvVPHYZE_aF"
      },
      "source": [
        "network.add(L.Dense(1))"
      ],
      "execution_count": 34,
      "outputs": []
    },
    {
      "cell_type": "code",
      "metadata": {
        "id": "wjHbU6NhFChp"
      },
      "source": [
        "network.compile(optimizer=\"rmsprop\",loss=[\"mse\"],metrics=[\"mae\"])"
      ],
      "execution_count": 35,
      "outputs": []
    },
    {
      "cell_type": "code",
      "metadata": {
        "colab": {
          "base_uri": "https://localhost:8080/"
        },
        "id": "uIzgNqiaFHfD",
        "outputId": "a45e5c89-36f9-4778-abc1-ddef1e71df76"
      },
      "source": [
        "history = network.fit(X_train,Y_train,epochs=200,validation_split=0.3, batch_size = 16)"
      ],
      "execution_count": 36,
      "outputs": [
        {
          "output_type": "stream",
          "text": [
            "Epoch 1/200\n",
            "32/32 [==============================] - 1s 8ms/step - loss: 1372.8492 - mae: 33.4562 - val_loss: 701.4150 - val_mae: 21.3205\n",
            "Epoch 2/200\n",
            "32/32 [==============================] - 0s 2ms/step - loss: 561.6801 - mae: 19.0524 - val_loss: 255.1596 - val_mae: 12.6569\n",
            "Epoch 3/200\n",
            "32/32 [==============================] - 0s 2ms/step - loss: 238.3811 - mae: 12.6949 - val_loss: 199.0740 - val_mae: 11.4984\n",
            "Epoch 4/200\n",
            "32/32 [==============================] - 0s 2ms/step - loss: 203.7348 - mae: 11.7212 - val_loss: 187.5019 - val_mae: 11.1296\n",
            "Epoch 5/200\n",
            "32/32 [==============================] - 0s 3ms/step - loss: 185.1152 - mae: 11.1156 - val_loss: 172.9000 - val_mae: 10.8306\n",
            "Epoch 6/200\n",
            "32/32 [==============================] - 0s 2ms/step - loss: 173.7301 - mae: 10.8680 - val_loss: 164.3875 - val_mae: 10.5760\n",
            "Epoch 7/200\n",
            "32/32 [==============================] - 0s 3ms/step - loss: 157.9845 - mae: 10.3641 - val_loss: 155.3477 - val_mae: 10.2460\n",
            "Epoch 8/200\n",
            "32/32 [==============================] - 0s 3ms/step - loss: 134.4675 - mae: 9.3219 - val_loss: 146.8684 - val_mae: 10.0153\n",
            "Epoch 9/200\n",
            "32/32 [==============================] - 0s 3ms/step - loss: 148.8871 - mae: 9.9920 - val_loss: 143.5118 - val_mae: 9.7880\n",
            "Epoch 10/200\n",
            "32/32 [==============================] - 0s 3ms/step - loss: 124.3584 - mae: 9.1535 - val_loss: 135.4754 - val_mae: 9.4232\n",
            "Epoch 11/200\n",
            "32/32 [==============================] - 0s 3ms/step - loss: 134.0977 - mae: 9.3879 - val_loss: 130.2162 - val_mae: 9.2442\n",
            "Epoch 12/200\n",
            "32/32 [==============================] - 0s 3ms/step - loss: 124.8745 - mae: 9.0590 - val_loss: 130.7080 - val_mae: 9.1682\n",
            "Epoch 13/200\n",
            "32/32 [==============================] - 0s 3ms/step - loss: 117.4024 - mae: 8.8759 - val_loss: 119.0353 - val_mae: 8.7202\n",
            "Epoch 14/200\n",
            "32/32 [==============================] - 0s 3ms/step - loss: 106.3178 - mae: 8.3899 - val_loss: 122.4116 - val_mae: 8.8419\n",
            "Epoch 15/200\n",
            "32/32 [==============================] - 0s 3ms/step - loss: 105.1857 - mae: 8.4303 - val_loss: 119.7895 - val_mae: 8.5531\n",
            "Epoch 16/200\n",
            "32/32 [==============================] - 0s 3ms/step - loss: 105.5538 - mae: 8.3693 - val_loss: 110.7862 - val_mae: 8.2474\n",
            "Epoch 17/200\n",
            "32/32 [==============================] - 0s 3ms/step - loss: 82.0438 - mae: 7.2437 - val_loss: 105.5313 - val_mae: 8.0585\n",
            "Epoch 18/200\n",
            "32/32 [==============================] - 0s 3ms/step - loss: 83.8870 - mae: 7.3318 - val_loss: 103.4314 - val_mae: 7.9648\n",
            "Epoch 19/200\n",
            "32/32 [==============================] - 0s 3ms/step - loss: 79.9536 - mae: 7.2654 - val_loss: 96.0417 - val_mae: 7.4036\n",
            "Epoch 20/200\n",
            "32/32 [==============================] - 0s 2ms/step - loss: 73.1016 - mae: 6.7889 - val_loss: 94.4682 - val_mae: 7.3754\n",
            "Epoch 21/200\n",
            "32/32 [==============================] - 0s 3ms/step - loss: 73.6826 - mae: 6.7791 - val_loss: 89.7185 - val_mae: 7.0834\n",
            "Epoch 22/200\n",
            "32/32 [==============================] - 0s 3ms/step - loss: 65.9577 - mae: 6.3269 - val_loss: 87.9778 - val_mae: 7.0510\n",
            "Epoch 23/200\n",
            "32/32 [==============================] - 0s 3ms/step - loss: 63.1808 - mae: 6.2183 - val_loss: 90.1497 - val_mae: 7.1673\n",
            "Epoch 24/200\n",
            "32/32 [==============================] - 0s 3ms/step - loss: 55.9393 - mae: 5.7257 - val_loss: 81.1716 - val_mae: 6.7441\n",
            "Epoch 25/200\n",
            "32/32 [==============================] - 0s 3ms/step - loss: 61.3656 - mae: 6.0054 - val_loss: 81.8686 - val_mae: 7.0052\n",
            "Epoch 26/200\n",
            "32/32 [==============================] - 0s 3ms/step - loss: 47.7946 - mae: 5.4724 - val_loss: 80.3008 - val_mae: 6.7647\n",
            "Epoch 27/200\n",
            "32/32 [==============================] - 0s 2ms/step - loss: 51.4651 - mae: 5.4738 - val_loss: 78.8071 - val_mae: 6.4680\n",
            "Epoch 28/200\n",
            "32/32 [==============================] - 0s 3ms/step - loss: 43.8704 - mae: 5.0480 - val_loss: 69.8159 - val_mae: 6.1638\n",
            "Epoch 29/200\n",
            "32/32 [==============================] - 0s 3ms/step - loss: 44.5631 - mae: 5.0929 - val_loss: 93.2447 - val_mae: 7.2492\n",
            "Epoch 30/200\n",
            "32/32 [==============================] - 0s 3ms/step - loss: 46.3345 - mae: 5.2089 - val_loss: 67.9908 - val_mae: 6.3936\n",
            "Epoch 31/200\n",
            "32/32 [==============================] - 0s 3ms/step - loss: 34.9814 - mae: 4.4872 - val_loss: 71.3698 - val_mae: 6.2247\n",
            "Epoch 32/200\n",
            "32/32 [==============================] - 0s 3ms/step - loss: 39.5029 - mae: 4.8465 - val_loss: 80.2903 - val_mae: 6.8541\n",
            "Epoch 33/200\n",
            "32/32 [==============================] - 0s 3ms/step - loss: 37.6712 - mae: 4.8309 - val_loss: 89.9424 - val_mae: 7.5498\n",
            "Epoch 34/200\n",
            "32/32 [==============================] - 0s 3ms/step - loss: 40.6594 - mae: 4.9937 - val_loss: 63.0956 - val_mae: 5.8907\n",
            "Epoch 35/200\n",
            "32/32 [==============================] - 0s 3ms/step - loss: 34.6901 - mae: 4.5702 - val_loss: 63.0093 - val_mae: 6.0250\n",
            "Epoch 36/200\n",
            "32/32 [==============================] - 0s 3ms/step - loss: 36.8002 - mae: 4.7210 - val_loss: 60.6275 - val_mae: 5.9252\n",
            "Epoch 37/200\n",
            "32/32 [==============================] - 0s 3ms/step - loss: 31.9382 - mae: 4.3355 - val_loss: 58.9419 - val_mae: 5.7052\n",
            "Epoch 38/200\n",
            "32/32 [==============================] - 0s 3ms/step - loss: 30.6627 - mae: 4.1504 - val_loss: 64.4662 - val_mae: 6.3498\n",
            "Epoch 39/200\n",
            "32/32 [==============================] - 0s 3ms/step - loss: 28.9275 - mae: 4.1171 - val_loss: 60.3904 - val_mae: 5.8326\n",
            "Epoch 40/200\n",
            "32/32 [==============================] - 0s 3ms/step - loss: 29.8594 - mae: 4.1080 - val_loss: 59.1673 - val_mae: 6.0172\n",
            "Epoch 41/200\n",
            "32/32 [==============================] - 0s 3ms/step - loss: 27.7952 - mae: 4.0338 - val_loss: 56.4886 - val_mae: 5.6128\n",
            "Epoch 42/200\n",
            "32/32 [==============================] - 0s 3ms/step - loss: 27.2474 - mae: 4.0313 - val_loss: 54.6026 - val_mae: 5.5454\n",
            "Epoch 43/200\n",
            "32/32 [==============================] - 0s 3ms/step - loss: 27.3395 - mae: 3.9229 - val_loss: 54.9891 - val_mae: 5.6590\n",
            "Epoch 44/200\n",
            "32/32 [==============================] - 0s 3ms/step - loss: 31.3939 - mae: 4.1521 - val_loss: 54.1261 - val_mae: 5.6516\n",
            "Epoch 45/200\n",
            "32/32 [==============================] - 0s 3ms/step - loss: 25.8487 - mae: 3.9074 - val_loss: 54.7275 - val_mae: 5.6522\n",
            "Epoch 46/200\n",
            "32/32 [==============================] - 0s 3ms/step - loss: 33.4524 - mae: 4.3551 - val_loss: 53.2827 - val_mae: 5.7408\n",
            "Epoch 47/200\n",
            "32/32 [==============================] - 0s 3ms/step - loss: 30.3356 - mae: 4.1803 - val_loss: 58.4348 - val_mae: 5.7437\n",
            "Epoch 48/200\n",
            "32/32 [==============================] - 0s 3ms/step - loss: 23.3990 - mae: 3.6234 - val_loss: 60.4913 - val_mae: 5.7131\n",
            "Epoch 49/200\n",
            "32/32 [==============================] - 0s 3ms/step - loss: 29.6300 - mae: 4.2417 - val_loss: 53.4115 - val_mae: 5.6434\n",
            "Epoch 50/200\n",
            "32/32 [==============================] - 0s 3ms/step - loss: 24.8518 - mae: 3.7617 - val_loss: 60.4719 - val_mae: 6.0915\n",
            "Epoch 51/200\n",
            "32/32 [==============================] - 0s 3ms/step - loss: 29.0458 - mae: 4.0333 - val_loss: 58.5143 - val_mae: 6.0265\n",
            "Epoch 52/200\n",
            "32/32 [==============================] - 0s 3ms/step - loss: 25.2858 - mae: 3.8065 - val_loss: 50.6164 - val_mae: 5.3462\n",
            "Epoch 53/200\n",
            "32/32 [==============================] - 0s 3ms/step - loss: 25.6996 - mae: 3.8870 - val_loss: 52.8141 - val_mae: 5.4230\n",
            "Epoch 54/200\n",
            "32/32 [==============================] - 0s 3ms/step - loss: 24.2802 - mae: 3.6917 - val_loss: 55.2431 - val_mae: 5.5752\n",
            "Epoch 55/200\n",
            "32/32 [==============================] - 0s 3ms/step - loss: 25.9370 - mae: 3.7789 - val_loss: 57.7927 - val_mae: 5.9291\n",
            "Epoch 56/200\n",
            "32/32 [==============================] - 0s 3ms/step - loss: 29.7850 - mae: 4.0747 - val_loss: 52.4953 - val_mae: 5.4544\n",
            "Epoch 57/200\n",
            "32/32 [==============================] - 0s 3ms/step - loss: 26.3321 - mae: 3.8606 - val_loss: 52.2269 - val_mae: 5.6402\n",
            "Epoch 58/200\n",
            "32/32 [==============================] - 0s 3ms/step - loss: 24.1440 - mae: 3.6919 - val_loss: 51.4680 - val_mae: 5.3823\n",
            "Epoch 59/200\n",
            "32/32 [==============================] - 0s 3ms/step - loss: 23.4812 - mae: 3.6527 - val_loss: 51.8562 - val_mae: 5.6466\n",
            "Epoch 60/200\n",
            "32/32 [==============================] - 0s 3ms/step - loss: 22.9389 - mae: 3.6498 - val_loss: 56.8873 - val_mae: 5.5354\n",
            "Epoch 61/200\n",
            "32/32 [==============================] - 0s 3ms/step - loss: 24.5358 - mae: 3.6824 - val_loss: 52.2924 - val_mae: 5.3953\n",
            "Epoch 62/200\n",
            "32/32 [==============================] - 0s 3ms/step - loss: 21.3815 - mae: 3.5345 - val_loss: 48.8665 - val_mae: 5.3211\n",
            "Epoch 63/200\n",
            "32/32 [==============================] - 0s 3ms/step - loss: 23.6113 - mae: 3.7147 - val_loss: 46.2305 - val_mae: 5.1378\n",
            "Epoch 64/200\n",
            "32/32 [==============================] - 0s 3ms/step - loss: 22.0226 - mae: 3.5374 - val_loss: 52.1518 - val_mae: 5.4864\n",
            "Epoch 65/200\n",
            "32/32 [==============================] - 0s 3ms/step - loss: 19.2715 - mae: 3.5252 - val_loss: 48.0730 - val_mae: 5.2018\n",
            "Epoch 66/200\n",
            "32/32 [==============================] - 0s 2ms/step - loss: 18.7372 - mae: 3.2804 - val_loss: 54.2349 - val_mae: 5.5984\n",
            "Epoch 67/200\n",
            "32/32 [==============================] - 0s 3ms/step - loss: 21.6044 - mae: 3.4553 - val_loss: 47.7929 - val_mae: 5.2080\n",
            "Epoch 68/200\n",
            "32/32 [==============================] - 0s 3ms/step - loss: 17.6125 - mae: 3.1955 - val_loss: 52.6567 - val_mae: 5.3586\n",
            "Epoch 69/200\n",
            "32/32 [==============================] - 0s 3ms/step - loss: 18.8653 - mae: 3.3468 - val_loss: 47.1651 - val_mae: 5.2925\n",
            "Epoch 70/200\n",
            "32/32 [==============================] - 0s 3ms/step - loss: 19.8893 - mae: 3.4422 - val_loss: 46.8328 - val_mae: 5.1388\n",
            "Epoch 71/200\n",
            "32/32 [==============================] - 0s 3ms/step - loss: 17.3924 - mae: 3.2148 - val_loss: 50.6781 - val_mae: 5.3368\n",
            "Epoch 72/200\n",
            "32/32 [==============================] - 0s 3ms/step - loss: 18.7916 - mae: 3.3885 - val_loss: 46.0018 - val_mae: 5.0801\n",
            "Epoch 73/200\n",
            "32/32 [==============================] - 0s 3ms/step - loss: 18.3342 - mae: 3.3149 - val_loss: 54.5755 - val_mae: 5.6354\n",
            "Epoch 74/200\n",
            "32/32 [==============================] - 0s 3ms/step - loss: 20.1515 - mae: 3.5931 - val_loss: 43.7555 - val_mae: 5.0224\n",
            "Epoch 75/200\n",
            "32/32 [==============================] - 0s 3ms/step - loss: 17.6320 - mae: 3.1648 - val_loss: 46.4445 - val_mae: 4.9937\n",
            "Epoch 76/200\n",
            "32/32 [==============================] - 0s 3ms/step - loss: 18.7998 - mae: 3.1341 - val_loss: 51.5196 - val_mae: 5.4192\n",
            "Epoch 77/200\n",
            "32/32 [==============================] - 0s 3ms/step - loss: 19.4312 - mae: 3.4334 - val_loss: 45.7209 - val_mae: 5.0827\n",
            "Epoch 78/200\n",
            "32/32 [==============================] - 0s 3ms/step - loss: 20.3563 - mae: 3.4012 - val_loss: 49.0052 - val_mae: 5.3071\n",
            "Epoch 79/200\n",
            "32/32 [==============================] - 0s 3ms/step - loss: 19.5359 - mae: 3.3585 - val_loss: 45.5577 - val_mae: 5.0328\n",
            "Epoch 80/200\n",
            "32/32 [==============================] - 0s 3ms/step - loss: 19.2904 - mae: 3.2912 - val_loss: 45.3757 - val_mae: 5.0215\n",
            "Epoch 81/200\n",
            "32/32 [==============================] - 0s 3ms/step - loss: 18.3479 - mae: 3.2106 - val_loss: 46.6360 - val_mae: 5.3152\n",
            "Epoch 82/200\n",
            "32/32 [==============================] - 0s 2ms/step - loss: 18.3795 - mae: 3.3384 - val_loss: 44.4098 - val_mae: 5.0204\n",
            "Epoch 83/200\n",
            "32/32 [==============================] - 0s 3ms/step - loss: 17.5009 - mae: 3.1190 - val_loss: 43.3222 - val_mae: 4.9665\n",
            "Epoch 84/200\n",
            "32/32 [==============================] - 0s 3ms/step - loss: 18.2855 - mae: 3.1843 - val_loss: 45.1050 - val_mae: 5.1230\n",
            "Epoch 85/200\n",
            "32/32 [==============================] - 0s 3ms/step - loss: 16.3639 - mae: 3.1369 - val_loss: 43.8256 - val_mae: 4.8747\n",
            "Epoch 86/200\n",
            "32/32 [==============================] - 0s 3ms/step - loss: 15.9331 - mae: 2.9931 - val_loss: 41.7956 - val_mae: 4.8164\n",
            "Epoch 87/200\n",
            "32/32 [==============================] - 0s 3ms/step - loss: 16.1941 - mae: 3.1452 - val_loss: 43.4932 - val_mae: 5.1137\n",
            "Epoch 88/200\n",
            "32/32 [==============================] - 0s 3ms/step - loss: 15.3666 - mae: 2.9788 - val_loss: 47.1738 - val_mae: 5.3240\n",
            "Epoch 89/200\n",
            "32/32 [==============================] - 0s 3ms/step - loss: 18.5558 - mae: 3.2105 - val_loss: 43.0847 - val_mae: 5.0479\n",
            "Epoch 90/200\n",
            "32/32 [==============================] - 0s 3ms/step - loss: 17.9502 - mae: 3.2497 - val_loss: 43.0418 - val_mae: 4.9779\n",
            "Epoch 91/200\n",
            "32/32 [==============================] - 0s 3ms/step - loss: 14.9893 - mae: 3.0171 - val_loss: 48.4330 - val_mae: 5.0943\n",
            "Epoch 92/200\n",
            "32/32 [==============================] - 0s 3ms/step - loss: 16.5397 - mae: 3.1010 - val_loss: 53.7263 - val_mae: 5.5096\n",
            "Epoch 93/200\n",
            "32/32 [==============================] - 0s 3ms/step - loss: 16.3977 - mae: 3.1397 - val_loss: 43.0857 - val_mae: 4.9117\n",
            "Epoch 94/200\n",
            "32/32 [==============================] - 0s 3ms/step - loss: 15.4631 - mae: 2.8618 - val_loss: 41.7098 - val_mae: 4.8301\n",
            "Epoch 95/200\n",
            "32/32 [==============================] - 0s 3ms/step - loss: 17.2534 - mae: 3.1488 - val_loss: 51.5125 - val_mae: 5.5748\n",
            "Epoch 96/200\n",
            "32/32 [==============================] - 0s 2ms/step - loss: 15.1903 - mae: 2.8976 - val_loss: 45.0186 - val_mae: 5.1735\n",
            "Epoch 97/200\n",
            "32/32 [==============================] - 0s 3ms/step - loss: 16.3043 - mae: 3.1193 - val_loss: 44.6565 - val_mae: 5.0278\n",
            "Epoch 98/200\n",
            "32/32 [==============================] - 0s 3ms/step - loss: 14.6142 - mae: 2.9513 - val_loss: 41.6188 - val_mae: 4.9089\n",
            "Epoch 99/200\n",
            "32/32 [==============================] - 0s 3ms/step - loss: 12.9026 - mae: 2.8159 - val_loss: 43.2054 - val_mae: 5.0570\n",
            "Epoch 100/200\n",
            "32/32 [==============================] - 0s 3ms/step - loss: 15.6576 - mae: 3.0150 - val_loss: 44.8462 - val_mae: 5.0954\n",
            "Epoch 101/200\n",
            "32/32 [==============================] - 0s 3ms/step - loss: 13.5436 - mae: 2.7232 - val_loss: 41.8603 - val_mae: 4.8650\n",
            "Epoch 102/200\n",
            "32/32 [==============================] - 0s 3ms/step - loss: 15.2247 - mae: 2.9509 - val_loss: 43.9165 - val_mae: 5.0144\n",
            "Epoch 103/200\n",
            "32/32 [==============================] - 0s 3ms/step - loss: 15.8785 - mae: 2.9548 - val_loss: 57.6042 - val_mae: 5.8826\n",
            "Epoch 104/200\n",
            "32/32 [==============================] - 0s 3ms/step - loss: 15.5000 - mae: 3.0199 - val_loss: 41.5701 - val_mae: 4.9683\n",
            "Epoch 105/200\n",
            "32/32 [==============================] - 0s 3ms/step - loss: 15.8038 - mae: 2.9858 - val_loss: 47.2008 - val_mae: 5.3845\n",
            "Epoch 106/200\n",
            "32/32 [==============================] - 0s 3ms/step - loss: 13.1061 - mae: 2.7752 - val_loss: 41.9152 - val_mae: 5.0173\n",
            "Epoch 107/200\n",
            "32/32 [==============================] - 0s 3ms/step - loss: 13.4794 - mae: 2.8357 - val_loss: 41.1974 - val_mae: 4.9375\n",
            "Epoch 108/200\n",
            "32/32 [==============================] - 0s 3ms/step - loss: 14.3636 - mae: 2.8823 - val_loss: 40.9956 - val_mae: 5.0116\n",
            "Epoch 109/200\n",
            "32/32 [==============================] - 0s 3ms/step - loss: 14.4032 - mae: 2.9078 - val_loss: 38.0381 - val_mae: 4.7540\n",
            "Epoch 110/200\n",
            "32/32 [==============================] - 0s 3ms/step - loss: 13.8839 - mae: 2.7806 - val_loss: 40.4671 - val_mae: 4.9068\n",
            "Epoch 111/200\n",
            "32/32 [==============================] - 0s 3ms/step - loss: 14.0164 - mae: 2.8838 - val_loss: 40.5218 - val_mae: 4.8283\n",
            "Epoch 112/200\n",
            "32/32 [==============================] - 0s 3ms/step - loss: 12.0742 - mae: 2.6877 - val_loss: 45.1416 - val_mae: 5.1780\n",
            "Epoch 113/200\n",
            "32/32 [==============================] - 0s 3ms/step - loss: 11.7810 - mae: 2.6450 - val_loss: 37.9308 - val_mae: 4.7078\n",
            "Epoch 114/200\n",
            "32/32 [==============================] - 0s 3ms/step - loss: 13.0302 - mae: 2.7689 - val_loss: 41.8462 - val_mae: 4.8305\n",
            "Epoch 115/200\n",
            "32/32 [==============================] - 0s 3ms/step - loss: 12.3219 - mae: 2.6811 - val_loss: 39.9251 - val_mae: 4.8031\n",
            "Epoch 116/200\n",
            "32/32 [==============================] - 0s 3ms/step - loss: 12.7010 - mae: 2.7221 - val_loss: 39.4431 - val_mae: 4.7879\n",
            "Epoch 117/200\n",
            "32/32 [==============================] - 0s 3ms/step - loss: 12.8396 - mae: 2.6911 - val_loss: 40.5896 - val_mae: 4.8684\n",
            "Epoch 118/200\n",
            "32/32 [==============================] - 0s 2ms/step - loss: 13.9241 - mae: 2.7930 - val_loss: 41.6920 - val_mae: 5.0397\n",
            "Epoch 119/200\n",
            "32/32 [==============================] - 0s 3ms/step - loss: 14.4438 - mae: 2.9408 - val_loss: 39.2683 - val_mae: 4.8077\n",
            "Epoch 120/200\n",
            "32/32 [==============================] - 0s 3ms/step - loss: 11.9674 - mae: 2.5510 - val_loss: 41.5054 - val_mae: 4.9569\n",
            "Epoch 121/200\n",
            "32/32 [==============================] - 0s 3ms/step - loss: 13.3371 - mae: 2.6813 - val_loss: 39.8595 - val_mae: 4.7889\n",
            "Epoch 122/200\n",
            "32/32 [==============================] - 0s 3ms/step - loss: 11.4914 - mae: 2.5865 - val_loss: 50.1288 - val_mae: 5.4064\n",
            "Epoch 123/200\n",
            "32/32 [==============================] - 0s 3ms/step - loss: 12.5811 - mae: 2.7513 - val_loss: 43.4558 - val_mae: 4.9971\n",
            "Epoch 124/200\n",
            "32/32 [==============================] - 0s 3ms/step - loss: 12.7969 - mae: 2.7212 - val_loss: 42.7338 - val_mae: 4.9177\n",
            "Epoch 125/200\n",
            "32/32 [==============================] - 0s 2ms/step - loss: 13.0757 - mae: 2.8111 - val_loss: 42.1479 - val_mae: 4.9619\n",
            "Epoch 126/200\n",
            "32/32 [==============================] - 0s 3ms/step - loss: 12.1141 - mae: 2.6061 - val_loss: 37.6869 - val_mae: 4.7058\n",
            "Epoch 127/200\n",
            "32/32 [==============================] - 0s 3ms/step - loss: 13.2324 - mae: 2.7549 - val_loss: 43.4619 - val_mae: 5.0646\n",
            "Epoch 128/200\n",
            "32/32 [==============================] - 0s 3ms/step - loss: 13.3610 - mae: 2.7624 - val_loss: 44.2425 - val_mae: 5.1179\n",
            "Epoch 129/200\n",
            "32/32 [==============================] - 0s 3ms/step - loss: 12.1675 - mae: 2.5837 - val_loss: 40.5100 - val_mae: 4.8898\n",
            "Epoch 130/200\n",
            "32/32 [==============================] - 0s 2ms/step - loss: 11.9409 - mae: 2.5604 - val_loss: 38.8412 - val_mae: 4.7234\n",
            "Epoch 131/200\n",
            "32/32 [==============================] - 0s 2ms/step - loss: 13.1037 - mae: 2.7875 - val_loss: 38.6992 - val_mae: 4.7096\n",
            "Epoch 132/200\n",
            "32/32 [==============================] - 0s 3ms/step - loss: 11.5475 - mae: 2.4729 - val_loss: 44.6014 - val_mae: 5.1208\n",
            "Epoch 133/200\n",
            "32/32 [==============================] - 0s 3ms/step - loss: 12.4278 - mae: 2.6747 - val_loss: 40.3406 - val_mae: 4.8632\n",
            "Epoch 134/200\n",
            "32/32 [==============================] - 0s 3ms/step - loss: 12.2299 - mae: 2.5590 - val_loss: 47.6385 - val_mae: 5.3991\n",
            "Epoch 135/200\n",
            "32/32 [==============================] - 0s 3ms/step - loss: 13.2699 - mae: 2.7055 - val_loss: 38.5332 - val_mae: 4.7164\n",
            "Epoch 136/200\n",
            "32/32 [==============================] - 0s 3ms/step - loss: 10.2777 - mae: 2.4820 - val_loss: 40.3614 - val_mae: 4.8217\n",
            "Epoch 137/200\n",
            "32/32 [==============================] - 0s 3ms/step - loss: 10.6429 - mae: 2.4734 - val_loss: 42.6576 - val_mae: 4.9271\n",
            "Epoch 138/200\n",
            "32/32 [==============================] - 0s 2ms/step - loss: 13.2909 - mae: 2.6760 - val_loss: 37.6774 - val_mae: 4.7851\n",
            "Epoch 139/200\n",
            "32/32 [==============================] - 0s 3ms/step - loss: 11.1393 - mae: 2.4839 - val_loss: 47.3395 - val_mae: 5.3772\n",
            "Epoch 140/200\n",
            "32/32 [==============================] - 0s 3ms/step - loss: 12.7711 - mae: 2.7432 - val_loss: 42.2151 - val_mae: 5.0379\n",
            "Epoch 141/200\n",
            "32/32 [==============================] - 0s 3ms/step - loss: 11.3759 - mae: 2.5454 - val_loss: 43.0614 - val_mae: 5.0417\n",
            "Epoch 142/200\n",
            "32/32 [==============================] - 0s 3ms/step - loss: 13.0735 - mae: 2.7866 - val_loss: 41.1309 - val_mae: 4.8983\n",
            "Epoch 143/200\n",
            "32/32 [==============================] - 0s 3ms/step - loss: 11.0153 - mae: 2.4699 - val_loss: 42.5724 - val_mae: 4.9678\n",
            "Epoch 144/200\n",
            "32/32 [==============================] - 0s 3ms/step - loss: 17.2463 - mae: 2.9387 - val_loss: 41.5438 - val_mae: 4.9915\n",
            "Epoch 145/200\n",
            "32/32 [==============================] - 0s 3ms/step - loss: 10.7480 - mae: 2.4917 - val_loss: 38.8070 - val_mae: 4.7502\n",
            "Epoch 146/200\n",
            "32/32 [==============================] - 0s 3ms/step - loss: 12.3058 - mae: 2.5366 - val_loss: 42.3732 - val_mae: 5.0935\n",
            "Epoch 147/200\n",
            "32/32 [==============================] - 0s 3ms/step - loss: 9.8844 - mae: 2.3913 - val_loss: 38.1978 - val_mae: 4.6141\n",
            "Epoch 148/200\n",
            "32/32 [==============================] - 0s 3ms/step - loss: 12.9911 - mae: 2.7244 - val_loss: 43.5683 - val_mae: 4.9052\n",
            "Epoch 149/200\n",
            "32/32 [==============================] - 0s 3ms/step - loss: 12.8122 - mae: 2.6730 - val_loss: 48.7260 - val_mae: 5.3283\n",
            "Epoch 150/200\n",
            "32/32 [==============================] - 0s 3ms/step - loss: 14.5606 - mae: 2.6927 - val_loss: 43.0387 - val_mae: 4.9447\n",
            "Epoch 151/200\n",
            "32/32 [==============================] - 0s 3ms/step - loss: 11.5115 - mae: 2.5768 - val_loss: 47.1374 - val_mae: 5.1105\n",
            "Epoch 152/200\n",
            "32/32 [==============================] - 0s 3ms/step - loss: 11.4729 - mae: 2.6737 - val_loss: 37.8948 - val_mae: 4.7611\n",
            "Epoch 153/200\n",
            "32/32 [==============================] - 0s 3ms/step - loss: 12.0007 - mae: 2.5721 - val_loss: 37.0107 - val_mae: 4.6400\n",
            "Epoch 154/200\n",
            "32/32 [==============================] - 0s 3ms/step - loss: 11.3189 - mae: 2.5194 - val_loss: 36.8164 - val_mae: 4.7530\n",
            "Epoch 155/200\n",
            "32/32 [==============================] - 0s 3ms/step - loss: 10.7229 - mae: 2.5735 - val_loss: 45.0090 - val_mae: 5.3580\n",
            "Epoch 156/200\n",
            "32/32 [==============================] - 0s 3ms/step - loss: 11.1018 - mae: 2.4619 - val_loss: 37.6862 - val_mae: 4.6688\n",
            "Epoch 157/200\n",
            "32/32 [==============================] - 0s 3ms/step - loss: 11.0475 - mae: 2.5227 - val_loss: 39.1827 - val_mae: 4.7601\n",
            "Epoch 158/200\n",
            "32/32 [==============================] - 0s 3ms/step - loss: 8.4945 - mae: 2.2071 - val_loss: 46.3139 - val_mae: 5.1552\n",
            "Epoch 159/200\n",
            "32/32 [==============================] - 0s 3ms/step - loss: 12.0581 - mae: 2.5947 - val_loss: 36.9693 - val_mae: 4.6402\n",
            "Epoch 160/200\n",
            "32/32 [==============================] - 0s 2ms/step - loss: 11.8414 - mae: 2.5558 - val_loss: 40.1020 - val_mae: 4.8749\n",
            "Epoch 161/200\n",
            "32/32 [==============================] - 0s 3ms/step - loss: 12.2825 - mae: 2.6577 - val_loss: 36.8541 - val_mae: 4.6167\n",
            "Epoch 162/200\n",
            "32/32 [==============================] - 0s 3ms/step - loss: 10.7212 - mae: 2.4494 - val_loss: 39.9927 - val_mae: 4.8030\n",
            "Epoch 163/200\n",
            "32/32 [==============================] - 0s 2ms/step - loss: 9.1171 - mae: 2.2459 - val_loss: 37.3504 - val_mae: 4.6102\n",
            "Epoch 164/200\n",
            "32/32 [==============================] - 0s 3ms/step - loss: 10.3062 - mae: 2.4490 - val_loss: 37.2346 - val_mae: 4.6430\n",
            "Epoch 165/200\n",
            "32/32 [==============================] - 0s 3ms/step - loss: 10.5022 - mae: 2.4586 - val_loss: 36.4503 - val_mae: 4.5745\n",
            "Epoch 166/200\n",
            "32/32 [==============================] - 0s 3ms/step - loss: 9.2248 - mae: 2.2679 - val_loss: 37.6404 - val_mae: 4.6282\n",
            "Epoch 167/200\n",
            "32/32 [==============================] - 0s 3ms/step - loss: 8.0645 - mae: 2.1985 - val_loss: 39.3471 - val_mae: 4.7652\n",
            "Epoch 168/200\n",
            "32/32 [==============================] - 0s 3ms/step - loss: 11.0755 - mae: 2.4433 - val_loss: 39.3403 - val_mae: 4.7938\n",
            "Epoch 169/200\n",
            "32/32 [==============================] - 0s 3ms/step - loss: 10.2277 - mae: 2.3380 - val_loss: 38.3934 - val_mae: 4.7070\n",
            "Epoch 170/200\n",
            "32/32 [==============================] - 0s 3ms/step - loss: 12.0890 - mae: 2.6034 - val_loss: 36.4158 - val_mae: 4.6637\n",
            "Epoch 171/200\n",
            "32/32 [==============================] - 0s 3ms/step - loss: 12.1568 - mae: 2.5057 - val_loss: 41.0539 - val_mae: 4.9173\n",
            "Epoch 172/200\n",
            "32/32 [==============================] - 0s 3ms/step - loss: 10.3680 - mae: 2.4411 - val_loss: 36.5972 - val_mae: 4.5958\n",
            "Epoch 173/200\n",
            "32/32 [==============================] - 0s 3ms/step - loss: 8.8909 - mae: 2.2338 - val_loss: 36.1877 - val_mae: 4.5771\n",
            "Epoch 174/200\n",
            "32/32 [==============================] - 0s 3ms/step - loss: 10.0247 - mae: 2.3511 - val_loss: 41.8573 - val_mae: 5.0153\n",
            "Epoch 175/200\n",
            "32/32 [==============================] - 0s 3ms/step - loss: 10.3823 - mae: 2.5022 - val_loss: 46.1096 - val_mae: 4.9968\n",
            "Epoch 176/200\n",
            "32/32 [==============================] - 0s 3ms/step - loss: 13.0083 - mae: 2.6950 - val_loss: 39.6634 - val_mae: 4.8767\n",
            "Epoch 177/200\n",
            "32/32 [==============================] - 0s 3ms/step - loss: 12.2028 - mae: 2.5390 - val_loss: 41.2772 - val_mae: 4.7889\n",
            "Epoch 178/200\n",
            "32/32 [==============================] - 0s 3ms/step - loss: 9.2138 - mae: 2.2703 - val_loss: 35.9116 - val_mae: 4.5184\n",
            "Epoch 179/200\n",
            "32/32 [==============================] - 0s 3ms/step - loss: 8.8342 - mae: 2.2549 - val_loss: 36.1654 - val_mae: 4.6266\n",
            "Epoch 180/200\n",
            "32/32 [==============================] - 0s 3ms/step - loss: 10.4937 - mae: 2.4572 - val_loss: 35.6756 - val_mae: 4.5042\n",
            "Epoch 181/200\n",
            "32/32 [==============================] - 0s 3ms/step - loss: 10.7037 - mae: 2.4394 - val_loss: 40.1433 - val_mae: 4.7185\n",
            "Epoch 182/200\n",
            "32/32 [==============================] - 0s 3ms/step - loss: 10.5474 - mae: 2.4360 - val_loss: 49.9564 - val_mae: 5.3416\n",
            "Epoch 183/200\n",
            "32/32 [==============================] - 0s 3ms/step - loss: 8.8862 - mae: 2.2954 - val_loss: 38.0062 - val_mae: 4.6423\n",
            "Epoch 184/200\n",
            "32/32 [==============================] - 0s 3ms/step - loss: 10.0798 - mae: 2.4135 - val_loss: 42.0324 - val_mae: 4.8628\n",
            "Epoch 185/200\n",
            "32/32 [==============================] - 0s 3ms/step - loss: 9.0217 - mae: 2.3149 - val_loss: 35.0448 - val_mae: 4.5900\n",
            "Epoch 186/200\n",
            "32/32 [==============================] - 0s 3ms/step - loss: 10.7282 - mae: 2.4972 - val_loss: 38.2432 - val_mae: 4.8174\n",
            "Epoch 187/200\n",
            "32/32 [==============================] - 0s 3ms/step - loss: 8.8226 - mae: 2.0752 - val_loss: 44.0046 - val_mae: 4.9151\n",
            "Epoch 188/200\n",
            "32/32 [==============================] - 0s 3ms/step - loss: 10.1714 - mae: 2.3995 - val_loss: 35.6179 - val_mae: 4.5573\n",
            "Epoch 189/200\n",
            "32/32 [==============================] - 0s 3ms/step - loss: 8.5516 - mae: 2.1754 - val_loss: 36.1925 - val_mae: 4.6297\n",
            "Epoch 190/200\n",
            "32/32 [==============================] - 0s 3ms/step - loss: 10.7424 - mae: 2.5158 - val_loss: 38.5505 - val_mae: 4.7835\n",
            "Epoch 191/200\n",
            "32/32 [==============================] - 0s 3ms/step - loss: 10.1656 - mae: 2.4350 - val_loss: 44.6110 - val_mae: 5.1063\n",
            "Epoch 192/200\n",
            "32/32 [==============================] - 0s 3ms/step - loss: 12.4546 - mae: 2.6332 - val_loss: 35.6155 - val_mae: 4.6962\n",
            "Epoch 193/200\n",
            "32/32 [==============================] - 0s 3ms/step - loss: 8.6043 - mae: 2.1583 - val_loss: 35.5572 - val_mae: 4.4762\n",
            "Epoch 194/200\n",
            "32/32 [==============================] - 0s 3ms/step - loss: 10.2919 - mae: 2.2969 - val_loss: 34.7112 - val_mae: 4.3851\n",
            "Epoch 195/200\n",
            "32/32 [==============================] - 0s 3ms/step - loss: 10.3689 - mae: 2.4315 - val_loss: 35.5029 - val_mae: 4.4667\n",
            "Epoch 196/200\n",
            "32/32 [==============================] - 0s 3ms/step - loss: 9.3954 - mae: 2.1871 - val_loss: 42.7234 - val_mae: 4.8850\n",
            "Epoch 197/200\n",
            "32/32 [==============================] - 0s 3ms/step - loss: 7.4848 - mae: 1.9818 - val_loss: 36.6914 - val_mae: 4.6108\n",
            "Epoch 198/200\n",
            "32/32 [==============================] - 0s 3ms/step - loss: 13.2622 - mae: 2.6735 - val_loss: 36.7826 - val_mae: 4.5795\n",
            "Epoch 199/200\n",
            "32/32 [==============================] - 0s 3ms/step - loss: 10.5995 - mae: 2.2976 - val_loss: 35.8724 - val_mae: 4.5517\n",
            "Epoch 200/200\n",
            "32/32 [==============================] - 0s 3ms/step - loss: 9.2304 - mae: 2.3119 - val_loss: 38.6564 - val_mae: 4.8001\n"
          ],
          "name": "stdout"
        }
      ]
    },
    {
      "cell_type": "code",
      "metadata": {
        "colab": {
          "base_uri": "https://localhost:8080/"
        },
        "id": "4RsfO8GnFSbq",
        "outputId": "ad2ade4e-980a-4006-b5b9-2bb27868b7d9"
      },
      "source": [
        "history.history.keys()"
      ],
      "execution_count": 37,
      "outputs": [
        {
          "output_type": "execute_result",
          "data": {
            "text/plain": [
              "dict_keys(['loss', 'mae', 'val_loss', 'val_mae'])"
            ]
          },
          "metadata": {
            "tags": []
          },
          "execution_count": 37
        }
      ]
    },
    {
      "cell_type": "code",
      "metadata": {
        "colab": {
          "base_uri": "https://localhost:8080/"
        },
        "id": "h3J7tIOYFXVz",
        "outputId": "8c73a833-ce38-47ba-eb29-951783ec976b"
      },
      "source": [
        "loss,mae=network.evaluate(X_test,Y_test)"
      ],
      "execution_count": 38,
      "outputs": [
        {
          "output_type": "stream",
          "text": [
            "10/10 [==============================] - 0s 1ms/step - loss: 36.3929 - mae: 4.4028\n"
          ],
          "name": "stdout"
        }
      ]
    },
    {
      "cell_type": "code",
      "metadata": {
        "id": "PVf_dvXhFa6c"
      },
      "source": [
        "val_mae = history.history['val_mae']\n",
        "val_loss = history.history['val_loss']"
      ],
      "execution_count": 39,
      "outputs": []
    },
    {
      "cell_type": "code",
      "metadata": {
        "colab": {
          "base_uri": "https://localhost:8080/",
          "height": 295
        },
        "id": "am40DmgNFhSi",
        "outputId": "7b8becb8-ea99-4ed0-8e0d-86e6c124c25c"
      },
      "source": [
        "import matplotlib.pyplot as plt \n",
        "history_dict = history.history\n",
        "loss_values = history_dict['loss']\n",
        "val_loss_values = history_dict['val_loss']\n",
        "epochs = range(200)\n",
        "plt.plot(epochs, loss_values, 'bo', label='Training loss')\n",
        "plt.plot(epochs, val_loss_values, 'b', label='Validation loss')\n",
        "plt.title('Training and validation loss')\n",
        "plt.xlabel('Epochs')\n",
        "plt.ylabel('Loss')\n",
        "plt.legend()\n",
        "plt.show()"
      ],
      "execution_count": 40,
      "outputs": [
        {
          "output_type": "display_data",
          "data": {
            "image/png": "[encoded data removed]",
            "text/plain": [
              "<Figure size 432x288 with 1 Axes>"
            ]
          },
          "metadata": {
            "tags": [],
            "needs_background": "light"
          }
        }
      ]
    },
    {
      "cell_type": "code",
      "metadata": {
        "colab": {
          "base_uri": "https://localhost:8080/",
          "height": 295
        },
        "id": "xUCWl5_MFl1a",
        "outputId": "dbf4edea-21fc-4720-f08e-cafb9c730817"
      },
      "source": [
        "import matplotlib.pyplot as plt \n",
        "acc_values = history_dict['mae']\n",
        "val_acc_values = history_dict['val_mae']\n",
        "plt.plot(epochs, acc_values, 'bo', label='Training mae')\n",
        "plt.plot(epochs, val_acc_values, 'b', label='Validation mae')\n",
        "plt.title('Training and validation accuracy')\n",
        "plt.xlabel('Epochs')\n",
        "plt.ylabel('mae')\n",
        "plt.legend()\n",
        "plt.show()"
      ],
      "execution_count": 41,
      "outputs": [
        {
          "output_type": "display_data",
          "data": {
            "image/png": "[encoded data removed]",
            "text/plain": [
              "<Figure size 432x288 with 1 Axes>"
            ]
          },
          "metadata": {
            "tags": [],
            "needs_background": "light"
          }
        }
      ]
    },
    {
      "cell_type": "code",
      "metadata": {
        "id": "232myKxSFq4W"
      },
      "source": [
        "y_pred = network.predict(X_test)"
      ],
      "execution_count": 42,
      "outputs": []
    },
    {
      "cell_type": "code",
      "metadata": {
        "id": "rLgHfHmGFuHU"
      },
      "source": [
        "# def denorm(x):\n",
        "#     return (x * Y_std) + Y_mean"
      ],
      "execution_count": null,
      "outputs": []
    },
    {
      "cell_type": "code",
      "metadata": {
        "id": "IKYtctvCFxtV"
      },
      "source": [
        "# y_pred = denorm(y_pred)"
      ],
      "execution_count": 43,
      "outputs": []
    },
    {
      "cell_type": "code",
      "metadata": {
        "id": "Y3-FQKI0F1dU"
      },
      "source": [
        "# y_true = denorm(Y_test)"
      ],
      "execution_count": null,
      "outputs": []
    },
    {
      "cell_type": "code",
      "metadata": {
        "id": "C5_dWi9UF4kN"
      },
      "source": [
        "y_pred = y_pred.reshape(y_pred.shape[0])"
      ],
      "execution_count": 44,
      "outputs": []
    },
    {
      "cell_type": "code",
      "metadata": {
        "colab": {
          "base_uri": "https://localhost:8080/"
        },
        "id": "G2K6hXKWF8IB",
        "outputId": "3c34c7ef-e18a-4ac2-d636-b646c38e178c"
      },
      "source": [
        "y_pred"
      ],
      "execution_count": 45,
      "outputs": [
        {
          "output_type": "execute_result",
          "data": {
            "text/plain": [
              "array([40.57528  , 45.1175   , 32.72408  , 35.334267 , 33.21016  ,\n",
              "       40.47959  , 45.3649   , 40.108944 , 44.7761   , 13.259399 ,\n",
              "       42.53429  , 45.39542  , 44.909264 , 45.037216 , 44.52735  ,\n",
              "       43.22278  , 30.126371 , 30.87489  , 70.49262  , 38.226456 ,\n",
              "       51.741417 , 39.71885  , 30.912224 , 34.632263 , 30.912224 ,\n",
              "       27.049755 , 43.406265 , 55.559677 , 35.768616 , 32.709312 ,\n",
              "       35.768616 , 35.768616 , 52.024624 , 48.24093  , 57.24147  ,\n",
              "       67.465096 , 63.06342  , 64.82486  , 70.55174  , 67.465096 ,\n",
              "       73.55605  , 65.80856  , 60.72969  , 58.03257  , 60.72969  ,\n",
              "       60.72969  , 75.38208  , 61.491474 , 71.33717  , 73.643875 ,\n",
              "       63.6476   , 72.9109   , 26.19786  , 31.279873 , 36.324474 ,\n",
              "       10.423686 , 36.146385 , 39.330086 , 25.146301 , 30.439304 ,\n",
              "       36.04505  , 37.6736   , 18.45277  , 38.202217 , 15.293659 ,\n",
              "       25.510204 ,  7.9801097, 14.140592 , 45.41853  ,  8.194623 ,\n",
              "       35.938583 , 30.73352  , 39.567245 , 23.735544 , 37.572815 ,\n",
              "       11.707368 , 39.789215 , 25.101963 , 31.38588  , 29.461979 ,\n",
              "       17.844398 , 41.635998 , 29.494932 , 41.097935 , 17.67007  ,\n",
              "       30.733894 , 44.42787  , 26.641342 , 15.009899 , 39.49176  ,\n",
              "       46.741173 , 49.172394 , 15.208257 , 27.730999 , 49.943054 ,\n",
              "       19.111332 , 34.066917 , 41.441864 , 47.199257 , 32.066345 ,\n",
              "       46.728287 , 63.675396 , 62.189636 , 20.834408 , 33.546402 ,\n",
              "       12.0200615, 24.67704  , 35.348755 , 33.78363  , 74.96587  ,\n",
              "       48.242992 , 49.73347  , 41.52375  , 30.898876 , 35.520607 ,\n",
              "       46.393654 , 53.488293 , 16.903406 , 17.08721  , 19.176836 ,\n",
              "       20.063686 , 17.680237 , 15.686492 , 15.185496 , 30.583582 ,\n",
              "       31.44659  , 30.41555  , 22.09436  , 18.262005 , 40.935867 ,\n",
              "       41.018246 , 38.829338 , 26.283367 , 28.702559 , 38.626534 ,\n",
              "       46.53473  , 33.956074 , 52.993793 , 52.928757 , 53.29699  ,\n",
              "       53.3128   , 38.91725  , 49.518127 , 49.518127 , 49.518127 ,\n",
              "       34.184586 , 38.58642  , 53.970154 , 55.650517 , 47.00242  ,\n",
              "       35.80579  , 34.161907 , 39.153618 , 51.65802  , 49.372    ,\n",
              "       51.325764 , 44.214184 , 62.561592 , 33.88877  , 62.979366 ,\n",
              "       48.824287 , 35.272964 , 26.330582 , 11.47078  , 39.308617 ,\n",
              "       65.14524  , 39.898315 , 42.847504 , 51.241974 , 29.727066 ,\n",
              "       13.050548 , 14.667925 , 34.58738  , 15.467019 , 49.53868  ,\n",
              "       21.937004 , 11.645328 , 42.52967  , 11.804518 , 17.113491 ,\n",
              "       17.958845 , 22.84679  , 21.50711  ,  7.8187556, 34.04909  ,\n",
              "        6.978694 , 27.857948 , 36.084328 , 25.42884  , 21.652311 ,\n",
              "       17.362352 , 23.017498 , 24.903576 , 32.015938 ,  6.5081167,\n",
              "       15.497876 ,  7.9515934, 16.8275   , 16.756155 , 21.066921 ,\n",
              "       14.554957 , 24.377495 , 33.303463 , 36.30745  , 25.965256 ,\n",
              "       43.84252  , 14.475082 ,  7.9254503, 27.183102 , 12.802154 ,\n",
              "        9.846915 , 13.300238 , 29.511543 , 13.156324 , 21.089455 ,\n",
              "       23.376675 , 18.353561 , 36.47723  ,  9.402817 ,  9.407233 ,\n",
              "       52.144997 , 12.800477 , 18.14608  , 12.640853 , 20.539562 ,\n",
              "       43.02822  , 68.20615  , 15.773267 , 26.969564 , 34.014538 ,\n",
              "       18.82891  , 24.406765 , 31.55074  , 31.272793 , 13.366824 ,\n",
              "       25.642246 , 17.039148 , 13.850936 , 23.043991 , 36.684593 ,\n",
              "       58.334393 , 49.683075 , 22.245525 , 10.088412 , 31.675388 ,\n",
              "       30.521786 , 34.918663 , 45.534252 , 55.32164  , 30.47373  ,\n",
              "       23.3434   , 36.274025 , 29.198893 , 35.99859  , 36.145554 ,\n",
              "       34.093994 , 14.688281 , 42.488644 , 64.70064  , 35.98585  ,\n",
              "       35.55224  , 37.42375  , 35.349174 , 39.33093  , 39.451366 ,\n",
              "       42.97763  , 41.4311   , 31.640396 , 25.89483  , 33.86522  ,\n",
              "       35.625847 , 39.224194 , 26.94614  ,  8.648313 , 24.380379 ,\n",
              "       50.958282 , 14.855651 , 42.318268 , 24.61728  , 37.046997 ,\n",
              "       32.1798   , 36.8323   , 35.658348 , 41.443546 , 29.855131 ,\n",
              "       51.458557 , 33.198524 , 33.91325  , 35.742973 , 39.242775 ,\n",
              "        6.140719 , 11.863751 , 29.868214 ,  8.624923 , 22.978424 ,\n",
              "       37.136963 , 42.44008  , 27.395775 , 34.235    , 47.313046 ,\n",
              "       15.198838 , 51.41028  , 36.160988 , 37.663193 , 35.39563  ,\n",
              "       39.393097 , 43.727123 , 43.02366  , 34.66606  ], dtype=float32)"
            ]
          },
          "metadata": {
            "tags": []
          },
          "execution_count": 45
        }
      ]
    },
    {
      "cell_type": "code",
      "metadata": {
        "colab": {
          "base_uri": "https://localhost:8080/"
        },
        "id": "a1IZKkv1GCDq",
        "outputId": "78b6ac9f-3385-4d96-ad40-b78f44160fdb"
      },
      "source": [
        "Y_test"
      ],
      "execution_count": 46,
      "outputs": [
        {
          "output_type": "execute_result",
          "data": {
            "text/plain": [
              "array([40.27, 41.05, 45.85, 38.07, 47.81, 39.36, 56.14, 36.25, 41.54,\n",
              "       15.05, 40.76, 46.93, 41.93, 50.95, 54.38, 55.06, 30.28, 40.86,\n",
              "       71.99, 36.3 , 40.2 , 33.4 , 35.3 , 24.4 , 35.3 , 24.1 , 46.8 ,\n",
              "       54.9 , 55.9 , 47.1 , 55.9 , 55.9 , 56.1 , 59.09, 60.29, 71.3 ,\n",
              "       74.7 , 66.  , 74.5 , 71.3 , 63.4 , 64.9 , 64.3 , 60.2 , 64.3 ,\n",
              "       64.3 , 77.3 , 54.9 , 71.7 , 70.7 , 56.5 , 73.3 , 24.89, 29.45,\n",
              "       34.56, 12.45, 33.96, 37.34, 24.9 , 34.2 , 39.61, 35.34, 22.72,\n",
              "       40.39, 25.48, 28.63,  7.75, 17.82, 49.97, 19.93, 39.59, 29.22,\n",
              "       42.35, 26.31, 42.55, 13.33, 44.4 , 31.35, 33.73, 32.66, 21.5 ,\n",
              "       48.67, 31.12, 34.74, 23.14, 41.89, 48.72, 33.36, 15.36, 30.85,\n",
              "       42.03, 51.06, 21.78, 42.29, 56.85, 21.91, 36.99, 47.4 , 51.96,\n",
              "       30.45, 47.71, 66.82, 66.95, 27.42, 35.96, 18.02, 38.6 , 30.22,\n",
              "       36.3 , 57.23, 78.8 , 60.28, 39.38, 44.33, 52.3 , 58.52, 69.84,\n",
              "       19.42, 14.94, 21.29, 23.08, 15.52, 11.98, 16.88, 33.09, 31.81,\n",
              "       33.01, 24.66, 26.2 , 46.39, 39.16, 41.41, 24.85, 27.22, 44.64,\n",
              "       53.46, 39.64, 55.02, 49.99, 56.81, 50.94, 41.16, 57.03, 44.42,\n",
              "       51.02, 35.36, 39.3 , 61.07, 54.77, 46.68, 25.51, 34.77, 41.67,\n",
              "       56.34, 61.46, 44.03, 33.49, 59.59, 29.55, 61.86, 62.05, 40.29,\n",
              "       21.97,  9.85, 43.73, 66.78, 48.85, 43.94, 54.32, 24.4 , 14.6 ,\n",
              "        9.62, 27.94, 17.24, 39.44, 24.07, 13.09, 38.7 ,  7.51, 17.58,\n",
              "       21.18, 22.63, 25.73,  8.  , 37.44, 10.73, 32.04, 38.89, 21.95,\n",
              "       24.1 , 21.26, 25.97, 32.33, 36.15,  7.84, 12.25, 11.17, 17.34,\n",
              "       17.54, 24.5 , 15.58, 26.85, 38.21, 43.7 , 19.54, 43.38,  6.9 ,\n",
              "        4.9 , 25.89, 10.39, 11.39, 15.03, 33.  , 17.28, 24.28, 14.14,\n",
              "       22.35, 43.25,  4.83, 10.35, 51.86, 15.87, 30.96, 14.5 , 22.44,\n",
              "       44.09, 71.62, 18.13, 27.34, 32.72,  6.27, 23.22, 27.92, 39.  ,\n",
              "       13.52, 25.18, 17.54, 14.2 , 21.65, 39.49, 61.92, 51.04, 24.  ,\n",
              "       11.47, 34.68, 38.11, 33.8 , 48.4 , 58.78, 29.59, 21.75, 39.09,\n",
              "       24.39, 36.35, 33.42, 39.05, 15.57, 44.61, 65.91, 33.4 , 40.06,\n",
              "       38.46, 37.26, 35.23, 41.54, 37.91, 28.63, 31.03, 23.84, 26.23,\n",
              "       40.68, 33.72, 23.52, 13.2 , 23.79, 46.23, 15.52, 43.57, 26.92,\n",
              "       29.07, 26.97, 30.65, 30.88, 28.63, 31.42, 40.93, 32.96, 26.23,\n",
              "       38.63, 33.72,  8.54, 13.46, 29.73, 13.2 , 23.74, 35.87, 33.76,\n",
              "       16.5 , 39.06, 45.3 , 15.57, 52.83, 33.4 , 37.36, 37.27, 35.23,\n",
              "       39.46, 37.92, 32.4 ])"
            ]
          },
          "metadata": {
            "tags": []
          },
          "execution_count": 46
        }
      ]
    },
    {
      "cell_type": "code",
      "metadata": {
        "colab": {
          "base_uri": "https://localhost:8080/"
        },
        "id": "q3P5CMnRGGFz",
        "outputId": "1155cbdc-cfb1-4c6b-abaa-440fff528019"
      },
      "source": [
        "y_pred.shape"
      ],
      "execution_count": 47,
      "outputs": [
        {
          "output_type": "execute_result",
          "data": {
            "text/plain": [
              "(309,)"
            ]
          },
          "metadata": {
            "tags": []
          },
          "execution_count": 47
        }
      ]
    },
    {
      "cell_type": "code",
      "metadata": {
        "colab": {
          "base_uri": "https://localhost:8080/",
          "height": 286
        },
        "id": "DJu0AyD-Gj6Q",
        "outputId": "747966e9-9ba7-4089-b7a5-b3519f8ec1c6"
      },
      "source": [
        "import numpy as np\n",
        "import matplotlib.pyplot as plt\n",
        "coef = np.polyfit(Y_test,y_pred,1)\n",
        "poly1d_fn = np.poly1d(coef) \n",
        "# poly1d_fn is now a function which takes in x and returns an estimate for y\n",
        "plt.plot(Y_test,y_pred, 'yo', Y_test, poly1d_fn(Y_test), '--k')\n",
        "plt.xlim(0, 100)\n",
        "plt.ylim(0, 100)"
      ],
      "execution_count": 51,
      "outputs": [
        {
          "output_type": "execute_result",
          "data": {
            "text/plain": [
              "(0.0, 100.0)"
            ]
          },
          "metadata": {
            "tags": []
          },
          "execution_count": 51
        },
        {
          "output_type": "display_data",
          "data": {
            "image/png": "[encoded data removed]",
            "text/plain": [
              "<Figure size 432x288 with 1 Axes>"
            ]
          },
          "metadata": {
            "tags": [],
            "needs_background": "light"
          }
        }
      ]
    }
  ]
}