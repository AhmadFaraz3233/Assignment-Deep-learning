{
  "nbformat": 4,
  "nbformat_minor": 0,
  "metadata": {
    "colab": {
      "name": "Credit_Card_Fraud.ipynb",
      "provenance": []
    },
    "kernelspec": {
      "name": "python3",
      "display_name": "Python 3"
    },
    "language_info": {
      "name": "python"
    }
  },
  "cells": [
    {
      "cell_type": "code",
      "metadata": {
        "id": "z-QYd1iG5ZPn"
      },
      "source": [
        "import tensorflow as tf\n",
        "import pandas as pd\n",
        "import numpy as np\n",
        "import matplotlib.pyplot as plt\n",
        "from keras import models\n",
        "from keras import layers\n",
        "from sklearn.model_selection import train_test_split"
      ],
      "execution_count": 1,
      "outputs": []
    },
    {
      "cell_type": "code",
      "metadata": {
        "id": "q-OFI2kB5eC9"
      },
      "source": [
        "from keras import regularizers\n",
        "df= pd.read_csv(\"creditcard.csv\")"
      ],
      "execution_count": 3,
      "outputs": []
    },
    {
      "cell_type": "markdown",
      "metadata": {
        "id": "g-HTDWir7DVG"
      },
      "source": [
        "# **Balancing the data**"
      ]
    },
    {
      "cell_type": "code",
      "metadata": {
        "id": "IGKcRppJ6_gP",
        "outputId": "661c0a0b-c689-4810-d54b-d00115b5c30e",
        "colab": {
          "base_uri": "https://localhost:8080/"
        }
      },
      "source": [
        "non_fraud=df[df[\"Class\"]==0]\n",
        "fraud = df[df[\"Class\"]==1]\n",
        "non_fraud.shape, fraud.shape"
      ],
      "execution_count": 4,
      "outputs": [
        {
          "output_type": "execute_result",
          "data": {
            "text/plain": [
              "((43529, 31), (134, 31))"
            ]
          },
          "metadata": {
            "tags": []
          },
          "execution_count": 4
        }
      ]
    },
    {
      "cell_type": "code",
      "metadata": {
        "id": "70rfMt3M7Lhm",
        "outputId": "2d529e37-65ae-44b7-b7bb-d2bb8c6cd041",
        "colab": {
          "base_uri": "https://localhost:8080/"
        }
      },
      "source": [
        "non_fraud=non_fraud.sample(fraud.shape[0])\n",
        "non_fraud.shape"
      ],
      "execution_count": 5,
      "outputs": [
        {
          "output_type": "execute_result",
          "data": {
            "text/plain": [
              "(134, 31)"
            ]
          },
          "metadata": {
            "tags": []
          },
          "execution_count": 5
        }
      ]
    },
    {
      "cell_type": "code",
      "metadata": {
        "id": "olC5ukEf7N0o",
        "outputId": "b7bb9732-19be-4cc0-8dda-cabf02d7ef43",
        "colab": {
          "base_uri": "https://localhost:8080/"
        }
      },
      "source": [
        "data = fraud.append(non_fraud, ignore_index=True)\n",
        "data.shape\n",
        "data[\"Class\"].value_counts()"
      ],
      "execution_count": 6,
      "outputs": [
        {
          "output_type": "execute_result",
          "data": {
            "text/plain": [
              "0.0    134\n",
              "1.0    134\n",
              "Name: Class, dtype: int64"
            ]
          },
          "metadata": {
            "tags": []
          },
          "execution_count": 6
        }
      ]
    },
    {
      "cell_type": "code",
      "metadata": {
        "id": "J_m_pkp37RlX"
      },
      "source": [
        "x_data= data.drop(columns=\"Class\", axis=0)\n",
        "label = data[\"Class\"]"
      ],
      "execution_count": 7,
      "outputs": []
    },
    {
      "cell_type": "markdown",
      "metadata": {
        "id": "C-PBWXRN7Ywq"
      },
      "source": [
        "# **Splitting Training and Test data**"
      ]
    },
    {
      "cell_type": "code",
      "metadata": {
        "id": "Ald8YtlJ7duG"
      },
      "source": [
        "train_data, test_data, train_labels, test_labels=train_test_split(x_data, label, test_size=0.3, random_state=0, stratify = label)"
      ],
      "execution_count": 8,
      "outputs": []
    },
    {
      "cell_type": "code",
      "metadata": {
        "id": "F8mditX07gj6",
        "outputId": "c24c73c3-6f5b-4197-fe85-b7c54e0396b1",
        "colab": {
          "base_uri": "https://localhost:8080/"
        }
      },
      "source": [
        "train_data.shape, test_data.shape"
      ],
      "execution_count": 9,
      "outputs": [
        {
          "output_type": "execute_result",
          "data": {
            "text/plain": [
              "((187, 30), (81, 30))"
            ]
          },
          "metadata": {
            "tags": []
          },
          "execution_count": 9
        }
      ]
    },
    {
      "cell_type": "markdown",
      "metadata": {
        "id": "uRyoGfQE7jNx"
      },
      "source": [
        "# **Normalizing the data**"
      ]
    },
    {
      "cell_type": "code",
      "metadata": {
        "id": "Lv_caq5X7oma"
      },
      "source": [
        "mean=train_data.mean(axis=0)\n",
        "std=train_data.std(axis=0)\n",
        "train_data = (train_data-mean)/std\n",
        "test_data = (test_data-mean)/std"
      ],
      "execution_count": 10,
      "outputs": []
    },
    {
      "cell_type": "code",
      "metadata": {
        "id": "xgVfy40B7rKo"
      },
      "source": [
        "train_labels=np.asarray(train_labels).astype(dtype=\"float64\")\n",
        "test_labels=np.asarray(test_labels).astype(dtype=\"float64\")"
      ],
      "execution_count": 11,
      "outputs": []
    },
    {
      "cell_type": "markdown",
      "metadata": {
        "id": "fOtf4pHW7uf3"
      },
      "source": [
        "# **Building The Network**"
      ]
    },
    {
      "cell_type": "code",
      "metadata": {
        "id": "8pEXlSBk7t1x"
      },
      "source": [
        "model= models.Sequential()\n",
        "model.add(layers.Dense(20, activation=\"relu\", input_shape=(train_data.shape[1],)))\n",
        "#model.add(layers.Dropout(0.1))\n",
        "model.add(layers.Dense(10, activation=\"relu\"))\n",
        "#model.add(layers.Dropout(0.5))\n",
        "model.add(layers.Dense(8,activation=\"relu\"))\n",
        "#model.add(layers.Dropout(0.5))\n",
        "model.add(layers.Dense(6,activation=\"relu\"))\n",
        "#model.add(layers.Dropout(0.5))\n",
        "model.add(layers.Dense(1,activation=\"sigmoid\"))\n",
        "\n",
        "model.compile(optimizer=\"adam\", loss=\"binary_crossentropy\", metrics=[\"accuracy\"])"
      ],
      "execution_count": 12,
      "outputs": []
    },
    {
      "cell_type": "code",
      "metadata": {
        "id": "gh-OTxqM8Lip",
        "outputId": "967cf0a3-17d9-4bd2-f8d8-993efabab227",
        "colab": {
          "base_uri": "https://localhost:8080/"
        }
      },
      "source": [
        "history=model.fit(train_data, train_labels, epochs=100, validation_split=.2)"
      ],
      "execution_count": 13,
      "outputs": [
        {
          "output_type": "stream",
          "text": [
            "Epoch 1/100\n",
            "5/5 [==============================] - 1s 68ms/step - loss: 0.7096 - accuracy: 0.3435 - val_loss: 0.7170 - val_accuracy: 0.2895\n",
            "Epoch 2/100\n",
            "5/5 [==============================] - 0s 12ms/step - loss: 0.6914 - accuracy: 0.5771 - val_loss: 0.6983 - val_accuracy: 0.4737\n",
            "Epoch 3/100\n",
            "5/5 [==============================] - 0s 11ms/step - loss: 0.6808 - accuracy: 0.6621 - val_loss: 0.6813 - val_accuracy: 0.5789\n",
            "Epoch 4/100\n",
            "5/5 [==============================] - 0s 14ms/step - loss: 0.6718 - accuracy: 0.6809 - val_loss: 0.6670 - val_accuracy: 0.6053\n",
            "Epoch 5/100\n",
            "5/5 [==============================] - 0s 13ms/step - loss: 0.6549 - accuracy: 0.7830 - val_loss: 0.6526 - val_accuracy: 0.7368\n",
            "Epoch 6/100\n",
            "5/5 [==============================] - 0s 12ms/step - loss: 0.6383 - accuracy: 0.8570 - val_loss: 0.6337 - val_accuracy: 0.8684\n",
            "Epoch 7/100\n",
            "5/5 [==============================] - 0s 12ms/step - loss: 0.6280 - accuracy: 0.8675 - val_loss: 0.6145 - val_accuracy: 0.8947\n",
            "Epoch 8/100\n",
            "5/5 [==============================] - 0s 13ms/step - loss: 0.6074 - accuracy: 0.8763 - val_loss: 0.5940 - val_accuracy: 0.9474\n",
            "Epoch 9/100\n",
            "5/5 [==============================] - 0s 10ms/step - loss: 0.5849 - accuracy: 0.9114 - val_loss: 0.5676 - val_accuracy: 0.9474\n",
            "Epoch 10/100\n",
            "5/5 [==============================] - 0s 13ms/step - loss: 0.5674 - accuracy: 0.9316 - val_loss: 0.5377 - val_accuracy: 0.9474\n",
            "Epoch 11/100\n",
            "5/5 [==============================] - 0s 11ms/step - loss: 0.5329 - accuracy: 0.9359 - val_loss: 0.5033 - val_accuracy: 0.9474\n",
            "Epoch 12/100\n",
            "5/5 [==============================] - 0s 11ms/step - loss: 0.5187 - accuracy: 0.9295 - val_loss: 0.4659 - val_accuracy: 0.9474\n",
            "Epoch 13/100\n",
            "5/5 [==============================] - 0s 11ms/step - loss: 0.4772 - accuracy: 0.9409 - val_loss: 0.4318 - val_accuracy: 0.9474\n",
            "Epoch 14/100\n",
            "5/5 [==============================] - 0s 11ms/step - loss: 0.4411 - accuracy: 0.9648 - val_loss: 0.4035 - val_accuracy: 0.9211\n",
            "Epoch 15/100\n",
            "5/5 [==============================] - 0s 11ms/step - loss: 0.4051 - accuracy: 0.9688 - val_loss: 0.3792 - val_accuracy: 0.9211\n",
            "Epoch 16/100\n",
            "5/5 [==============================] - 0s 14ms/step - loss: 0.3810 - accuracy: 0.9566 - val_loss: 0.3599 - val_accuracy: 0.9211\n",
            "Epoch 17/100\n",
            "5/5 [==============================] - 0s 11ms/step - loss: 0.3642 - accuracy: 0.9602 - val_loss: 0.3435 - val_accuracy: 0.9211\n",
            "Epoch 18/100\n",
            "5/5 [==============================] - 0s 11ms/step - loss: 0.3372 - accuracy: 0.9715 - val_loss: 0.3283 - val_accuracy: 0.9211\n",
            "Epoch 19/100\n",
            "5/5 [==============================] - 0s 12ms/step - loss: 0.3107 - accuracy: 0.9867 - val_loss: 0.3137 - val_accuracy: 0.9211\n",
            "Epoch 20/100\n",
            "5/5 [==============================] - 0s 12ms/step - loss: 0.2928 - accuracy: 0.9867 - val_loss: 0.2995 - val_accuracy: 0.9211\n",
            "Epoch 21/100\n",
            "5/5 [==============================] - 0s 13ms/step - loss: 0.2599 - accuracy: 0.9871 - val_loss: 0.2867 - val_accuracy: 0.9211\n",
            "Epoch 22/100\n",
            "5/5 [==============================] - 0s 11ms/step - loss: 0.2670 - accuracy: 0.9606 - val_loss: 0.2740 - val_accuracy: 0.9211\n",
            "Epoch 23/100\n",
            "5/5 [==============================] - 0s 12ms/step - loss: 0.2470 - accuracy: 0.9571 - val_loss: 0.2613 - val_accuracy: 0.9211\n",
            "Epoch 24/100\n",
            "5/5 [==============================] - 0s 13ms/step - loss: 0.2445 - accuracy: 0.9554 - val_loss: 0.2492 - val_accuracy: 0.9211\n",
            "Epoch 25/100\n",
            "5/5 [==============================] - 0s 13ms/step - loss: 0.2218 - accuracy: 0.9723 - val_loss: 0.2375 - val_accuracy: 0.9211\n",
            "Epoch 26/100\n",
            "5/5 [==============================] - 0s 12ms/step - loss: 0.2045 - accuracy: 0.9554 - val_loss: 0.2289 - val_accuracy: 0.9211\n",
            "Epoch 27/100\n",
            "5/5 [==============================] - 0s 12ms/step - loss: 0.2037 - accuracy: 0.9720 - val_loss: 0.2207 - val_accuracy: 0.9211\n",
            "Epoch 28/100\n",
            "5/5 [==============================] - 0s 13ms/step - loss: 0.1623 - accuracy: 0.9806 - val_loss: 0.2144 - val_accuracy: 0.9211\n",
            "Epoch 29/100\n",
            "5/5 [==============================] - 0s 13ms/step - loss: 0.1445 - accuracy: 0.9733 - val_loss: 0.2091 - val_accuracy: 0.9211\n",
            "Epoch 30/100\n",
            "5/5 [==============================] - 0s 11ms/step - loss: 0.1194 - accuracy: 0.9880 - val_loss: 0.2042 - val_accuracy: 0.9211\n",
            "Epoch 31/100\n",
            "5/5 [==============================] - 0s 11ms/step - loss: 0.1432 - accuracy: 0.9676 - val_loss: 0.2025 - val_accuracy: 0.9211\n",
            "Epoch 32/100\n",
            "5/5 [==============================] - 0s 12ms/step - loss: 0.1204 - accuracy: 0.9811 - val_loss: 0.2000 - val_accuracy: 0.9211\n",
            "Epoch 33/100\n",
            "5/5 [==============================] - 0s 12ms/step - loss: 0.1301 - accuracy: 0.9746 - val_loss: 0.1984 - val_accuracy: 0.9211\n",
            "Epoch 34/100\n",
            "5/5 [==============================] - 0s 12ms/step - loss: 0.1008 - accuracy: 0.9806 - val_loss: 0.1942 - val_accuracy: 0.9211\n",
            "Epoch 35/100\n",
            "5/5 [==============================] - 0s 11ms/step - loss: 0.0892 - accuracy: 0.9863 - val_loss: 0.1891 - val_accuracy: 0.9211\n",
            "Epoch 36/100\n",
            "5/5 [==============================] - 0s 11ms/step - loss: 0.0915 - accuracy: 0.9863 - val_loss: 0.1855 - val_accuracy: 0.9211\n",
            "Epoch 37/100\n",
            "5/5 [==============================] - 0s 13ms/step - loss: 0.0889 - accuracy: 0.9846 - val_loss: 0.1823 - val_accuracy: 0.9211\n",
            "Epoch 38/100\n",
            "5/5 [==============================] - 0s 11ms/step - loss: 0.0893 - accuracy: 0.9847 - val_loss: 0.1815 - val_accuracy: 0.9211\n",
            "Epoch 39/100\n",
            "5/5 [==============================] - 0s 12ms/step - loss: 0.1026 - accuracy: 0.9790 - val_loss: 0.1797 - val_accuracy: 0.9211\n",
            "Epoch 40/100\n",
            "5/5 [==============================] - 0s 12ms/step - loss: 0.0560 - accuracy: 0.9942 - val_loss: 0.1768 - val_accuracy: 0.9211\n",
            "Epoch 41/100\n",
            "5/5 [==============================] - 0s 11ms/step - loss: 0.0738 - accuracy: 0.9868 - val_loss: 0.1749 - val_accuracy: 0.9211\n",
            "Epoch 42/100\n",
            "5/5 [==============================] - 0s 11ms/step - loss: 0.0861 - accuracy: 0.9816 - val_loss: 0.1728 - val_accuracy: 0.9211\n",
            "Epoch 43/100\n",
            "5/5 [==============================] - 0s 14ms/step - loss: 0.0618 - accuracy: 0.9886 - val_loss: 0.1709 - val_accuracy: 0.9211\n",
            "Epoch 44/100\n",
            "5/5 [==============================] - 0s 11ms/step - loss: 0.0529 - accuracy: 0.9912 - val_loss: 0.1696 - val_accuracy: 0.9211\n",
            "Epoch 45/100\n",
            "5/5 [==============================] - 0s 11ms/step - loss: 0.0814 - accuracy: 0.9790 - val_loss: 0.1686 - val_accuracy: 0.9211\n",
            "Epoch 46/100\n",
            "5/5 [==============================] - 0s 13ms/step - loss: 0.0738 - accuracy: 0.9790 - val_loss: 0.1682 - val_accuracy: 0.9211\n",
            "Epoch 47/100\n",
            "5/5 [==============================] - 0s 11ms/step - loss: 0.0481 - accuracy: 0.9925 - val_loss: 0.1670 - val_accuracy: 0.9211\n",
            "Epoch 48/100\n",
            "5/5 [==============================] - 0s 11ms/step - loss: 0.0821 - accuracy: 0.9738 - val_loss: 0.1673 - val_accuracy: 0.9211\n",
            "Epoch 49/100\n",
            "5/5 [==============================] - 0s 12ms/step - loss: 0.0534 - accuracy: 0.9868 - val_loss: 0.1667 - val_accuracy: 0.9211\n",
            "Epoch 50/100\n",
            "5/5 [==============================] - 0s 12ms/step - loss: 0.0411 - accuracy: 0.9925 - val_loss: 0.1656 - val_accuracy: 0.9211\n",
            "Epoch 51/100\n",
            "5/5 [==============================] - 0s 12ms/step - loss: 0.0425 - accuracy: 0.9912 - val_loss: 0.1654 - val_accuracy: 0.9211\n",
            "Epoch 52/100\n",
            "5/5 [==============================] - 0s 13ms/step - loss: 0.0382 - accuracy: 0.9912 - val_loss: 0.1647 - val_accuracy: 0.9211\n",
            "Epoch 53/100\n",
            "5/5 [==============================] - 0s 11ms/step - loss: 0.0698 - accuracy: 0.9738 - val_loss: 0.1646 - val_accuracy: 0.9211\n",
            "Epoch 54/100\n",
            "5/5 [==============================] - 0s 14ms/step - loss: 0.0350 - accuracy: 0.9965 - val_loss: 0.1635 - val_accuracy: 0.9211\n",
            "Epoch 55/100\n",
            "5/5 [==============================] - 0s 13ms/step - loss: 0.0481 - accuracy: 0.9921 - val_loss: 0.1631 - val_accuracy: 0.9211\n",
            "Epoch 56/100\n",
            "5/5 [==============================] - 0s 13ms/step - loss: 0.0459 - accuracy: 0.9921 - val_loss: 0.1627 - val_accuracy: 0.9211\n",
            "Epoch 57/100\n",
            "5/5 [==============================] - 0s 12ms/step - loss: 0.0649 - accuracy: 0.9869 - val_loss: 0.1631 - val_accuracy: 0.9211\n",
            "Epoch 58/100\n",
            "5/5 [==============================] - 0s 11ms/step - loss: 0.0245 - accuracy: 0.9978 - val_loss: 0.1632 - val_accuracy: 0.9211\n",
            "Epoch 59/100\n",
            "5/5 [==============================] - 0s 14ms/step - loss: 0.0301 - accuracy: 0.9965 - val_loss: 0.1632 - val_accuracy: 0.9211\n",
            "Epoch 60/100\n",
            "5/5 [==============================] - 0s 12ms/step - loss: 0.0253 - accuracy: 0.9978 - val_loss: 0.1627 - val_accuracy: 0.9211\n",
            "Epoch 61/100\n",
            "5/5 [==============================] - 0s 13ms/step - loss: 0.0588 - accuracy: 0.9869 - val_loss: 0.1624 - val_accuracy: 0.9211\n",
            "Epoch 62/100\n",
            "5/5 [==============================] - 0s 12ms/step - loss: 0.0290 - accuracy: 0.9965 - val_loss: 0.1623 - val_accuracy: 0.9211\n",
            "Epoch 63/100\n",
            "5/5 [==============================] - 0s 12ms/step - loss: 0.0584 - accuracy: 0.9869 - val_loss: 0.1619 - val_accuracy: 0.9211\n",
            "Epoch 64/100\n",
            "5/5 [==============================] - 0s 12ms/step - loss: 0.0591 - accuracy: 0.9869 - val_loss: 0.1615 - val_accuracy: 0.9211\n",
            "Epoch 65/100\n",
            "5/5 [==============================] - 0s 13ms/step - loss: 0.0320 - accuracy: 0.9947 - val_loss: 0.1615 - val_accuracy: 0.9211\n",
            "Epoch 66/100\n",
            "5/5 [==============================] - 0s 12ms/step - loss: 0.0207 - accuracy: 0.9978 - val_loss: 0.1614 - val_accuracy: 0.9211\n",
            "Epoch 67/100\n",
            "5/5 [==============================] - 0s 11ms/step - loss: 0.0573 - accuracy: 0.9869 - val_loss: 0.1614 - val_accuracy: 0.9211\n",
            "Epoch 68/100\n",
            "5/5 [==============================] - 0s 12ms/step - loss: 0.0305 - accuracy: 0.9947 - val_loss: 0.1616 - val_accuracy: 0.9211\n",
            "Epoch 69/100\n",
            "5/5 [==============================] - 0s 11ms/step - loss: 0.0243 - accuracy: 0.9965 - val_loss: 0.1614 - val_accuracy: 0.9211\n",
            "Epoch 70/100\n",
            "5/5 [==============================] - 0s 12ms/step - loss: 0.0300 - accuracy: 0.9947 - val_loss: 0.1607 - val_accuracy: 0.9211\n",
            "Epoch 71/100\n",
            "5/5 [==============================] - 0s 13ms/step - loss: 0.0228 - accuracy: 0.9965 - val_loss: 0.1602 - val_accuracy: 0.9211\n",
            "Epoch 72/100\n",
            "5/5 [==============================] - 0s 14ms/step - loss: 0.0254 - accuracy: 0.9965 - val_loss: 0.1599 - val_accuracy: 0.9211\n",
            "Epoch 73/100\n",
            "5/5 [==============================] - 0s 14ms/step - loss: 0.0290 - accuracy: 0.9947 - val_loss: 0.1593 - val_accuracy: 0.9211\n",
            "Epoch 74/100\n",
            "5/5 [==============================] - 0s 13ms/step - loss: 0.0233 - accuracy: 0.9965 - val_loss: 0.1588 - val_accuracy: 0.9211\n",
            "Epoch 75/100\n",
            "5/5 [==============================] - 0s 12ms/step - loss: 0.0284 - accuracy: 0.9947 - val_loss: 0.1582 - val_accuracy: 0.9211\n",
            "Epoch 76/100\n",
            "5/5 [==============================] - 0s 11ms/step - loss: 0.0213 - accuracy: 0.9965 - val_loss: 0.1576 - val_accuracy: 0.9211\n",
            "Epoch 77/100\n",
            "5/5 [==============================] - 0s 13ms/step - loss: 0.0276 - accuracy: 0.9947 - val_loss: 0.1569 - val_accuracy: 0.9474\n",
            "Epoch 78/100\n",
            "5/5 [==============================] - 0s 12ms/step - loss: 0.0272 - accuracy: 0.9947 - val_loss: 0.1564 - val_accuracy: 0.9474\n",
            "Epoch 79/100\n",
            "5/5 [==============================] - 0s 13ms/step - loss: 0.0175 - accuracy: 0.9978 - val_loss: 0.1560 - val_accuracy: 0.9474\n",
            "Epoch 80/100\n",
            "5/5 [==============================] - 0s 12ms/step - loss: 0.0172 - accuracy: 0.9978 - val_loss: 0.1553 - val_accuracy: 0.9474\n",
            "Epoch 81/100\n",
            "5/5 [==============================] - 0s 11ms/step - loss: 0.0210 - accuracy: 0.9965 - val_loss: 0.1545 - val_accuracy: 0.9474\n",
            "Epoch 82/100\n",
            "5/5 [==============================] - 0s 13ms/step - loss: 0.0534 - accuracy: 0.9869 - val_loss: 0.1538 - val_accuracy: 0.9474\n",
            "Epoch 83/100\n",
            "5/5 [==============================] - 0s 12ms/step - loss: 0.0359 - accuracy: 0.9921 - val_loss: 0.1531 - val_accuracy: 0.9474\n",
            "Epoch 84/100\n",
            "5/5 [==============================] - 0s 13ms/step - loss: 0.0520 - accuracy: 0.9869 - val_loss: 0.1524 - val_accuracy: 0.9474\n",
            "Epoch 85/100\n",
            "5/5 [==============================] - 0s 13ms/step - loss: 0.0155 - accuracy: 0.9978 - val_loss: 0.1519 - val_accuracy: 0.9474\n",
            "Epoch 86/100\n",
            "5/5 [==============================] - 0s 12ms/step - loss: 0.0153 - accuracy: 0.9978 - val_loss: 0.1514 - val_accuracy: 0.9474\n",
            "Epoch 87/100\n",
            "5/5 [==============================] - 0s 13ms/step - loss: 0.0194 - accuracy: 0.9965 - val_loss: 0.1513 - val_accuracy: 0.9474\n",
            "Epoch 88/100\n",
            "5/5 [==============================] - 0s 14ms/step - loss: 0.0502 - accuracy: 0.9869 - val_loss: 0.1514 - val_accuracy: 0.9474\n",
            "Epoch 89/100\n",
            "5/5 [==============================] - 0s 15ms/step - loss: 0.0331 - accuracy: 0.9921 - val_loss: 0.1507 - val_accuracy: 0.9474\n",
            "Epoch 90/100\n",
            "5/5 [==============================] - 0s 15ms/step - loss: 0.0195 - accuracy: 0.9965 - val_loss: 0.1498 - val_accuracy: 0.9474\n",
            "Epoch 91/100\n",
            "5/5 [==============================] - 0s 13ms/step - loss: 0.0162 - accuracy: 0.9978 - val_loss: 0.1492 - val_accuracy: 0.9474\n",
            "Epoch 92/100\n",
            "5/5 [==============================] - 0s 13ms/step - loss: 0.0495 - accuracy: 0.9869 - val_loss: 0.1492 - val_accuracy: 0.9474\n",
            "Epoch 93/100\n",
            "5/5 [==============================] - 0s 13ms/step - loss: 0.0488 - accuracy: 0.9869 - val_loss: 0.1493 - val_accuracy: 0.9474\n",
            "Epoch 94/100\n",
            "5/5 [==============================] - 0s 13ms/step - loss: 0.0334 - accuracy: 0.9921 - val_loss: 0.1490 - val_accuracy: 0.9474\n",
            "Epoch 95/100\n",
            "5/5 [==============================] - 0s 12ms/step - loss: 0.0153 - accuracy: 0.9978 - val_loss: 0.1484 - val_accuracy: 0.9474\n",
            "Epoch 96/100\n",
            "5/5 [==============================] - 0s 12ms/step - loss: 0.0481 - accuracy: 0.9869 - val_loss: 0.1487 - val_accuracy: 0.9474\n",
            "Epoch 97/100\n",
            "5/5 [==============================] - 0s 11ms/step - loss: 0.0316 - accuracy: 0.9921 - val_loss: 0.1484 - val_accuracy: 0.9474\n",
            "Epoch 98/100\n",
            "5/5 [==============================] - 0s 13ms/step - loss: 0.0300 - accuracy: 0.9921 - val_loss: 0.1483 - val_accuracy: 0.9474\n",
            "Epoch 99/100\n",
            "5/5 [==============================] - 0s 13ms/step - loss: 0.0462 - accuracy: 0.9869 - val_loss: 0.1480 - val_accuracy: 0.9474\n",
            "Epoch 100/100\n",
            "5/5 [==============================] - 0s 12ms/step - loss: 0.0465 - accuracy: 0.9869 - val_loss: 0.1480 - val_accuracy: 0.9474\n"
          ],
          "name": "stdout"
        }
      ]
    },
    {
      "cell_type": "code",
      "metadata": {
        "id": "Fnh-4DbH7WQy",
        "outputId": "c931a5b1-fccf-4763-8dc7-fc50f4cdce90",
        "colab": {
          "base_uri": "https://localhost:8080/",
          "height": 279
        }
      },
      "source": [
        "loss=history.history[\"loss\"]\n",
        "val_loss=history.history[\"val_loss\"]\n",
        "epochs=range(1, len(loss)+1)\n",
        "plt.plot(epochs, loss, \"bo\", label=\"Training Loss\")\n",
        "plt.plot(epochs, val_loss, \"b\", label=\"Validation Loss\")\n",
        "plt.xlabel(\"Epochs\")\n",
        "plt.ylabel(\"Loss\")\n",
        "plt.legend()\n",
        "plt.show()"
      ],
      "execution_count": 14,
      "outputs": [
        {
          "output_type": "display_data",
          "data": {
            "image/png": "[encoded data removed]",
            "text/plain": [
              "<Figure size 432x288 with 1 Axes>"
            ]
          },
          "metadata": {
            "tags": [],
            "needs_background": "light"
          }
        }
      ]
    },
    {
      "cell_type": "code",
      "metadata": {
        "id": "JLvC2_w08UwQ",
        "outputId": "dc099e54-45b1-4e65-9094-b20118df859b",
        "colab": {
          "base_uri": "https://localhost:8080/",
          "height": 279
        }
      },
      "source": [
        "acc=history.history[\"accuracy\"]\n",
        "val_acc=history.history[\"val_accuracy\"]\n",
        "epochs=range(1, len(acc)+1)\n",
        "plt.plot(epochs[:], acc[:], \"bo\", label=\"Training Accuracy\")\n",
        "plt.plot(epochs[:], val_acc[:], \"b\", label=\"Validation Accuracy\")\n",
        "plt.xlabel(\"Epochs\")\n",
        "plt.ylabel(\"Accuracy\")\n",
        "plt.legend()\n",
        "plt.show()"
      ],
      "execution_count": 15,
      "outputs": [
        {
          "output_type": "display_data",
          "data": {
            "image/png": "[encoded data removed]",
            "text/plain": [
              "<Figure size 432x288 with 1 Axes>"
            ]
          },
          "metadata": {
            "tags": [],
            "needs_background": "light"
          }
        }
      ]
    },
    {
      "cell_type": "code",
      "metadata": {
        "id": "Fu162BUf8Zo7",
        "outputId": "ae659a76-c281-4913-c105-cff58be371d7",
        "colab": {
          "base_uri": "https://localhost:8080/"
        }
      },
      "source": [
        "test_loss_score, test_acc_score=model.evaluate(test_data, test_labels)"
      ],
      "execution_count": 16,
      "outputs": [
        {
          "output_type": "stream",
          "text": [
            "3/3 [==============================] - 0s 3ms/step - loss: 0.2661 - accuracy: 0.9259\n"
          ],
          "name": "stdout"
        }
      ]
    },
    {
      "cell_type": "code",
      "metadata": {
        "id": "OxxSWr188d7h",
        "outputId": "a34386c5-030a-48b6-d7a6-ee516ab5631f",
        "colab": {
          "base_uri": "https://localhost:8080/"
        }
      },
      "source": [
        "test_acc_score *100"
      ],
      "execution_count": 17,
      "outputs": [
        {
          "output_type": "execute_result",
          "data": {
            "text/plain": [
              "92.59259104728699"
            ]
          },
          "metadata": {
            "tags": []
          },
          "execution_count": 17
        }
      ]
    },
    {
      "cell_type": "code",
      "metadata": {
        "id": "fRFqfcIL8gzR"
      },
      "source": [
        "prediction=model.predict(test_data).astype(dtype=\"u8\")"
      ],
      "execution_count": 19,
      "outputs": []
    },
    {
      "cell_type": "code",
      "metadata": {
        "id": "qDWPDhWA8k9l",
        "outputId": "5882a838-a306-4e9f-b3e0-6387173bac28",
        "colab": {
          "base_uri": "https://localhost:8080/"
        }
      },
      "source": [
        "prediction[45:60]"
      ],
      "execution_count": 20,
      "outputs": [
        {
          "output_type": "execute_result",
          "data": {
            "text/plain": [
              "array([[0],\n",
              "       [0],\n",
              "       [0],\n",
              "       [0],\n",
              "       [0],\n",
              "       [0],\n",
              "       [0],\n",
              "       [0],\n",
              "       [0],\n",
              "       [0],\n",
              "       [0],\n",
              "       [0],\n",
              "       [0],\n",
              "       [1],\n",
              "       [0]], dtype=uint64)"
            ]
          },
          "metadata": {
            "tags": []
          },
          "execution_count": 20
        }
      ]
    },
    {
      "cell_type": "code",
      "metadata": {
        "id": "jToMOR0w8oZX",
        "outputId": "b2fd2595-fce4-4b8f-cac4-9201557eccc9",
        "colab": {
          "base_uri": "https://localhost:8080/"
        }
      },
      "source": [
        "test_labels[45:60]"
      ],
      "execution_count": 21,
      "outputs": [
        {
          "output_type": "execute_result",
          "data": {
            "text/plain": [
              "array([0., 0., 1., 1., 1., 1., 0., 0., 0., 0., 0., 0., 0., 1., 0.])"
            ]
          },
          "metadata": {
            "tags": []
          },
          "execution_count": 21
        }
      ]
    }
  ]
}